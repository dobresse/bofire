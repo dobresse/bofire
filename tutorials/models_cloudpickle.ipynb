{
 "cells": [
  {
   "attachments": {},
   "cell_type": "markdown",
   "metadata": {},
   "source": [
    "# Model Building with BoFire\n",
    "\n",
    "This notebooks shows how to setup and analyze models trained with BoFire. It is stil WIP."
   ]
  },
  {
   "attachments": {},
   "cell_type": "markdown",
   "metadata": {},
   "source": [
    "## Imports"
   ]
  },
  {
   "cell_type": "code",
   "execution_count": 8,
   "metadata": {},
   "outputs": [],
   "source": [
    "from bofire.domain.features import (\n",
    "    ContinuousInput,\n",
    "    ContinuousOutput,\n",
    "    InputFeatures,\n",
    "    OutputFeatures,\n",
    ")\n",
    "from bofire.models.gps import SingleTaskGPModel\n",
    "from bofire.utils.enum import RegressionMetricsEnum\n",
    "from bofire.models.feature_importance import permutation_importance_hook, combine_permutation_importances\n",
    "from bofire.plot.feature_importance import plot_feature_importance_by_feature_plotly"
   ]
  },
  {
   "attachments": {},
   "cell_type": "markdown",
   "metadata": {},
   "source": [
    "## Problem Setup\n",
    "\n",
    "For didactic purposes, we sample data from a Himmelblau benchmark function and use them to train a SingleTaskGP."
   ]
  },
  {
   "cell_type": "code",
   "execution_count": 9,
   "metadata": {},
   "outputs": [],
   "source": [
    "# Todo: replace this after JDs PR is ready.\n",
    "input_features = InputFeatures(\n",
    "        features=[\n",
    "            ContinuousInput(key=f\"x_{i+1}\", lower_bound=-4, upper_bound=4)\n",
    "            for i in range(3)\n",
    "        ]\n",
    "    )\n",
    "output_features = OutputFeatures(features=[ContinuousOutput(key=\"y\")])\n",
    "experiments = input_features.sample(n=50)\n",
    "experiments.eval(\"y=((x_1**2 + x_2 - 11)**2+(x_1 + x_2**2 -7)**2)\", inplace=True)\n",
    "experiments[\"valid_y\"] = 1"
   ]
  },
  {
   "attachments": {},
   "cell_type": "markdown",
   "metadata": {},
   "source": [
    "## Fit a Model\n"
   ]
  },
  {
   "cell_type": "code",
   "execution_count": 10,
   "metadata": {},
   "outputs": [],
   "source": [
    "import bofire.models.torch_pickle_module as torch_pickle_module\n",
    "import torch\n",
    "\n",
    "model = SingleTaskGPModel(\n",
    "    input_features=input_features,\n",
    "    output_features=output_features,\n",
    ")\n",
    "\n",
    "model.fit(experiments=experiments)\n",
    "\n",
    "preds = model.predict(experiments)\n",
    "\n",
    "torch.save(model.model, \"model.pth\", pickle_module=torch_pickle_module)\n",
    "\n"
   ]
  },
  {
   "cell_type": "code",
   "execution_count": 11,
   "metadata": {},
   "outputs": [
    {
     "data": {
      "text/plain": [
       "SingleTaskGP(\n",
       "  (likelihood): GaussianLikelihood(\n",
       "    (noise_covar): HomoskedasticNoise(\n",
       "      (noise_prior): GammaPrior()\n",
       "      (raw_noise_constraint): GreaterThan(1.000E-04)\n",
       "    )\n",
       "  )\n",
       "  (mean_module): ConstantMean()\n",
       "  (covar_module): ScaleKernel(\n",
       "    (base_kernel): MaternKernel(\n",
       "      (lengthscale_prior): GammaPrior()\n",
       "      (raw_lengthscale_constraint): Positive()\n",
       "    )\n",
       "    (outputscale_prior): GammaPrior()\n",
       "    (raw_outputscale_constraint): Positive()\n",
       "  )\n",
       "  (outcome_transform): Standardize()\n",
       "  (input_transform): Normalize()\n",
       ")"
      ]
     },
     "execution_count": 11,
     "metadata": {},
     "output_type": "execute_result"
    }
   ],
   "source": [
    "import torch\n",
    "import bofire.models.torch_pickle_module as torch_pickle_module\n",
    "\n",
    "\n",
    "_model = torch.load(open(\"model.pth\", \"rb\"), pickle_module=torch_pickle_module)\n",
    "_model"
   ]
  },
  {
   "cell_type": "code",
   "execution_count": 12,
   "metadata": {},
   "outputs": [
    {
     "data": {
      "text/html": [
       "<div>\n",
       "<style scoped>\n",
       "    .dataframe tbody tr th:only-of-type {\n",
       "        vertical-align: middle;\n",
       "    }\n",
       "\n",
       "    .dataframe tbody tr th {\n",
       "        vertical-align: top;\n",
       "    }\n",
       "\n",
       "    .dataframe thead th {\n",
       "        text-align: right;\n",
       "    }\n",
       "</style>\n",
       "<table border=\"1\" class=\"dataframe\">\n",
       "  <thead>\n",
       "    <tr style=\"text-align: right;\">\n",
       "      <th></th>\n",
       "      <th>y_pred</th>\n",
       "      <th>y_sd</th>\n",
       "    </tr>\n",
       "  </thead>\n",
       "  <tbody>\n",
       "    <tr>\n",
       "      <th>0</th>\n",
       "      <td>10.897950</td>\n",
       "      <td>0.988571</td>\n",
       "    </tr>\n",
       "    <tr>\n",
       "      <th>1</th>\n",
       "      <td>43.321671</td>\n",
       "      <td>0.988563</td>\n",
       "    </tr>\n",
       "    <tr>\n",
       "      <th>2</th>\n",
       "      <td>247.903182</td>\n",
       "      <td>0.952100</td>\n",
       "    </tr>\n",
       "    <tr>\n",
       "      <th>3</th>\n",
       "      <td>142.536041</td>\n",
       "      <td>0.985967</td>\n",
       "    </tr>\n",
       "    <tr>\n",
       "      <th>4</th>\n",
       "      <td>41.118443</td>\n",
       "      <td>0.952121</td>\n",
       "    </tr>\n",
       "    <tr>\n",
       "      <th>5</th>\n",
       "      <td>260.640439</td>\n",
       "      <td>0.983941</td>\n",
       "    </tr>\n",
       "    <tr>\n",
       "      <th>6</th>\n",
       "      <td>41.736218</td>\n",
       "      <td>0.987445</td>\n",
       "    </tr>\n",
       "    <tr>\n",
       "      <th>7</th>\n",
       "      <td>118.694726</td>\n",
       "      <td>0.988844</td>\n",
       "    </tr>\n",
       "    <tr>\n",
       "      <th>8</th>\n",
       "      <td>112.449517</td>\n",
       "      <td>0.987933</td>\n",
       "    </tr>\n",
       "    <tr>\n",
       "      <th>9</th>\n",
       "      <td>26.790959</td>\n",
       "      <td>0.977987</td>\n",
       "    </tr>\n",
       "    <tr>\n",
       "      <th>10</th>\n",
       "      <td>178.940039</td>\n",
       "      <td>0.988192</td>\n",
       "    </tr>\n",
       "    <tr>\n",
       "      <th>11</th>\n",
       "      <td>27.204146</td>\n",
       "      <td>0.980026</td>\n",
       "    </tr>\n",
       "    <tr>\n",
       "      <th>12</th>\n",
       "      <td>42.883859</td>\n",
       "      <td>0.987590</td>\n",
       "    </tr>\n",
       "    <tr>\n",
       "      <th>13</th>\n",
       "      <td>142.872208</td>\n",
       "      <td>0.988263</td>\n",
       "    </tr>\n",
       "    <tr>\n",
       "      <th>14</th>\n",
       "      <td>53.676507</td>\n",
       "      <td>0.931466</td>\n",
       "    </tr>\n",
       "    <tr>\n",
       "      <th>15</th>\n",
       "      <td>12.546973</td>\n",
       "      <td>0.988452</td>\n",
       "    </tr>\n",
       "    <tr>\n",
       "      <th>16</th>\n",
       "      <td>87.279488</td>\n",
       "      <td>0.987179</td>\n",
       "    </tr>\n",
       "    <tr>\n",
       "      <th>17</th>\n",
       "      <td>59.628703</td>\n",
       "      <td>0.988772</td>\n",
       "    </tr>\n",
       "    <tr>\n",
       "      <th>18</th>\n",
       "      <td>152.586201</td>\n",
       "      <td>0.980523</td>\n",
       "    </tr>\n",
       "    <tr>\n",
       "      <th>19</th>\n",
       "      <td>2.678433</td>\n",
       "      <td>0.988620</td>\n",
       "    </tr>\n",
       "    <tr>\n",
       "      <th>20</th>\n",
       "      <td>41.126665</td>\n",
       "      <td>0.988393</td>\n",
       "    </tr>\n",
       "    <tr>\n",
       "      <th>21</th>\n",
       "      <td>81.242654</td>\n",
       "      <td>0.986803</td>\n",
       "    </tr>\n",
       "    <tr>\n",
       "      <th>22</th>\n",
       "      <td>57.915845</td>\n",
       "      <td>0.988425</td>\n",
       "    </tr>\n",
       "    <tr>\n",
       "      <th>23</th>\n",
       "      <td>149.373929</td>\n",
       "      <td>0.983315</td>\n",
       "    </tr>\n",
       "    <tr>\n",
       "      <th>24</th>\n",
       "      <td>247.395756</td>\n",
       "      <td>0.988333</td>\n",
       "    </tr>\n",
       "    <tr>\n",
       "      <th>25</th>\n",
       "      <td>111.142950</td>\n",
       "      <td>0.972554</td>\n",
       "    </tr>\n",
       "    <tr>\n",
       "      <th>26</th>\n",
       "      <td>114.887852</td>\n",
       "      <td>0.986963</td>\n",
       "    </tr>\n",
       "    <tr>\n",
       "      <th>27</th>\n",
       "      <td>114.672141</td>\n",
       "      <td>0.986732</td>\n",
       "    </tr>\n",
       "    <tr>\n",
       "      <th>28</th>\n",
       "      <td>173.857171</td>\n",
       "      <td>0.986907</td>\n",
       "    </tr>\n",
       "    <tr>\n",
       "      <th>29</th>\n",
       "      <td>80.371293</td>\n",
       "      <td>0.979678</td>\n",
       "    </tr>\n",
       "    <tr>\n",
       "      <th>30</th>\n",
       "      <td>177.349705</td>\n",
       "      <td>0.986367</td>\n",
       "    </tr>\n",
       "    <tr>\n",
       "      <th>31</th>\n",
       "      <td>52.255823</td>\n",
       "      <td>0.982334</td>\n",
       "    </tr>\n",
       "    <tr>\n",
       "      <th>32</th>\n",
       "      <td>97.137933</td>\n",
       "      <td>0.983650</td>\n",
       "    </tr>\n",
       "    <tr>\n",
       "      <th>33</th>\n",
       "      <td>18.517428</td>\n",
       "      <td>0.988328</td>\n",
       "    </tr>\n",
       "    <tr>\n",
       "      <th>34</th>\n",
       "      <td>16.326222</td>\n",
       "      <td>0.987374</td>\n",
       "    </tr>\n",
       "    <tr>\n",
       "      <th>35</th>\n",
       "      <td>149.648601</td>\n",
       "      <td>0.982603</td>\n",
       "    </tr>\n",
       "    <tr>\n",
       "      <th>36</th>\n",
       "      <td>248.121440</td>\n",
       "      <td>0.963059</td>\n",
       "    </tr>\n",
       "    <tr>\n",
       "      <th>37</th>\n",
       "      <td>75.227401</td>\n",
       "      <td>0.984809</td>\n",
       "    </tr>\n",
       "    <tr>\n",
       "      <th>38</th>\n",
       "      <td>25.535189</td>\n",
       "      <td>0.985283</td>\n",
       "    </tr>\n",
       "    <tr>\n",
       "      <th>39</th>\n",
       "      <td>85.006094</td>\n",
       "      <td>0.987852</td>\n",
       "    </tr>\n",
       "    <tr>\n",
       "      <th>40</th>\n",
       "      <td>152.501789</td>\n",
       "      <td>0.978533</td>\n",
       "    </tr>\n",
       "    <tr>\n",
       "      <th>41</th>\n",
       "      <td>8.198199</td>\n",
       "      <td>0.988678</td>\n",
       "    </tr>\n",
       "    <tr>\n",
       "      <th>42</th>\n",
       "      <td>192.753055</td>\n",
       "      <td>0.986393</td>\n",
       "    </tr>\n",
       "    <tr>\n",
       "      <th>43</th>\n",
       "      <td>66.498177</td>\n",
       "      <td>0.986095</td>\n",
       "    </tr>\n",
       "    <tr>\n",
       "      <th>44</th>\n",
       "      <td>46.002985</td>\n",
       "      <td>0.986235</td>\n",
       "    </tr>\n",
       "    <tr>\n",
       "      <th>45</th>\n",
       "      <td>68.504489</td>\n",
       "      <td>0.988192</td>\n",
       "    </tr>\n",
       "    <tr>\n",
       "      <th>46</th>\n",
       "      <td>118.800039</td>\n",
       "      <td>0.983637</td>\n",
       "    </tr>\n",
       "    <tr>\n",
       "      <th>47</th>\n",
       "      <td>22.831559</td>\n",
       "      <td>0.976158</td>\n",
       "    </tr>\n",
       "    <tr>\n",
       "      <th>48</th>\n",
       "      <td>14.571901</td>\n",
       "      <td>0.987056</td>\n",
       "    </tr>\n",
       "    <tr>\n",
       "      <th>49</th>\n",
       "      <td>107.345874</td>\n",
       "      <td>0.973277</td>\n",
       "    </tr>\n",
       "  </tbody>\n",
       "</table>\n",
       "</div>"
      ],
      "text/plain": [
       "        y_pred      y_sd\n",
       "0    10.897950  0.988571\n",
       "1    43.321671  0.988563\n",
       "2   247.903182  0.952100\n",
       "3   142.536041  0.985967\n",
       "4    41.118443  0.952121\n",
       "5   260.640439  0.983941\n",
       "6    41.736218  0.987445\n",
       "7   118.694726  0.988844\n",
       "8   112.449517  0.987933\n",
       "9    26.790959  0.977987\n",
       "10  178.940039  0.988192\n",
       "11   27.204146  0.980026\n",
       "12   42.883859  0.987590\n",
       "13  142.872208  0.988263\n",
       "14   53.676507  0.931466\n",
       "15   12.546973  0.988452\n",
       "16   87.279488  0.987179\n",
       "17   59.628703  0.988772\n",
       "18  152.586201  0.980523\n",
       "19    2.678433  0.988620\n",
       "20   41.126665  0.988393\n",
       "21   81.242654  0.986803\n",
       "22   57.915845  0.988425\n",
       "23  149.373929  0.983315\n",
       "24  247.395756  0.988333\n",
       "25  111.142950  0.972554\n",
       "26  114.887852  0.986963\n",
       "27  114.672141  0.986732\n",
       "28  173.857171  0.986907\n",
       "29   80.371293  0.979678\n",
       "30  177.349705  0.986367\n",
       "31   52.255823  0.982334\n",
       "32   97.137933  0.983650\n",
       "33   18.517428  0.988328\n",
       "34   16.326222  0.987374\n",
       "35  149.648601  0.982603\n",
       "36  248.121440  0.963059\n",
       "37   75.227401  0.984809\n",
       "38   25.535189  0.985283\n",
       "39   85.006094  0.987852\n",
       "40  152.501789  0.978533\n",
       "41    8.198199  0.988678\n",
       "42  192.753055  0.986393\n",
       "43   66.498177  0.986095\n",
       "44   46.002985  0.986235\n",
       "45   68.504489  0.988192\n",
       "46  118.800039  0.983637\n",
       "47   22.831559  0.976158\n",
       "48   14.571901  0.987056\n",
       "49  107.345874  0.973277"
      ]
     },
     "execution_count": 12,
     "metadata": {},
     "output_type": "execute_result"
    }
   ],
   "source": [
    "model = SingleTaskGPModel(\n",
    "    input_features=input_features,\n",
    "    output_features=output_features,\n",
    ")\n",
    "model.model = _model\n",
    "model.predict(experiments)"
   ]
  },
  {
   "attachments": {},
   "cell_type": "markdown",
   "metadata": {},
   "source": [
    "## Cross Validation\n",
    "### Run the cross validation"
   ]
  },
  {
   "cell_type": "code",
   "execution_count": 3,
   "metadata": {},
   "outputs": [],
   "source": [
    "model = SingleTaskGPModel(\n",
    "    input_features=input_features,\n",
    "    output_features=output_features,\n",
    ")\n",
    "train_cv, test_cv, pi = model.cross_validate(experiments, folds=5, hooks={\"pemutation_imprtance\": permutation_importance_hook})"
   ]
  },
  {
   "cell_type": "code",
   "execution_count": 5,
   "metadata": {},
   "outputs": [
    {
     "data": {
      "text/html": [
       "<div>\n",
       "<style scoped>\n",
       "    .dataframe tbody tr th:only-of-type {\n",
       "        vertical-align: middle;\n",
       "    }\n",
       "\n",
       "    .dataframe tbody tr th {\n",
       "        vertical-align: top;\n",
       "    }\n",
       "\n",
       "    .dataframe thead th {\n",
       "        text-align: right;\n",
       "    }\n",
       "</style>\n",
       "<table border=\"1\" class=\"dataframe\">\n",
       "  <thead>\n",
       "    <tr style=\"text-align: right;\">\n",
       "      <th></th>\n",
       "      <th>x_1</th>\n",
       "      <th>x_2</th>\n",
       "      <th>x_3</th>\n",
       "    </tr>\n",
       "  </thead>\n",
       "  <tbody>\n",
       "    <tr>\n",
       "      <th>count</th>\n",
       "      <td>5.000000</td>\n",
       "      <td>5.000000</td>\n",
       "      <td>5.000000</td>\n",
       "    </tr>\n",
       "    <tr>\n",
       "      <th>mean</th>\n",
       "      <td>1.270835</td>\n",
       "      <td>0.774548</td>\n",
       "      <td>0.013411</td>\n",
       "    </tr>\n",
       "    <tr>\n",
       "      <th>std</th>\n",
       "      <td>0.367562</td>\n",
       "      <td>0.224985</td>\n",
       "      <td>0.023255</td>\n",
       "    </tr>\n",
       "    <tr>\n",
       "      <th>min</th>\n",
       "      <td>0.664452</td>\n",
       "      <td>0.380786</td>\n",
       "      <td>-0.014057</td>\n",
       "    </tr>\n",
       "    <tr>\n",
       "      <th>25%</th>\n",
       "      <td>1.224416</td>\n",
       "      <td>0.836436</td>\n",
       "      <td>0.003742</td>\n",
       "    </tr>\n",
       "    <tr>\n",
       "      <th>50%</th>\n",
       "      <td>1.390944</td>\n",
       "      <td>0.850764</td>\n",
       "      <td>0.005209</td>\n",
       "    </tr>\n",
       "    <tr>\n",
       "      <th>75%</th>\n",
       "      <td>1.452784</td>\n",
       "      <td>0.851853</td>\n",
       "      <td>0.025589</td>\n",
       "    </tr>\n",
       "    <tr>\n",
       "      <th>max</th>\n",
       "      <td>1.621579</td>\n",
       "      <td>0.952898</td>\n",
       "      <td>0.046572</td>\n",
       "    </tr>\n",
       "  </tbody>\n",
       "</table>\n",
       "</div>"
      ],
      "text/plain": [
       "            x_1       x_2       x_3\n",
       "count  5.000000  5.000000  5.000000\n",
       "mean   1.270835  0.774548  0.013411\n",
       "std    0.367562  0.224985  0.023255\n",
       "min    0.664452  0.380786 -0.014057\n",
       "25%    1.224416  0.836436  0.003742\n",
       "50%    1.390944  0.850764  0.005209\n",
       "75%    1.452784  0.851853  0.025589\n",
       "max    1.621579  0.952898  0.046572"
      ]
     },
     "execution_count": 5,
     "metadata": {},
     "output_type": "execute_result"
    }
   ],
   "source": [
    "combine_permutation_importances(pi[\"pemutation_imprtance\"], RegressionMetricsEnum.R2).describe()"
   ]
  },
  {
   "cell_type": "code",
   "execution_count": 6,
   "metadata": {},
   "outputs": [
    {
     "data": {
      "application/vnd.plotly.v1+json": {
       "config": {
        "plotlyServerURL": "https://plot.ly"
       },
       "data": [
        {
         "error_x": {
          "array": [
           0.2187299283524486,
           0.1692915000611234,
           0
          ],
          "type": "data",
          "visible": true
         },
         "name": "Importance",
         "opacity": 0.8,
         "orientation": "h",
         "type": "bar",
         "visible": true,
         "x": [
          0.44857142857142857,
          0.1865079365079365,
          0
         ],
         "y": [
          "x_1",
          "x_2",
          "x_3"
         ]
        },
        {
         "error_x": {
          "array": [
           10.590531237879688,
           8.235599103517089,
           2.21712267223817
          ],
          "type": "data",
          "visible": true
         },
         "name": "Importance",
         "opacity": 0.8,
         "orientation": "h",
         "type": "bar",
         "visible": false,
         "x": [
          45.02354111258689,
          32.65422312144163,
          1.426771837820818
         ],
         "y": [
          "x_1",
          "x_2",
          "x_3"
         ]
        },
        {
         "error_x": {
          "array": [
           0.5435306808544897,
           0.6717412322523129,
           0.13784958864235558
          ],
          "type": "data",
          "visible": true
         },
         "name": "Importance",
         "opacity": 0.8,
         "orientation": "h",
         "type": "bar",
         "visible": false,
         "x": [
          0.9098193910914503,
          0.6935628459137091,
          0.08540507291193279
         ],
         "y": [
          "x_1",
          "x_2",
          "x_3"
         ]
        },
        {
         "error_x": {
          "array": [
           2363.9313598074323,
           1531.5461716545715,
           122.18362914638139
          ],
          "type": "data",
          "visible": true
         },
         "name": "Importance",
         "opacity": 0.8,
         "orientation": "h",
         "type": "bar",
         "visible": false,
         "x": [
          5712.113341392949,
          3400.1015847465846,
          61.144368383537504
         ],
         "y": [
          "x_1",
          "x_2",
          "x_3"
         ]
        },
        {
         "error_x": {
          "array": [
           0.22514948207602858,
           0.1294202732439702,
           0.010861398893203408
          ],
          "type": "data",
          "visible": true
         },
         "name": "Importance",
         "opacity": 0.8,
         "orientation": "h",
         "type": "bar",
         "visible": false,
         "x": [
          0.7389491500758534,
          0.37805645687127065,
          0.005576050778659436
         ],
         "y": [
          "x_1",
          "x_2",
          "x_3"
         ]
        },
        {
         "error_x": {
          "array": [
           0.3675622777111624,
           0.2249847333932649,
           0.023255243226869438
          ],
          "type": "data",
          "visible": true
         },
         "name": "Importance",
         "opacity": 0.8,
         "orientation": "h",
         "type": "bar",
         "visible": false,
         "x": [
          1.2708351583520896,
          0.7745475727751855,
          0.013411056702217494
         ],
         "y": [
          "x_1",
          "x_2",
          "x_3"
         ]
        },
        {
         "error_x": {
          "array": [
           0.31838896575884673,
           0.11333689833965166,
           0.019514775076361894
          ],
          "type": "data",
          "visible": true
         },
         "name": "Importance",
         "opacity": 0.8,
         "orientation": "h",
         "type": "bar",
         "visible": false,
         "x": [
          0.6618181818181817,
          0.30496969696969706,
          -0.008242424242424173
         ],
         "y": [
          "x_1",
          "x_2",
          "x_3"
         ]
        }
       ],
       "layout": {
        "annotations": [
         {
          "align": "left",
          "showarrow": false,
          "text": "Permuation Feature Importances",
          "x": 0,
          "xanchor": "left",
          "xref": "paper",
          "y": -0.15,
          "yanchor": "top",
          "yref": "paper"
         }
        ],
        "height": 260,
        "hovermode": "closest",
        "margin": {
         "l": 24
        },
        "showlegend": false,
        "template": {
         "data": {
          "bar": [
           {
            "error_x": {
             "color": "#2a3f5f"
            },
            "error_y": {
             "color": "#2a3f5f"
            },
            "marker": {
             "line": {
              "color": "#E5ECF6",
              "width": 0.5
             },
             "pattern": {
              "fillmode": "overlay",
              "size": 10,
              "solidity": 0.2
             }
            },
            "type": "bar"
           }
          ],
          "barpolar": [
           {
            "marker": {
             "line": {
              "color": "#E5ECF6",
              "width": 0.5
             },
             "pattern": {
              "fillmode": "overlay",
              "size": 10,
              "solidity": 0.2
             }
            },
            "type": "barpolar"
           }
          ],
          "carpet": [
           {
            "aaxis": {
             "endlinecolor": "#2a3f5f",
             "gridcolor": "white",
             "linecolor": "white",
             "minorgridcolor": "white",
             "startlinecolor": "#2a3f5f"
            },
            "baxis": {
             "endlinecolor": "#2a3f5f",
             "gridcolor": "white",
             "linecolor": "white",
             "minorgridcolor": "white",
             "startlinecolor": "#2a3f5f"
            },
            "type": "carpet"
           }
          ],
          "choropleth": [
           {
            "colorbar": {
             "outlinewidth": 0,
             "ticks": ""
            },
            "type": "choropleth"
           }
          ],
          "contour": [
           {
            "colorbar": {
             "outlinewidth": 0,
             "ticks": ""
            },
            "colorscale": [
             [
              0,
              "#0d0887"
             ],
             [
              0.1111111111111111,
              "#46039f"
             ],
             [
              0.2222222222222222,
              "#7201a8"
             ],
             [
              0.3333333333333333,
              "#9c179e"
             ],
             [
              0.4444444444444444,
              "#bd3786"
             ],
             [
              0.5555555555555556,
              "#d8576b"
             ],
             [
              0.6666666666666666,
              "#ed7953"
             ],
             [
              0.7777777777777778,
              "#fb9f3a"
             ],
             [
              0.8888888888888888,
              "#fdca26"
             ],
             [
              1,
              "#f0f921"
             ]
            ],
            "type": "contour"
           }
          ],
          "contourcarpet": [
           {
            "colorbar": {
             "outlinewidth": 0,
             "ticks": ""
            },
            "type": "contourcarpet"
           }
          ],
          "heatmap": [
           {
            "colorbar": {
             "outlinewidth": 0,
             "ticks": ""
            },
            "colorscale": [
             [
              0,
              "#0d0887"
             ],
             [
              0.1111111111111111,
              "#46039f"
             ],
             [
              0.2222222222222222,
              "#7201a8"
             ],
             [
              0.3333333333333333,
              "#9c179e"
             ],
             [
              0.4444444444444444,
              "#bd3786"
             ],
             [
              0.5555555555555556,
              "#d8576b"
             ],
             [
              0.6666666666666666,
              "#ed7953"
             ],
             [
              0.7777777777777778,
              "#fb9f3a"
             ],
             [
              0.8888888888888888,
              "#fdca26"
             ],
             [
              1,
              "#f0f921"
             ]
            ],
            "type": "heatmap"
           }
          ],
          "heatmapgl": [
           {
            "colorbar": {
             "outlinewidth": 0,
             "ticks": ""
            },
            "colorscale": [
             [
              0,
              "#0d0887"
             ],
             [
              0.1111111111111111,
              "#46039f"
             ],
             [
              0.2222222222222222,
              "#7201a8"
             ],
             [
              0.3333333333333333,
              "#9c179e"
             ],
             [
              0.4444444444444444,
              "#bd3786"
             ],
             [
              0.5555555555555556,
              "#d8576b"
             ],
             [
              0.6666666666666666,
              "#ed7953"
             ],
             [
              0.7777777777777778,
              "#fb9f3a"
             ],
             [
              0.8888888888888888,
              "#fdca26"
             ],
             [
              1,
              "#f0f921"
             ]
            ],
            "type": "heatmapgl"
           }
          ],
          "histogram": [
           {
            "marker": {
             "pattern": {
              "fillmode": "overlay",
              "size": 10,
              "solidity": 0.2
             }
            },
            "type": "histogram"
           }
          ],
          "histogram2d": [
           {
            "colorbar": {
             "outlinewidth": 0,
             "ticks": ""
            },
            "colorscale": [
             [
              0,
              "#0d0887"
             ],
             [
              0.1111111111111111,
              "#46039f"
             ],
             [
              0.2222222222222222,
              "#7201a8"
             ],
             [
              0.3333333333333333,
              "#9c179e"
             ],
             [
              0.4444444444444444,
              "#bd3786"
             ],
             [
              0.5555555555555556,
              "#d8576b"
             ],
             [
              0.6666666666666666,
              "#ed7953"
             ],
             [
              0.7777777777777778,
              "#fb9f3a"
             ],
             [
              0.8888888888888888,
              "#fdca26"
             ],
             [
              1,
              "#f0f921"
             ]
            ],
            "type": "histogram2d"
           }
          ],
          "histogram2dcontour": [
           {
            "colorbar": {
             "outlinewidth": 0,
             "ticks": ""
            },
            "colorscale": [
             [
              0,
              "#0d0887"
             ],
             [
              0.1111111111111111,
              "#46039f"
             ],
             [
              0.2222222222222222,
              "#7201a8"
             ],
             [
              0.3333333333333333,
              "#9c179e"
             ],
             [
              0.4444444444444444,
              "#bd3786"
             ],
             [
              0.5555555555555556,
              "#d8576b"
             ],
             [
              0.6666666666666666,
              "#ed7953"
             ],
             [
              0.7777777777777778,
              "#fb9f3a"
             ],
             [
              0.8888888888888888,
              "#fdca26"
             ],
             [
              1,
              "#f0f921"
             ]
            ],
            "type": "histogram2dcontour"
           }
          ],
          "mesh3d": [
           {
            "colorbar": {
             "outlinewidth": 0,
             "ticks": ""
            },
            "type": "mesh3d"
           }
          ],
          "parcoords": [
           {
            "line": {
             "colorbar": {
              "outlinewidth": 0,
              "ticks": ""
             }
            },
            "type": "parcoords"
           }
          ],
          "pie": [
           {
            "automargin": true,
            "type": "pie"
           }
          ],
          "scatter": [
           {
            "marker": {
             "colorbar": {
              "outlinewidth": 0,
              "ticks": ""
             }
            },
            "type": "scatter"
           }
          ],
          "scatter3d": [
           {
            "line": {
             "colorbar": {
              "outlinewidth": 0,
              "ticks": ""
             }
            },
            "marker": {
             "colorbar": {
              "outlinewidth": 0,
              "ticks": ""
             }
            },
            "type": "scatter3d"
           }
          ],
          "scattercarpet": [
           {
            "marker": {
             "colorbar": {
              "outlinewidth": 0,
              "ticks": ""
             }
            },
            "type": "scattercarpet"
           }
          ],
          "scattergeo": [
           {
            "marker": {
             "colorbar": {
              "outlinewidth": 0,
              "ticks": ""
             }
            },
            "type": "scattergeo"
           }
          ],
          "scattergl": [
           {
            "marker": {
             "colorbar": {
              "outlinewidth": 0,
              "ticks": ""
             }
            },
            "type": "scattergl"
           }
          ],
          "scattermapbox": [
           {
            "marker": {
             "colorbar": {
              "outlinewidth": 0,
              "ticks": ""
             }
            },
            "type": "scattermapbox"
           }
          ],
          "scatterpolar": [
           {
            "marker": {
             "colorbar": {
              "outlinewidth": 0,
              "ticks": ""
             }
            },
            "type": "scatterpolar"
           }
          ],
          "scatterpolargl": [
           {
            "marker": {
             "colorbar": {
              "outlinewidth": 0,
              "ticks": ""
             }
            },
            "type": "scatterpolargl"
           }
          ],
          "scatterternary": [
           {
            "marker": {
             "colorbar": {
              "outlinewidth": 0,
              "ticks": ""
             }
            },
            "type": "scatterternary"
           }
          ],
          "surface": [
           {
            "colorbar": {
             "outlinewidth": 0,
             "ticks": ""
            },
            "colorscale": [
             [
              0,
              "#0d0887"
             ],
             [
              0.1111111111111111,
              "#46039f"
             ],
             [
              0.2222222222222222,
              "#7201a8"
             ],
             [
              0.3333333333333333,
              "#9c179e"
             ],
             [
              0.4444444444444444,
              "#bd3786"
             ],
             [
              0.5555555555555556,
              "#d8576b"
             ],
             [
              0.6666666666666666,
              "#ed7953"
             ],
             [
              0.7777777777777778,
              "#fb9f3a"
             ],
             [
              0.8888888888888888,
              "#fdca26"
             ],
             [
              1,
              "#f0f921"
             ]
            ],
            "type": "surface"
           }
          ],
          "table": [
           {
            "cells": {
             "fill": {
              "color": "#EBF0F8"
             },
             "line": {
              "color": "white"
             }
            },
            "header": {
             "fill": {
              "color": "#C8D4E3"
             },
             "line": {
              "color": "white"
             }
            },
            "type": "table"
           }
          ]
         },
         "layout": {
          "annotationdefaults": {
           "arrowcolor": "#2a3f5f",
           "arrowhead": 0,
           "arrowwidth": 1
          },
          "autotypenumbers": "strict",
          "coloraxis": {
           "colorbar": {
            "outlinewidth": 0,
            "ticks": ""
           }
          },
          "colorscale": {
           "diverging": [
            [
             0,
             "#8e0152"
            ],
            [
             0.1,
             "#c51b7d"
            ],
            [
             0.2,
             "#de77ae"
            ],
            [
             0.3,
             "#f1b6da"
            ],
            [
             0.4,
             "#fde0ef"
            ],
            [
             0.5,
             "#f7f7f7"
            ],
            [
             0.6,
             "#e6f5d0"
            ],
            [
             0.7,
             "#b8e186"
            ],
            [
             0.8,
             "#7fbc41"
            ],
            [
             0.9,
             "#4d9221"
            ],
            [
             1,
             "#276419"
            ]
           ],
           "sequential": [
            [
             0,
             "#0d0887"
            ],
            [
             0.1111111111111111,
             "#46039f"
            ],
            [
             0.2222222222222222,
             "#7201a8"
            ],
            [
             0.3333333333333333,
             "#9c179e"
            ],
            [
             0.4444444444444444,
             "#bd3786"
            ],
            [
             0.5555555555555556,
             "#d8576b"
            ],
            [
             0.6666666666666666,
             "#ed7953"
            ],
            [
             0.7777777777777778,
             "#fb9f3a"
            ],
            [
             0.8888888888888888,
             "#fdca26"
            ],
            [
             1,
             "#f0f921"
            ]
           ],
           "sequentialminus": [
            [
             0,
             "#0d0887"
            ],
            [
             0.1111111111111111,
             "#46039f"
            ],
            [
             0.2222222222222222,
             "#7201a8"
            ],
            [
             0.3333333333333333,
             "#9c179e"
            ],
            [
             0.4444444444444444,
             "#bd3786"
            ],
            [
             0.5555555555555556,
             "#d8576b"
            ],
            [
             0.6666666666666666,
             "#ed7953"
            ],
            [
             0.7777777777777778,
             "#fb9f3a"
            ],
            [
             0.8888888888888888,
             "#fdca26"
            ],
            [
             1,
             "#f0f921"
            ]
           ]
          },
          "colorway": [
           "#636efa",
           "#EF553B",
           "#00cc96",
           "#ab63fa",
           "#FFA15A",
           "#19d3f3",
           "#FF6692",
           "#B6E880",
           "#FF97FF",
           "#FECB52"
          ],
          "font": {
           "color": "#2a3f5f"
          },
          "geo": {
           "bgcolor": "white",
           "lakecolor": "white",
           "landcolor": "#E5ECF6",
           "showlakes": true,
           "showland": true,
           "subunitcolor": "white"
          },
          "hoverlabel": {
           "align": "left"
          },
          "hovermode": "closest",
          "mapbox": {
           "style": "light"
          },
          "paper_bgcolor": "white",
          "plot_bgcolor": "#E5ECF6",
          "polar": {
           "angularaxis": {
            "gridcolor": "white",
            "linecolor": "white",
            "ticks": ""
           },
           "bgcolor": "#E5ECF6",
           "radialaxis": {
            "gridcolor": "white",
            "linecolor": "white",
            "ticks": ""
           }
          },
          "scene": {
           "xaxis": {
            "backgroundcolor": "#E5ECF6",
            "gridcolor": "white",
            "gridwidth": 2,
            "linecolor": "white",
            "showbackground": true,
            "ticks": "",
            "zerolinecolor": "white"
           },
           "yaxis": {
            "backgroundcolor": "#E5ECF6",
            "gridcolor": "white",
            "gridwidth": 2,
            "linecolor": "white",
            "showbackground": true,
            "ticks": "",
            "zerolinecolor": "white"
           },
           "zaxis": {
            "backgroundcolor": "#E5ECF6",
            "gridcolor": "white",
            "gridwidth": 2,
            "linecolor": "white",
            "showbackground": true,
            "ticks": "",
            "zerolinecolor": "white"
           }
          },
          "shapedefaults": {
           "line": {
            "color": "#2a3f5f"
           }
          },
          "ternary": {
           "aaxis": {
            "gridcolor": "white",
            "linecolor": "white",
            "ticks": ""
           },
           "baxis": {
            "gridcolor": "white",
            "linecolor": "white",
            "ticks": ""
           },
           "bgcolor": "#E5ECF6",
           "caxis": {
            "gridcolor": "white",
            "linecolor": "white",
            "ticks": ""
           }
          },
          "title": {
           "x": 0.05
          },
          "xaxis": {
           "automargin": true,
           "gridcolor": "white",
           "linecolor": "white",
           "ticks": "",
           "title": {
            "standoff": 15
           },
           "zerolinecolor": "white",
           "zerolinewidth": 2
          },
          "yaxis": {
           "automargin": true,
           "gridcolor": "white",
           "linecolor": "white",
           "ticks": "",
           "title": {
            "standoff": 15
           },
           "zerolinecolor": "white",
           "zerolinewidth": 2
          }
         }
        },
        "title": {
         "text": "Absolute Feature Importances based on Permutation Feature Importance"
        },
        "updatemenus": [
         {
          "buttons": [
           {
            "args": [
             "visible",
             [
              true,
              false,
              false,
              false,
              false,
              false,
              false
             ]
            ],
            "label": "FISHER",
            "method": "restyle"
           },
           {
            "args": [
             "visible",
             [
              false,
              true,
              false,
              false,
              false,
              false,
              false
             ]
            ],
            "label": "MAE",
            "method": "restyle"
           },
           {
            "args": [
             "visible",
             [
              false,
              false,
              true,
              false,
              false,
              false,
              false
             ]
            ],
            "label": "MAPE",
            "method": "restyle"
           },
           {
            "args": [
             "visible",
             [
              false,
              false,
              false,
              true,
              false,
              false,
              false
             ]
            ],
            "label": "MSD",
            "method": "restyle"
           },
           {
            "args": [
             "visible",
             [
              false,
              false,
              false,
              false,
              true,
              false,
              false
             ]
            ],
            "label": "PEARSON",
            "method": "restyle"
           },
           {
            "args": [
             "visible",
             [
              false,
              false,
              false,
              false,
              false,
              true,
              false
             ]
            ],
            "label": "R2",
            "method": "restyle"
           },
           {
            "args": [
             "visible",
             [
              false,
              false,
              false,
              false,
              false,
              false,
              true
             ]
            ],
            "label": "SPEARMAN",
            "method": "restyle"
           }
          ],
          "pad": {
           "t": -40
          },
          "x": 0,
          "xanchor": "left",
          "y": 1,
          "yanchor": "top"
         }
        ]
       }
      }
     },
     "metadata": {},
     "output_type": "display_data"
    }
   ],
   "source": [
    "combined_importances = {m.name: combine_permutation_importances(pi[\"pemutation_imprtance\"], m).describe() for m in RegressionMetricsEnum}\n",
    "plot_feature_importance_by_feature_plotly(combined_importances,relative=False, caption=\"Permuation Feature Importances\", show_std=True, importance_measure=\"Permutation Feature Importance\")"
   ]
  },
  {
   "cell_type": "markdown",
   "metadata": {},
   "source": [
    "### Analyze the cross validation\n",
    "\n",
    "Plots are added in a future PR."
   ]
  },
  {
   "cell_type": "code",
   "execution_count": 7,
   "metadata": {},
   "outputs": [
    {
     "data": {
      "text/html": [
       "<div>\n",
       "<style scoped>\n",
       "    .dataframe tbody tr th:only-of-type {\n",
       "        vertical-align: middle;\n",
       "    }\n",
       "\n",
       "    .dataframe tbody tr th {\n",
       "        vertical-align: top;\n",
       "    }\n",
       "\n",
       "    .dataframe thead th {\n",
       "        text-align: right;\n",
       "    }\n",
       "</style>\n",
       "<table border=\"1\" class=\"dataframe\">\n",
       "  <thead>\n",
       "    <tr style=\"text-align: right;\">\n",
       "      <th></th>\n",
       "      <th>MAE</th>\n",
       "      <th>MSD</th>\n",
       "      <th>R2</th>\n",
       "      <th>MAPE</th>\n",
       "      <th>PEARSON</th>\n",
       "      <th>SPEARMAN</th>\n",
       "      <th>FISHER</th>\n",
       "    </tr>\n",
       "  </thead>\n",
       "  <tbody>\n",
       "    <tr>\n",
       "      <th>0</th>\n",
       "      <td>12.20462</td>\n",
       "      <td>346.819318</td>\n",
       "      <td>0.933413</td>\n",
       "      <td>0.303224</td>\n",
       "      <td>0.96649</td>\n",
       "      <td>0.941897</td>\n",
       "      <td>7.169177e-10</td>\n",
       "    </tr>\n",
       "  </tbody>\n",
       "</table>\n",
       "</div>"
      ],
      "text/plain": [
       "        MAE         MSD        R2      MAPE  PEARSON  SPEARMAN        FISHER\n",
       "0  12.20462  346.819318  0.933413  0.303224  0.96649  0.941897  7.169177e-10"
      ]
     },
     "execution_count": 7,
     "metadata": {},
     "output_type": "execute_result"
    }
   ],
   "source": [
    "# Performance on test sets\n",
    "test_cv.get_metrics(combine_folds=True)"
   ]
  },
  {
   "cell_type": "code",
   "execution_count": 8,
   "metadata": {},
   "outputs": [
    {
     "data": {
      "text/html": [
       "<div>\n",
       "<style scoped>\n",
       "    .dataframe tbody tr th:only-of-type {\n",
       "        vertical-align: middle;\n",
       "    }\n",
       "\n",
       "    .dataframe tbody tr th {\n",
       "        vertical-align: top;\n",
       "    }\n",
       "\n",
       "    .dataframe thead th {\n",
       "        text-align: right;\n",
       "    }\n",
       "</style>\n",
       "<table border=\"1\" class=\"dataframe\">\n",
       "  <thead>\n",
       "    <tr style=\"text-align: right;\">\n",
       "      <th></th>\n",
       "      <th>MAE</th>\n",
       "      <th>MSD</th>\n",
       "      <th>R2</th>\n",
       "      <th>MAPE</th>\n",
       "      <th>PEARSON</th>\n",
       "      <th>SPEARMAN</th>\n",
       "      <th>FISHER</th>\n",
       "    </tr>\n",
       "  </thead>\n",
       "  <tbody>\n",
       "    <tr>\n",
       "      <th>0</th>\n",
       "      <td>5.060924</td>\n",
       "      <td>68.171436</td>\n",
       "      <td>0.976600</td>\n",
       "      <td>0.083701</td>\n",
       "      <td>0.989339</td>\n",
       "      <td>0.975758</td>\n",
       "      <td>0.003968</td>\n",
       "    </tr>\n",
       "    <tr>\n",
       "      <th>1</th>\n",
       "      <td>19.146679</td>\n",
       "      <td>587.620400</td>\n",
       "      <td>0.894360</td>\n",
       "      <td>0.904898</td>\n",
       "      <td>0.952141</td>\n",
       "      <td>0.430303</td>\n",
       "      <td>0.500000</td>\n",
       "    </tr>\n",
       "    <tr>\n",
       "      <th>2</th>\n",
       "      <td>17.215570</td>\n",
       "      <td>640.296279</td>\n",
       "      <td>0.886919</td>\n",
       "      <td>0.125528</td>\n",
       "      <td>0.970113</td>\n",
       "      <td>0.987879</td>\n",
       "      <td>0.003968</td>\n",
       "    </tr>\n",
       "    <tr>\n",
       "      <th>3</th>\n",
       "      <td>5.786071</td>\n",
       "      <td>61.091020</td>\n",
       "      <td>0.980054</td>\n",
       "      <td>0.074658</td>\n",
       "      <td>0.992872</td>\n",
       "      <td>0.975758</td>\n",
       "      <td>0.003968</td>\n",
       "    </tr>\n",
       "    <tr>\n",
       "      <th>4</th>\n",
       "      <td>13.813856</td>\n",
       "      <td>376.917453</td>\n",
       "      <td>0.923035</td>\n",
       "      <td>0.327338</td>\n",
       "      <td>0.965278</td>\n",
       "      <td>0.878788</td>\n",
       "      <td>0.003968</td>\n",
       "    </tr>\n",
       "  </tbody>\n",
       "</table>\n",
       "</div>"
      ],
      "text/plain": [
       "         MAE         MSD        R2      MAPE   PEARSON  SPEARMAN    FISHER\n",
       "0   5.060924   68.171436  0.976600  0.083701  0.989339  0.975758  0.003968\n",
       "1  19.146679  587.620400  0.894360  0.904898  0.952141  0.430303  0.500000\n",
       "2  17.215570  640.296279  0.886919  0.125528  0.970113  0.987879  0.003968\n",
       "3   5.786071   61.091020  0.980054  0.074658  0.992872  0.975758  0.003968\n",
       "4  13.813856  376.917453  0.923035  0.327338  0.965278  0.878788  0.003968"
      ]
     },
     "metadata": {},
     "output_type": "display_data"
    },
    {
     "data": {
      "text/html": [
       "<div>\n",
       "<style scoped>\n",
       "    .dataframe tbody tr th:only-of-type {\n",
       "        vertical-align: middle;\n",
       "    }\n",
       "\n",
       "    .dataframe tbody tr th {\n",
       "        vertical-align: top;\n",
       "    }\n",
       "\n",
       "    .dataframe thead th {\n",
       "        text-align: right;\n",
       "    }\n",
       "</style>\n",
       "<table border=\"1\" class=\"dataframe\">\n",
       "  <thead>\n",
       "    <tr style=\"text-align: right;\">\n",
       "      <th></th>\n",
       "      <th>MAE</th>\n",
       "      <th>MSD</th>\n",
       "      <th>R2</th>\n",
       "      <th>MAPE</th>\n",
       "      <th>PEARSON</th>\n",
       "      <th>SPEARMAN</th>\n",
       "      <th>FISHER</th>\n",
       "    </tr>\n",
       "  </thead>\n",
       "  <tbody>\n",
       "    <tr>\n",
       "      <th>count</th>\n",
       "      <td>5.000000</td>\n",
       "      <td>5.000000</td>\n",
       "      <td>5.000000</td>\n",
       "      <td>5.000000</td>\n",
       "      <td>5.000000</td>\n",
       "      <td>5.000000</td>\n",
       "      <td>5.000000</td>\n",
       "    </tr>\n",
       "    <tr>\n",
       "      <th>mean</th>\n",
       "      <td>12.204620</td>\n",
       "      <td>346.819318</td>\n",
       "      <td>0.932194</td>\n",
       "      <td>0.303224</td>\n",
       "      <td>0.973949</td>\n",
       "      <td>0.849697</td>\n",
       "      <td>0.103175</td>\n",
       "    </tr>\n",
       "    <tr>\n",
       "      <th>std</th>\n",
       "      <td>6.483086</td>\n",
       "      <td>275.819274</td>\n",
       "      <td>0.044237</td>\n",
       "      <td>0.351640</td>\n",
       "      <td>0.017033</td>\n",
       "      <td>0.238545</td>\n",
       "      <td>0.221832</td>\n",
       "    </tr>\n",
       "    <tr>\n",
       "      <th>min</th>\n",
       "      <td>5.060924</td>\n",
       "      <td>61.091020</td>\n",
       "      <td>0.886919</td>\n",
       "      <td>0.074658</td>\n",
       "      <td>0.952141</td>\n",
       "      <td>0.430303</td>\n",
       "      <td>0.003968</td>\n",
       "    </tr>\n",
       "    <tr>\n",
       "      <th>25%</th>\n",
       "      <td>5.786071</td>\n",
       "      <td>68.171436</td>\n",
       "      <td>0.894360</td>\n",
       "      <td>0.083701</td>\n",
       "      <td>0.965278</td>\n",
       "      <td>0.878788</td>\n",
       "      <td>0.003968</td>\n",
       "    </tr>\n",
       "    <tr>\n",
       "      <th>50%</th>\n",
       "      <td>13.813856</td>\n",
       "      <td>376.917453</td>\n",
       "      <td>0.923035</td>\n",
       "      <td>0.125528</td>\n",
       "      <td>0.970113</td>\n",
       "      <td>0.975758</td>\n",
       "      <td>0.003968</td>\n",
       "    </tr>\n",
       "    <tr>\n",
       "      <th>75%</th>\n",
       "      <td>17.215570</td>\n",
       "      <td>587.620400</td>\n",
       "      <td>0.976600</td>\n",
       "      <td>0.327338</td>\n",
       "      <td>0.989339</td>\n",
       "      <td>0.975758</td>\n",
       "      <td>0.003968</td>\n",
       "    </tr>\n",
       "    <tr>\n",
       "      <th>max</th>\n",
       "      <td>19.146679</td>\n",
       "      <td>640.296279</td>\n",
       "      <td>0.980054</td>\n",
       "      <td>0.904898</td>\n",
       "      <td>0.992872</td>\n",
       "      <td>0.987879</td>\n",
       "      <td>0.500000</td>\n",
       "    </tr>\n",
       "  </tbody>\n",
       "</table>\n",
       "</div>"
      ],
      "text/plain": [
       "             MAE         MSD        R2      MAPE   PEARSON  SPEARMAN    FISHER\n",
       "count   5.000000    5.000000  5.000000  5.000000  5.000000  5.000000  5.000000\n",
       "mean   12.204620  346.819318  0.932194  0.303224  0.973949  0.849697  0.103175\n",
       "std     6.483086  275.819274  0.044237  0.351640  0.017033  0.238545  0.221832\n",
       "min     5.060924   61.091020  0.886919  0.074658  0.952141  0.430303  0.003968\n",
       "25%     5.786071   68.171436  0.894360  0.083701  0.965278  0.878788  0.003968\n",
       "50%    13.813856  376.917453  0.923035  0.125528  0.970113  0.975758  0.003968\n",
       "75%    17.215570  587.620400  0.976600  0.327338  0.989339  0.975758  0.003968\n",
       "max    19.146679  640.296279  0.980054  0.904898  0.992872  0.987879  0.500000"
      ]
     },
     "metadata": {},
     "output_type": "display_data"
    }
   ],
   "source": [
    "display(test_cv.get_metrics(combine_folds=False))\n",
    "display(test_cv.get_metrics(combine_folds=False).describe())"
   ]
  },
  {
   "cell_type": "code",
   "execution_count": null,
   "metadata": {},
   "outputs": [],
   "source": []
  }
 ],
 "metadata": {
  "kernelspec": {
   "display_name": "Python 3.8.12 ('everest_env')",
   "language": "python",
   "name": "python3"
  },
  "language_info": {
   "codemirror_mode": {
    "name": "ipython",
    "version": 3
   },
   "file_extension": ".py",
   "mimetype": "text/x-python",
   "name": "python",
   "nbconvert_exporter": "python",
   "pygments_lexer": "ipython3",
   "version": "3.8.12"
  },
  "orig_nbformat": 4,
  "vscode": {
   "interpreter": {
    "hash": "50077122d83430e029bf2362124cf3928cfea0c9d2b42539f789dcb8b3dbe07c"
   }
  }
 },
 "nbformat": 4,
 "nbformat_minor": 2
}
