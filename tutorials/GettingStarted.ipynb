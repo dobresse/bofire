{
 "cells": [
  {
   "attachments": {},
   "cell_type": "markdown",
   "metadata": {},
   "source": [
    "# Getting started"
   ]
  },
  {
   "attachments": {},
   "cell_type": "markdown",
   "metadata": {},
   "source": [
    "First, we have to define the optimization problem."
   ]
  },
  {
   "cell_type": "code",
   "execution_count": 1,
   "metadata": {},
   "outputs": [],
   "source": [
    "import os\n",
    "import sys\n",
    "import pathlib\n",
    "\n",
    "sys.path.append(os.path.join(str(pathlib.Path.cwd().parent)))"
   ]
  },
  {
   "attachments": {},
   "cell_type": "markdown",
   "metadata": {},
   "source": [
    "## Features"
   ]
  },
  {
   "cell_type": "code",
   "execution_count": 2,
   "metadata": {},
   "outputs": [
    {
     "name": "stderr",
     "output_type": "stream",
     "text": [
      "c:\\Users\\J32616\\Repositories\\bofire\\venv\\lib\\site-packages\\tqdm\\auto.py:22: TqdmWarning: IProgress not found. Please update jupyter and ipywidgets. See https://ipywidgets.readthedocs.io/en/stable/user_install.html\n",
      "  from .autonotebook import tqdm as notebook_tqdm\n",
      "c:\\Users\\J32616\\Repositories\\bofire\\bofire\\utils\\cheminformatics.py:9: UserWarning: rdkit not installed, BoFire's cheminformatics utilities cannot be used.\n",
      "  warnings.warn(\n"
     ]
    }
   ],
   "source": [
    "from bofire.data_models.features.api import ContinuousInput, DiscreteInput, CategoricalInput, CategoricalDescriptorInput\n",
    "\n",
    "x1 = ContinuousInput(key=\"x1\", bounds=[0,1])\n",
    "x2 = ContinuousInput(key=\"x2\", bounds=[0,1])\n",
    "x3 = ContinuousInput(key=\"x3\", bounds=[0,1])\n",
    "x4 = DiscreteInput(key=\"x4\", values=[1, 2, 5, 7.5])\n",
    "x5 = CategoricalInput(key=\"x5\", categories=[\"A\", \"B\", \"C\"], allowed=[True,True,False])\n",
    "x6 = CategoricalDescriptorInput(key=\"x6\", categories=[\"c1\", \"c2\", \"c3\"], descriptors=[\"d1\", \"d2\"], values = [[1,2],[2,5],[1,7]])"
   ]
  },
  {
   "cell_type": "code",
   "execution_count": 3,
   "metadata": {},
   "outputs": [],
   "source": [
    "from bofire.data_models.features.api import ContinuousOutput\n",
    "from bofire.data_models.objectives.api import MaximizeObjective, MinimizeObjective\n",
    "\n",
    "objective1 = MaximizeObjective(\n",
    "    w=1.0, \n",
    "    lower_bound=0, \n",
    "    upper_bound=1,\n",
    ")\n",
    "y1 = ContinuousOutput(key=\"y1\", objective=objective1)\n",
    "\n",
    "objective2 = MinimizeObjective(\n",
    "    w=1.0\n",
    ")\n",
    "y2 = ContinuousOutput(key=\"y2\", objective=objective2)"
   ]
  },
  {
   "cell_type": "code",
   "execution_count": 4,
   "metadata": {},
   "outputs": [],
   "source": [
    "from bofire.data_models.domain.api import Inputs, Outputs\n",
    "\n",
    "input_features = Inputs(features = [x1, x2, x3, x4, x5, x6])\n",
    "output_features = Outputs(features=[y1, y2])"
   ]
  },
  {
   "cell_type": "code",
   "execution_count": 5,
   "metadata": {},
   "outputs": [
    {
     "data": {
      "text/plain": [
       "CategoricalInput(type='CategoricalInput', key='x5', categories=['A', 'B', 'C'], allowed=[True, True, False])"
      ]
     },
     "execution_count": 5,
     "metadata": {},
     "output_type": "execute_result"
    }
   ],
   "source": [
    "x5 = input_features.get_by_key('x5')\n",
    "x5"
   ]
  },
  {
   "cell_type": "code",
   "execution_count": 6,
   "metadata": {},
   "outputs": [
    {
     "data": {
      "text/plain": [
       "['x1', 'x2', 'x3', 'x4', 'x6', 'x5']"
      ]
     },
     "execution_count": 6,
     "metadata": {},
     "output_type": "execute_result"
    }
   ],
   "source": [
    "input_features.get_keys()"
   ]
  },
  {
   "cell_type": "code",
   "execution_count": 7,
   "metadata": {},
   "outputs": [
    {
     "data": {
      "text/plain": [
       "['y1', 'y2']"
      ]
     },
     "execution_count": 7,
     "metadata": {},
     "output_type": "execute_result"
    }
   ],
   "source": [
    "output_features.get_keys()"
   ]
  },
  {
   "cell_type": "code",
   "execution_count": 8,
   "metadata": {},
   "outputs": [],
   "source": [
    "free_inputs = input_features.get_free()\n",
    "fixed_inputs = input_features.get_fixed()"
   ]
  },
  {
   "cell_type": "code",
   "execution_count": 9,
   "metadata": {},
   "outputs": [
    {
     "data": {
      "text/plain": [
       "0    A\n",
       "1    B\n",
       "Name: x5, dtype: object"
      ]
     },
     "execution_count": 9,
     "metadata": {},
     "output_type": "execute_result"
    }
   ],
   "source": [
    "samples_x5 = x5.sample(2)\n",
    "samples_x5"
   ]
  },
  {
   "cell_type": "code",
   "execution_count": 10,
   "metadata": {},
   "outputs": [
    {
     "data": {
      "text/html": [
       "<div>\n",
       "<style scoped>\n",
       "    .dataframe tbody tr th:only-of-type {\n",
       "        vertical-align: middle;\n",
       "    }\n",
       "\n",
       "    .dataframe tbody tr th {\n",
       "        vertical-align: top;\n",
       "    }\n",
       "\n",
       "    .dataframe thead th {\n",
       "        text-align: right;\n",
       "    }\n",
       "</style>\n",
       "<table border=\"1\" class=\"dataframe\">\n",
       "  <thead>\n",
       "    <tr style=\"text-align: right;\">\n",
       "      <th></th>\n",
       "      <th>x1</th>\n",
       "      <th>x2</th>\n",
       "      <th>x3</th>\n",
       "      <th>x4</th>\n",
       "      <th>x6</th>\n",
       "      <th>x5</th>\n",
       "    </tr>\n",
       "  </thead>\n",
       "  <tbody>\n",
       "    <tr>\n",
       "      <th>0</th>\n",
       "      <td>0.446951</td>\n",
       "      <td>0.233108</td>\n",
       "      <td>0.807302</td>\n",
       "      <td>1.0</td>\n",
       "      <td>c2</td>\n",
       "      <td>B</td>\n",
       "    </tr>\n",
       "    <tr>\n",
       "      <th>1</th>\n",
       "      <td>0.902728</td>\n",
       "      <td>0.905087</td>\n",
       "      <td>0.299669</td>\n",
       "      <td>5.0</td>\n",
       "      <td>c1</td>\n",
       "      <td>B</td>\n",
       "    </tr>\n",
       "    <tr>\n",
       "      <th>2</th>\n",
       "      <td>0.437934</td>\n",
       "      <td>0.846569</td>\n",
       "      <td>0.023396</td>\n",
       "      <td>7.5</td>\n",
       "      <td>c1</td>\n",
       "      <td>A</td>\n",
       "    </tr>\n",
       "    <tr>\n",
       "      <th>3</th>\n",
       "      <td>0.343520</td>\n",
       "      <td>0.058300</td>\n",
       "      <td>0.031096</td>\n",
       "      <td>5.0</td>\n",
       "      <td>c3</td>\n",
       "      <td>A</td>\n",
       "    </tr>\n",
       "    <tr>\n",
       "      <th>4</th>\n",
       "      <td>0.204773</td>\n",
       "      <td>0.211742</td>\n",
       "      <td>0.103538</td>\n",
       "      <td>5.0</td>\n",
       "      <td>c1</td>\n",
       "      <td>B</td>\n",
       "    </tr>\n",
       "    <tr>\n",
       "      <th>5</th>\n",
       "      <td>0.936187</td>\n",
       "      <td>0.330185</td>\n",
       "      <td>0.903871</td>\n",
       "      <td>5.0</td>\n",
       "      <td>c1</td>\n",
       "      <td>A</td>\n",
       "    </tr>\n",
       "    <tr>\n",
       "      <th>6</th>\n",
       "      <td>0.426863</td>\n",
       "      <td>0.048808</td>\n",
       "      <td>0.187039</td>\n",
       "      <td>7.5</td>\n",
       "      <td>c1</td>\n",
       "      <td>A</td>\n",
       "    </tr>\n",
       "    <tr>\n",
       "      <th>7</th>\n",
       "      <td>0.361787</td>\n",
       "      <td>0.982932</td>\n",
       "      <td>0.287825</td>\n",
       "      <td>5.0</td>\n",
       "      <td>c3</td>\n",
       "      <td>A</td>\n",
       "    </tr>\n",
       "    <tr>\n",
       "      <th>8</th>\n",
       "      <td>0.517546</td>\n",
       "      <td>0.210103</td>\n",
       "      <td>0.531776</td>\n",
       "      <td>5.0</td>\n",
       "      <td>c1</td>\n",
       "      <td>B</td>\n",
       "    </tr>\n",
       "    <tr>\n",
       "      <th>9</th>\n",
       "      <td>0.602998</td>\n",
       "      <td>0.046365</td>\n",
       "      <td>0.683659</td>\n",
       "      <td>5.0</td>\n",
       "      <td>c1</td>\n",
       "      <td>B</td>\n",
       "    </tr>\n",
       "  </tbody>\n",
       "</table>\n",
       "</div>"
      ],
      "text/plain": [
       "         x1        x2        x3   x4  x6 x5\n",
       "0  0.446951  0.233108  0.807302  1.0  c2  B\n",
       "1  0.902728  0.905087  0.299669  5.0  c1  B\n",
       "2  0.437934  0.846569  0.023396  7.5  c1  A\n",
       "3  0.343520  0.058300  0.031096  5.0  c3  A\n",
       "4  0.204773  0.211742  0.103538  5.0  c1  B\n",
       "5  0.936187  0.330185  0.903871  5.0  c1  A\n",
       "6  0.426863  0.048808  0.187039  7.5  c1  A\n",
       "7  0.361787  0.982932  0.287825  5.0  c3  A\n",
       "8  0.517546  0.210103  0.531776  5.0  c1  B\n",
       "9  0.602998  0.046365  0.683659  5.0  c1  B"
      ]
     },
     "execution_count": 10,
     "metadata": {},
     "output_type": "execute_result"
    }
   ],
   "source": [
    "X = input_features.sample(n=10)\n",
    "X"
   ]
  },
  {
   "attachments": {},
   "cell_type": "markdown",
   "metadata": {},
   "source": [
    "## Constraints"
   ]
  },
  {
   "cell_type": "code",
   "execution_count": 11,
   "metadata": {},
   "outputs": [],
   "source": [
    "from bofire.data_models.constraints.api import LinearEqualityConstraint, LinearInequalityConstraint\n",
    "\n",
    "# A mixture: x1 + x2 + x3 = 1\n",
    "constr1 = LinearEqualityConstraint(features=[\"x1\", \"x2\", \"x3\"], coefficients=[1,1,1], rhs=1)\n",
    "\n",
    "# x1 + 2 * x3 < 0.8\n",
    "constr2 = LinearInequalityConstraint(features=[\"x1\", \"x3\"], coefficients=[1, 2], rhs=0.8)"
   ]
  },
  {
   "cell_type": "code",
   "execution_count": 12,
   "metadata": {},
   "outputs": [],
   "source": [
    "from bofire.data_models.constraints.api import NonlinearEqualityConstraint, NonlinearInequalityConstraint\n",
    "\n",
    "# The unit circle: x1**2 + x2**2 = 1\n",
    "constr3 = NonlinearEqualityConstraint(expression=\"x1**2 + x2**2 - 1\")\n",
    "\n",
    "# Require x1 < 0.5 if x5 == \"A\"\n",
    "constr4 = NonlinearInequalityConstraint(expression=\"(x1 - 0.5) * (x5 =='A')\")"
   ]
  },
  {
   "cell_type": "code",
   "execution_count": 13,
   "metadata": {},
   "outputs": [],
   "source": [
    "from bofire.data_models.constraints.api import NChooseKConstraint\n",
    "\n",
    "# Only 2 or 3 out of 3 parameters can be greater than zero\n",
    "constr5 = NChooseKConstraint(features=[\"x1\", \"x2\", \"x3\"], min_count=2, max_count=3, none_also_valid=True)"
   ]
  },
  {
   "cell_type": "code",
   "execution_count": 14,
   "metadata": {},
   "outputs": [],
   "source": [
    "from bofire.data_models.domain.api import Constraints\n",
    "\n",
    "constraints = Constraints(constraints=[constr1, constr2])"
   ]
  },
  {
   "cell_type": "code",
   "execution_count": 15,
   "metadata": {},
   "outputs": [
    {
     "data": {
      "text/plain": [
       "array([False, False,  True,  True,  True, False, False, False, False,\n",
       "       False])"
      ]
     },
     "execution_count": 15,
     "metadata": {},
     "output_type": "execute_result"
    }
   ],
   "source": [
    "constr2.is_fulfilled(X).values"
   ]
  },
  {
   "cell_type": "code",
   "execution_count": 16,
   "metadata": {},
   "outputs": [],
   "source": [
    "from bofire.data_models.objectives.api import MinimizeSigmoidObjective\n",
    "\n",
    "output_constraint = MinimizeSigmoidObjective(\n",
    "    w=1.0, \n",
    "    steepness=10,\n",
    "    tp=0.5\n",
    ")\n",
    "y3= ContinuousOutput(key=\"y3\", objective=output_constraint)\n",
    "\n",
    "output_features = Outputs(features=[y1, y2, y3])"
   ]
  },
  {
   "cell_type": "code",
   "execution_count": 17,
   "metadata": {},
   "outputs": [
    {
     "data": {
      "image/png": "[encoded data removed]",
      "text/plain": [
       "<Figure size 640x480 with 1 Axes>"
      ]
     },
     "metadata": {},
     "output_type": "display_data"
    }
   ],
   "source": [
    "_ = y3.plot(lower=0, upper=1)"
   ]
  },
  {
   "attachments": {},
   "cell_type": "markdown",
   "metadata": {},
   "source": [
    "## Domain"
   ]
  },
  {
   "cell_type": "code",
   "execution_count": 18,
   "metadata": {},
   "outputs": [],
   "source": [
    "from bofire.data_models.domain.api import Domain\n",
    "\n",
    "domain = Domain(\n",
    "    input_features=input_features, \n",
    "    output_features=output_features, \n",
    "    constraints=constraints\n",
    "    )"
   ]
  },
  {
   "cell_type": "code",
   "execution_count": 33,
   "metadata": {},
   "outputs": [
    {
     "ename": "AttributeError",
     "evalue": "type object 'Domain' has no attribute 'from_list'",
     "output_type": "error",
     "traceback": [
      "\u001b[1;31m---------------------------------------------------------------------------\u001b[0m",
      "\u001b[1;31mAttributeError\u001b[0m                            Traceback (most recent call last)",
      "Cell \u001b[1;32mIn[33], line 2\u001b[0m\n\u001b[0;32m      1\u001b[0m \u001b[39m# only runs after merge from Behrang\u001b[39;00m\n\u001b[1;32m----> 2\u001b[0m domain_single_objective \u001b[39m=\u001b[39m Domain\u001b[39m.\u001b[39;49mfrom_list(\n\u001b[0;32m      3\u001b[0m     input_features\u001b[39m=\u001b[39m[x1, x2, x3, x4, x5, x6], \n\u001b[0;32m      4\u001b[0m     output_features\u001b[39m=\u001b[39m[y1], \n\u001b[0;32m      5\u001b[0m     constraints\u001b[39m=\u001b[39m[]\n\u001b[0;32m      6\u001b[0m     )\n",
      "\u001b[1;31mAttributeError\u001b[0m: type object 'Domain' has no attribute 'from_list'"
     ]
    }
   ],
   "source": [
    "# only runs after merge from Behrang\n",
    "domain_single_objective = Domain.from_list(\n",
    "    input_features=[x1, x2, x3, x4, x5, x6], \n",
    "    output_features=[y1], \n",
    "    constraints=[]\n",
    "    )"
   ]
  },
  {
   "cell_type": "code",
   "execution_count": 35,
   "metadata": {},
   "outputs": [],
   "source": [
    "domain_single_objective = Domain(\n",
    "    input_features=Inputs(features=[x1, x2, x3, x4, x5, x6]), \n",
    "    output_features=Outputs(features=[y1])\n",
    "    )"
   ]
  },
  {
   "cell_type": "code",
   "execution_count": 19,
   "metadata": {},
   "outputs": [
    {
     "data": {
      "text/html": [
       "<div>\n",
       "<style scoped>\n",
       "    .dataframe tbody tr th:only-of-type {\n",
       "        vertical-align: middle;\n",
       "    }\n",
       "\n",
       "    .dataframe tbody tr th {\n",
       "        vertical-align: top;\n",
       "    }\n",
       "\n",
       "    .dataframe thead th {\n",
       "        text-align: right;\n",
       "    }\n",
       "</style>\n",
       "<table border=\"1\" class=\"dataframe\">\n",
       "  <thead>\n",
       "    <tr style=\"text-align: right;\">\n",
       "      <th></th>\n",
       "      <th>Type</th>\n",
       "      <th>Description</th>\n",
       "    </tr>\n",
       "  </thead>\n",
       "  <tbody>\n",
       "    <tr>\n",
       "      <th>x1</th>\n",
       "      <td>ContinuousInput</td>\n",
       "      <td>[0.0,1.0]</td>\n",
       "    </tr>\n",
       "    <tr>\n",
       "      <th>x2</th>\n",
       "      <td>ContinuousInput</td>\n",
       "      <td>[0.0,1.0]</td>\n",
       "    </tr>\n",
       "    <tr>\n",
       "      <th>x3</th>\n",
       "      <td>ContinuousInput</td>\n",
       "      <td>[0.0,1.0]</td>\n",
       "    </tr>\n",
       "    <tr>\n",
       "      <th>x4</th>\n",
       "      <td>DiscreteInput</td>\n",
       "      <td>type='DiscreteInput' key='x4' unit=None values...</td>\n",
       "    </tr>\n",
       "    <tr>\n",
       "      <th>x6</th>\n",
       "      <td>CategoricalDescriptorInput</td>\n",
       "      <td>3 categories</td>\n",
       "    </tr>\n",
       "    <tr>\n",
       "      <th>x5</th>\n",
       "      <td>CategoricalInput</td>\n",
       "      <td>3 categories</td>\n",
       "    </tr>\n",
       "    <tr>\n",
       "      <th>y1</th>\n",
       "      <td>ContinuousOutput</td>\n",
       "      <td>ContinuousOutputFeature</td>\n",
       "    </tr>\n",
       "    <tr>\n",
       "      <th>y2</th>\n",
       "      <td>ContinuousOutput</td>\n",
       "      <td>ContinuousOutputFeature</td>\n",
       "    </tr>\n",
       "    <tr>\n",
       "      <th>y3</th>\n",
       "      <td>ContinuousOutput</td>\n",
       "      <td>ContinuousOutputFeature</td>\n",
       "    </tr>\n",
       "  </tbody>\n",
       "</table>\n",
       "</div>"
      ],
      "text/plain": [
       "                          Type  \\\n",
       "x1             ContinuousInput   \n",
       "x2             ContinuousInput   \n",
       "x3             ContinuousInput   \n",
       "x4               DiscreteInput   \n",
       "x6  CategoricalDescriptorInput   \n",
       "x5            CategoricalInput   \n",
       "y1            ContinuousOutput   \n",
       "y2            ContinuousOutput   \n",
       "y3            ContinuousOutput   \n",
       "\n",
       "                                          Description  \n",
       "x1                                          [0.0,1.0]  \n",
       "x2                                          [0.0,1.0]  \n",
       "x3                                          [0.0,1.0]  \n",
       "x4  type='DiscreteInput' key='x4' unit=None values...  \n",
       "x6                                       3 categories  \n",
       "x5                                       3 categories  \n",
       "y1                            ContinuousOutputFeature  \n",
       "y2                            ContinuousOutputFeature  \n",
       "y3                            ContinuousOutputFeature  "
      ]
     },
     "execution_count": 19,
     "metadata": {},
     "output_type": "execute_result"
    }
   ],
   "source": [
    "domain.get_feature_reps_df()"
   ]
  },
  {
   "cell_type": "code",
   "execution_count": 20,
   "metadata": {},
   "outputs": [
    {
     "data": {
      "text/html": [
       "<div>\n",
       "<style scoped>\n",
       "    .dataframe tbody tr th:only-of-type {\n",
       "        vertical-align: middle;\n",
       "    }\n",
       "\n",
       "    .dataframe tbody tr th {\n",
       "        vertical-align: top;\n",
       "    }\n",
       "\n",
       "    .dataframe thead th {\n",
       "        text-align: right;\n",
       "    }\n",
       "</style>\n",
       "<table border=\"1\" class=\"dataframe\">\n",
       "  <thead>\n",
       "    <tr style=\"text-align: right;\">\n",
       "      <th></th>\n",
       "      <th>Type</th>\n",
       "      <th>Description</th>\n",
       "    </tr>\n",
       "  </thead>\n",
       "  <tbody>\n",
       "    <tr>\n",
       "      <th>0</th>\n",
       "      <td>LinearEqualityConstraint</td>\n",
       "      <td>1.0 * x1 + 1.0 * x2 + 1.0 * x3 = 1.0</td>\n",
       "    </tr>\n",
       "    <tr>\n",
       "      <th>1</th>\n",
       "      <td>LinearInequalityConstraint</td>\n",
       "      <td>1.0 * x1 + 2.0 * x3 &lt;= 0.8</td>\n",
       "    </tr>\n",
       "  </tbody>\n",
       "</table>\n",
       "</div>"
      ],
      "text/plain": [
       "                         Type                           Description\n",
       "0    LinearEqualityConstraint  1.0 * x1 + 1.0 * x2 + 1.0 * x3 = 1.0\n",
       "1  LinearInequalityConstraint            1.0 * x1 + 2.0 * x3 <= 0.8"
      ]
     },
     "execution_count": 20,
     "metadata": {},
     "output_type": "execute_result"
    }
   ],
   "source": [
    "domain.get_constraint_reps_df()"
   ]
  },
  {
   "attachments": {},
   "cell_type": "markdown",
   "metadata": {},
   "source": [
    "# Strategies"
   ]
  },
  {
   "attachments": {},
   "cell_type": "markdown",
   "metadata": {},
   "source": [
    "## Random strategy"
   ]
  },
  {
   "cell_type": "code",
   "execution_count": 22,
   "metadata": {},
   "outputs": [],
   "source": [
    "from bofire.data_models.strategies.api import RandomStrategy\n",
    "\n",
    "import bofire.strategies.mapper as strategy_mapper\n",
    "\n",
    "strategy_data_model = RandomStrategy(domain=domain)\n",
    "\n",
    "random_strategy = strategy_mapper.map(strategy_data_model)"
   ]
  },
  {
   "cell_type": "code",
   "execution_count": 24,
   "metadata": {},
   "outputs": [
    {
     "data": {
      "text/html": [
       "<div>\n",
       "<style scoped>\n",
       "    .dataframe tbody tr th:only-of-type {\n",
       "        vertical-align: middle;\n",
       "    }\n",
       "\n",
       "    .dataframe tbody tr th {\n",
       "        vertical-align: top;\n",
       "    }\n",
       "\n",
       "    .dataframe thead th {\n",
       "        text-align: right;\n",
       "    }\n",
       "</style>\n",
       "<table border=\"1\" class=\"dataframe\">\n",
       "  <thead>\n",
       "    <tr style=\"text-align: right;\">\n",
       "      <th></th>\n",
       "      <th>x1</th>\n",
       "      <th>x2</th>\n",
       "      <th>x3</th>\n",
       "      <th>x4</th>\n",
       "      <th>x6</th>\n",
       "      <th>x5</th>\n",
       "    </tr>\n",
       "  </thead>\n",
       "  <tbody>\n",
       "    <tr>\n",
       "      <th>0</th>\n",
       "      <td>0.169125</td>\n",
       "      <td>0.682277</td>\n",
       "      <td>0.148597</td>\n",
       "      <td>1.0</td>\n",
       "      <td>c2</td>\n",
       "      <td>A</td>\n",
       "    </tr>\n",
       "    <tr>\n",
       "      <th>1</th>\n",
       "      <td>0.033154</td>\n",
       "      <td>0.873228</td>\n",
       "      <td>0.093617</td>\n",
       "      <td>5.0</td>\n",
       "      <td>c2</td>\n",
       "      <td>A</td>\n",
       "    </tr>\n",
       "  </tbody>\n",
       "</table>\n",
       "</div>"
      ],
      "text/plain": [
       "         x1        x2        x3   x4  x6 x5\n",
       "0  0.169125  0.682277  0.148597  1.0  c2  A\n",
       "1  0.033154  0.873228  0.093617  5.0  c2  A"
      ]
     },
     "execution_count": 24,
     "metadata": {},
     "output_type": "execute_result"
    }
   ],
   "source": [
    "random_candidates = random_strategy.ask(2)\n",
    "\n",
    "random_candidates"
   ]
  },
  {
   "attachments": {},
   "cell_type": "markdown",
   "metadata": {},
   "source": [
    "## Single objective Bayesian Optimization"
   ]
  },
  {
   "cell_type": "code",
   "execution_count": 36,
   "metadata": {},
   "outputs": [
    {
     "data": {
      "text/html": [
       "<div>\n",
       "<style scoped>\n",
       "    .dataframe tbody tr th:only-of-type {\n",
       "        vertical-align: middle;\n",
       "    }\n",
       "\n",
       "    .dataframe tbody tr th {\n",
       "        vertical-align: top;\n",
       "    }\n",
       "\n",
       "    .dataframe thead th {\n",
       "        text-align: right;\n",
       "    }\n",
       "</style>\n",
       "<table border=\"1\" class=\"dataframe\">\n",
       "  <thead>\n",
       "    <tr style=\"text-align: right;\">\n",
       "      <th></th>\n",
       "      <th>x1</th>\n",
       "      <th>x2</th>\n",
       "      <th>x3</th>\n",
       "      <th>x4</th>\n",
       "      <th>x5</th>\n",
       "      <th>x6</th>\n",
       "      <th>y1</th>\n",
       "      <th>valid_y1</th>\n",
       "    </tr>\n",
       "  </thead>\n",
       "  <tbody>\n",
       "    <tr>\n",
       "      <th>0</th>\n",
       "      <td>0.0</td>\n",
       "      <td>0.7</td>\n",
       "      <td>0.3</td>\n",
       "      <td>1.0</td>\n",
       "      <td>C</td>\n",
       "      <td>c1</td>\n",
       "      <td>2.00</td>\n",
       "      <td>1</td>\n",
       "    </tr>\n",
       "    <tr>\n",
       "      <th>1</th>\n",
       "      <td>0.5</td>\n",
       "      <td>0.5</td>\n",
       "      <td>0.0</td>\n",
       "      <td>2.0</td>\n",
       "      <td>B</td>\n",
       "      <td>c2</td>\n",
       "      <td>4.25</td>\n",
       "      <td>1</td>\n",
       "    </tr>\n",
       "    <tr>\n",
       "      <th>2</th>\n",
       "      <td>0.2</td>\n",
       "      <td>0.6</td>\n",
       "      <td>0.2</td>\n",
       "      <td>5.0</td>\n",
       "      <td>A</td>\n",
       "      <td>c1</td>\n",
       "      <td>6.16</td>\n",
       "      <td>1</td>\n",
       "    </tr>\n",
       "    <tr>\n",
       "      <th>3</th>\n",
       "      <td>0.1</td>\n",
       "      <td>0.7</td>\n",
       "      <td>0.2</td>\n",
       "      <td>7.5</td>\n",
       "      <td>A</td>\n",
       "      <td>c2</td>\n",
       "      <td>9.59</td>\n",
       "      <td>1</td>\n",
       "    </tr>\n",
       "    <tr>\n",
       "      <th>4</th>\n",
       "      <td>0.0</td>\n",
       "      <td>0.7</td>\n",
       "      <td>0.3</td>\n",
       "      <td>2.0</td>\n",
       "      <td>B</td>\n",
       "      <td>c3</td>\n",
       "      <td>5.00</td>\n",
       "      <td>1</td>\n",
       "    </tr>\n",
       "    <tr>\n",
       "      <th>5</th>\n",
       "      <td>0.5</td>\n",
       "      <td>0.5</td>\n",
       "      <td>0.0</td>\n",
       "      <td>5.0</td>\n",
       "      <td>B</td>\n",
       "      <td>c3</td>\n",
       "      <td>8.25</td>\n",
       "      <td>1</td>\n",
       "    </tr>\n",
       "    <tr>\n",
       "      <th>6</th>\n",
       "      <td>0.2</td>\n",
       "      <td>0.6</td>\n",
       "      <td>0.2</td>\n",
       "      <td>7.5</td>\n",
       "      <td>A</td>\n",
       "      <td>c1</td>\n",
       "      <td>8.66</td>\n",
       "      <td>1</td>\n",
       "    </tr>\n",
       "    <tr>\n",
       "      <th>7</th>\n",
       "      <td>0.1</td>\n",
       "      <td>0.7</td>\n",
       "      <td>0.2</td>\n",
       "      <td>1.0</td>\n",
       "      <td>B</td>\n",
       "      <td>c2</td>\n",
       "      <td>3.09</td>\n",
       "      <td>1</td>\n",
       "    </tr>\n",
       "    <tr>\n",
       "      <th>8</th>\n",
       "      <td>0.0</td>\n",
       "      <td>0.7</td>\n",
       "      <td>0.3</td>\n",
       "      <td>5.0</td>\n",
       "      <td>A</td>\n",
       "      <td>c3</td>\n",
       "      <td>8.00</td>\n",
       "      <td>1</td>\n",
       "    </tr>\n",
       "    <tr>\n",
       "      <th>9</th>\n",
       "      <td>0.5</td>\n",
       "      <td>0.5</td>\n",
       "      <td>0.0</td>\n",
       "      <td>7.5</td>\n",
       "      <td>A</td>\n",
       "      <td>c1</td>\n",
       "      <td>8.75</td>\n",
       "      <td>1</td>\n",
       "    </tr>\n",
       "    <tr>\n",
       "      <th>10</th>\n",
       "      <td>0.2</td>\n",
       "      <td>0.6</td>\n",
       "      <td>0.2</td>\n",
       "      <td>1.0</td>\n",
       "      <td>B</td>\n",
       "      <td>c2</td>\n",
       "      <td>3.16</td>\n",
       "      <td>1</td>\n",
       "    </tr>\n",
       "    <tr>\n",
       "      <th>11</th>\n",
       "      <td>0.1</td>\n",
       "      <td>0.7</td>\n",
       "      <td>0.2</td>\n",
       "      <td>2.0</td>\n",
       "      <td>A</td>\n",
       "      <td>c3</td>\n",
       "      <td>5.09</td>\n",
       "      <td>1</td>\n",
       "    </tr>\n",
       "  </tbody>\n",
       "</table>\n",
       "</div>"
      ],
      "text/plain": [
       "     x1   x2   x3   x4 x5  x6    y1  valid_y1\n",
       "0   0.0  0.7  0.3  1.0  C  c1  2.00         1\n",
       "1   0.5  0.5  0.0  2.0  B  c2  4.25         1\n",
       "2   0.2  0.6  0.2  5.0  A  c1  6.16         1\n",
       "3   0.1  0.7  0.2  7.5  A  c2  9.59         1\n",
       "4   0.0  0.7  0.3  2.0  B  c3  5.00         1\n",
       "5   0.5  0.5  0.0  5.0  B  c3  8.25         1\n",
       "6   0.2  0.6  0.2  7.5  A  c1  8.66         1\n",
       "7   0.1  0.7  0.2  1.0  B  c2  3.09         1\n",
       "8   0.0  0.7  0.3  5.0  A  c3  8.00         1\n",
       "9   0.5  0.5  0.0  7.5  A  c1  8.75         1\n",
       "10  0.2  0.6  0.2  1.0  B  c2  3.16         1\n",
       "11  0.1  0.7  0.2  2.0  A  c3  5.09         1"
      ]
     },
     "execution_count": 36,
     "metadata": {},
     "output_type": "execute_result"
    }
   ],
   "source": [
    "import pandas as pd\n",
    "\n",
    "X = pd.DataFrame(\n",
    "    data={\n",
    "        \"x1\": [0, 0.5, 0.2, 0.1, 0, 0.5, 0.2, 0.1, 0, 0.5, 0.2, 0.1],\n",
    "        \"x2\": [0.7, 0.5, 0.6, 0.7, 0.7, 0.5, 0.6, 0.7, 0.7, 0.5, 0.6, 0.7],\n",
    "        \"x3\": [0.3, 0, 0.2, 0.2, 0.3, 0, 0.2, 0.2, 0.3, 0, 0.2, 0.2],\n",
    "        \"x4\": [1, 2, 5, 7.5, 2, 5, 7.5, 1, 5, 7.5, 1, 2],\n",
    "        \"x5\": [\"C\", \"B\", \"A\", \"A\", \"B\", \"B\", \"A\", \"B\", \"A\", \"A\", \"B\", \"A\"],\n",
    "        \"x6\": [\"c1\", \"c2\", \"c1\", \"c2\", \"c3\", \"c3\", \"c1\", \"c2\", \"c3\", \"c1\", \"c2\", \"c3\"],\n",
    "        \"y1\": [2, 4.25, 6.16, 9.59, 5, 8.25, 8.66, 3.09, 8, 8.75, 3.16, 5.09],\n",
    "        \"valid_y1\": [1, 1, 1, 1, 1, 1, 1, 1, 1, 1, 1, 1]\n",
    "    }\n",
    ")\n",
    "\n",
    "X"
   ]
  },
  {
   "cell_type": "code",
   "execution_count": 41,
   "metadata": {},
   "outputs": [],
   "source": [
    "from bofire.data_models.strategies.api import SoboStrategy\n",
    "from bofire.data_models.acquisition_functions.api import qNEI\n",
    "\n",
    "sobo_strategy_data_model = SoboStrategy(domain=domain_single_objective, acquisition_function=qNEI())\n",
    "\n",
    "sobo_strategy = strategy_mapper.map(sobo_strategy_data_model)\n",
    "\n",
    "sobo_strategy.tell(X)"
   ]
  },
  {
   "cell_type": "code",
   "execution_count": 44,
   "metadata": {},
   "outputs": [
    {
     "name": "stderr",
     "output_type": "stream",
     "text": [
      "c:\\Users\\J32616\\Repositories\\bofire\\venv\\lib\\site-packages\\botorch\\optim\\initializers.py:224: BadInitialCandidatesWarning: Unable to find non-zero acquisition function values - initial conditions are being selected randomly.\n",
      "  warnings.warn(\n",
      "c:\\Users\\J32616\\Repositories\\bofire\\venv\\lib\\site-packages\\botorch\\optim\\initializers.py:224: BadInitialCandidatesWarning: Unable to find non-zero acquisition function values - initial conditions are being selected randomly.\n",
      "  warnings.warn(\n",
      "c:\\Users\\J32616\\Repositories\\bofire\\venv\\lib\\site-packages\\botorch\\optim\\initializers.py:224: BadInitialCandidatesWarning: Unable to find non-zero acquisition function values - initial conditions are being selected randomly.\n",
      "  warnings.warn(\n",
      "c:\\Users\\J32616\\Repositories\\bofire\\venv\\lib\\site-packages\\botorch\\optim\\initializers.py:224: BadInitialCandidatesWarning: Unable to find non-zero acquisition function values - initial conditions are being selected randomly.\n",
      "  warnings.warn(\n",
      "c:\\Users\\J32616\\Repositories\\bofire\\venv\\lib\\site-packages\\botorch\\optim\\initializers.py:224: BadInitialCandidatesWarning: Unable to find non-zero acquisition function values - initial conditions are being selected randomly.\n",
      "  warnings.warn(\n",
      "c:\\Users\\J32616\\Repositories\\bofire\\venv\\lib\\site-packages\\botorch\\optim\\initializers.py:224: BadInitialCandidatesWarning: Unable to find non-zero acquisition function values - initial conditions are being selected randomly.\n",
      "  warnings.warn(\n",
      "c:\\Users\\J32616\\Repositories\\bofire\\venv\\lib\\site-packages\\botorch\\optim\\initializers.py:224: BadInitialCandidatesWarning: Unable to find non-zero acquisition function values - initial conditions are being selected randomly.\n",
      "  warnings.warn(\n",
      "c:\\Users\\J32616\\Repositories\\bofire\\venv\\lib\\site-packages\\botorch\\optim\\initializers.py:224: BadInitialCandidatesWarning: Unable to find non-zero acquisition function values - initial conditions are being selected randomly.\n",
      "  warnings.warn(\n",
      "c:\\Users\\J32616\\Repositories\\bofire\\venv\\lib\\site-packages\\botorch\\optim\\initializers.py:224: BadInitialCandidatesWarning: Unable to find non-zero acquisition function values - initial conditions are being selected randomly.\n",
      "  warnings.warn(\n",
      "c:\\Users\\J32616\\Repositories\\bofire\\venv\\lib\\site-packages\\botorch\\optim\\initializers.py:224: BadInitialCandidatesWarning: Unable to find non-zero acquisition function values - initial conditions are being selected randomly.\n",
      "  warnings.warn(\n",
      "c:\\Users\\J32616\\Repositories\\bofire\\venv\\lib\\site-packages\\botorch\\optim\\initializers.py:224: BadInitialCandidatesWarning: Unable to find non-zero acquisition function values - initial conditions are being selected randomly.\n",
      "  warnings.warn(\n",
      "c:\\Users\\J32616\\Repositories\\bofire\\venv\\lib\\site-packages\\botorch\\optim\\initializers.py:224: BadInitialCandidatesWarning: Unable to find non-zero acquisition function values - initial conditions are being selected randomly.\n",
      "  warnings.warn(\n",
      "c:\\Users\\J32616\\Repositories\\bofire\\venv\\lib\\site-packages\\botorch\\optim\\initializers.py:224: BadInitialCandidatesWarning: Unable to find non-zero acquisition function values - initial conditions are being selected randomly.\n",
      "  warnings.warn(\n",
      "c:\\Users\\J32616\\Repositories\\bofire\\venv\\lib\\site-packages\\botorch\\optim\\initializers.py:224: BadInitialCandidatesWarning: Unable to find non-zero acquisition function values - initial conditions are being selected randomly.\n",
      "  warnings.warn(\n",
      "c:\\Users\\J32616\\Repositories\\bofire\\venv\\lib\\site-packages\\botorch\\optim\\initializers.py:224: BadInitialCandidatesWarning: Unable to find non-zero acquisition function values - initial conditions are being selected randomly.\n",
      "  warnings.warn(\n",
      "c:\\Users\\J32616\\Repositories\\bofire\\venv\\lib\\site-packages\\botorch\\optim\\initializers.py:224: BadInitialCandidatesWarning: Unable to find non-zero acquisition function values - initial conditions are being selected randomly.\n",
      "  warnings.warn(\n",
      "c:\\Users\\J32616\\Repositories\\bofire\\venv\\lib\\site-packages\\botorch\\optim\\initializers.py:224: BadInitialCandidatesWarning: Unable to find non-zero acquisition function values - initial conditions are being selected randomly.\n",
      "  warnings.warn(\n"
     ]
    },
    {
     "data": {
      "text/html": [
       "<div>\n",
       "<style scoped>\n",
       "    .dataframe tbody tr th:only-of-type {\n",
       "        vertical-align: middle;\n",
       "    }\n",
       "\n",
       "    .dataframe tbody tr th {\n",
       "        vertical-align: top;\n",
       "    }\n",
       "\n",
       "    .dataframe thead th {\n",
       "        text-align: right;\n",
       "    }\n",
       "</style>\n",
       "<table border=\"1\" class=\"dataframe\">\n",
       "  <thead>\n",
       "    <tr style=\"text-align: right;\">\n",
       "      <th></th>\n",
       "      <th>x1</th>\n",
       "      <th>x2</th>\n",
       "      <th>x3</th>\n",
       "      <th>x4</th>\n",
       "      <th>x6</th>\n",
       "      <th>x5</th>\n",
       "      <th>y1_pred</th>\n",
       "      <th>y1_sd</th>\n",
       "      <th>y1_des</th>\n",
       "    </tr>\n",
       "  </thead>\n",
       "  <tbody>\n",
       "    <tr>\n",
       "      <th>0</th>\n",
       "      <td>1.0</td>\n",
       "      <td>0.0</td>\n",
       "      <td>0.0</td>\n",
       "      <td>7.5</td>\n",
       "      <td>c3</td>\n",
       "      <td>A</td>\n",
       "      <td>9.813998</td>\n",
       "      <td>0.703783</td>\n",
       "      <td>9.813998</td>\n",
       "    </tr>\n",
       "  </tbody>\n",
       "</table>\n",
       "</div>"
      ],
      "text/plain": [
       "    x1   x2   x3   x4  x6 x5   y1_pred     y1_sd    y1_des\n",
       "0  1.0  0.0  0.0  7.5  c3  A  9.813998  0.703783  9.813998"
      ]
     },
     "execution_count": 44,
     "metadata": {},
     "output_type": "execute_result"
    }
   ],
   "source": [
    "sobo_strategy.ask(candidate_count=1, add_pending=True)"
   ]
  },
  {
   "cell_type": "markdown",
   "metadata": {},
   "source": []
  },
  {
   "cell_type": "code",
   "execution_count": null,
   "metadata": {},
   "outputs": [],
   "source": []
  }
 ],
 "metadata": {
  "kernelspec": {
   "display_name": "venv",
   "language": "python",
   "name": "python3"
  },
  "language_info": {
   "codemirror_mode": {
    "name": "ipython",
    "version": 3
   },
   "file_extension": ".py",
   "mimetype": "text/x-python",
   "name": "python",
   "nbconvert_exporter": "python",
   "pygments_lexer": "ipython3",
   "version": "3.9.12"
  },
  "orig_nbformat": 4,
  "vscode": {
   "interpreter": {
    "hash": "cacc961e22054701f3f4fd2526c577bfc7833a4a9b13a70becce6aedbc7ba75d"
   }
  }
 },
 "nbformat": 4,
 "nbformat_minor": 2
}
