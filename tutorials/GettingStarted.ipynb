{
 "cells": [
  {
   "cell_type": "code",
   "execution_count": 3,
   "metadata": {},
   "outputs": [],
   "source": [
    "import os\n",
    "import sys\n",
    "import pathlib\n",
    "\n",
    "sys.path.append(os.path.join(str(pathlib.Path.cwd().parent)))"
   ]
  },
  {
   "attachments": {},
   "cell_type": "markdown",
   "metadata": {},
   "source": [
    "## Features"
   ]
  },
  {
   "cell_type": "code",
   "execution_count": 8,
   "metadata": {},
   "outputs": [],
   "source": [
    "from bofire.domain.features import ContinuousInput, DiscreteInput, CategoricalInput, CategoricalDescriptorInput\n",
    "\n",
    "x1 = ContinuousInput(key=\"x1\", lower_bound=0, upper_bound=1)\n",
    "x2 = ContinuousInput(key=\"x2\", lower_bound=0, upper_bound=1)\n",
    "x3 = ContinuousInput(key=\"x3\", lower_bound=0, upper_bound=1)\n",
    "x4 = DiscreteInput(key=\"x4\", values=[1, 2, 5, 7.5])\n",
    "x5 = CategoricalInput(key=\"x5\", categories=[\"A\", \"B\", \"C\"], allowed=[True,True,False])\n",
    "x6 = CategoricalDescriptorInput(key=\"x6\", categories=[\"c1\", \"c2\", \"c3\"], descriptors=[\"d1\", \"d2\"], values = [[1,2],[2,5],[1,7]])"
   ]
  },
  {
   "cell_type": "code",
   "execution_count": 9,
   "metadata": {},
   "outputs": [],
   "source": [
    "from bofire.domain.features import ContinuousOutput\n",
    "from bofire.domain.objectives import MaximizeObjective, MinimizeObjective\n",
    "\n",
    "objective1 = MaximizeObjective(\n",
    "    w=1.0, \n",
    "    lower_bound=0, \n",
    "    upper_bound=1,\n",
    ")\n",
    "y1 = ContinuousOutput(key=\"y1\", objective=objective1)\n",
    "\n",
    "objective2 = MinimizeObjective(\n",
    "    w=1.0\n",
    ")\n",
    "y2 = ContinuousOutput(key=\"y2\", objective=objective2)"
   ]
  },
  {
   "cell_type": "code",
   "execution_count": 10,
   "metadata": {},
   "outputs": [],
   "source": [
    "from bofire.domain.features import InputFeatures, OutputFeatures\n",
    "\n",
    "input_features = InputFeatures(features = [x1, x2, x3, x4, x5, x6])\n",
    "output_features = OutputFeatures(features=[y1, y2])"
   ]
  },
  {
   "cell_type": "code",
   "execution_count": 23,
   "metadata": {},
   "outputs": [
    {
     "data": {
      "text/plain": [
       "CategoricalInput(key='x5', type='CategoricalInput', categories=['A', 'B', 'C'], allowed=[True, True, False])"
      ]
     },
     "execution_count": 23,
     "metadata": {},
     "output_type": "execute_result"
    }
   ],
   "source": [
    "x5 = input_features.get_by_key('x5')\n",
    "x5"
   ]
  },
  {
   "cell_type": "code",
   "execution_count": 26,
   "metadata": {},
   "outputs": [
    {
     "data": {
      "text/plain": [
       "['x1', 'x2', 'x3', 'x4', 'x6', 'x5']"
      ]
     },
     "execution_count": 26,
     "metadata": {},
     "output_type": "execute_result"
    }
   ],
   "source": [
    "input_features.get_keys()"
   ]
  },
  {
   "cell_type": "code",
   "execution_count": 27,
   "metadata": {},
   "outputs": [
    {
     "data": {
      "text/plain": [
       "['y1', 'y2']"
      ]
     },
     "execution_count": 27,
     "metadata": {},
     "output_type": "execute_result"
    }
   ],
   "source": [
    "output_features.get_keys()"
   ]
  },
  {
   "cell_type": "code",
   "execution_count": 28,
   "metadata": {},
   "outputs": [
    {
     "data": {
      "text/plain": [
       "InputFeatures(features=[ContinuousInput(key='x1', type='ContinuousInput', lower_bound=0.0, upper_bound=1.0), ContinuousInput(key='x2', type='ContinuousInput', lower_bound=0.0, upper_bound=1.0), ContinuousInput(key='x3', type='ContinuousInput', lower_bound=0.0, upper_bound=1.0), DiscreteInput(key='x4', type='DiscreteInput', values=[1.0, 2.0, 5.0, 7.5]), CategoricalInput(key='x5', type='CategoricalInput', categories=['A', 'B', 'C'], allowed=[True, True, False]), CategoricalDescriptorInput(key='x6', type='CategoricalDescriptorInput', categories=['c1', 'c2', 'c3'], allowed=[True, True, True], descriptors=['d1', 'd2'], values=[[1.0, 2.0], [2.0, 5.0], [1.0, 7.0]])])"
      ]
     },
     "execution_count": 28,
     "metadata": {},
     "output_type": "execute_result"
    }
   ],
   "source": [
    "free_inputs = input_features.get_free()\n",
    "fixed_inputs = input_features.get_fixed()"
   ]
  },
  {
   "cell_type": "code",
   "execution_count": 32,
   "metadata": {},
   "outputs": [
    {
     "name": "stdout",
     "output_type": "stream",
     "text": [
      "0    B\n",
      "1    B\n",
      "Name: x5, dtype: object\n"
     ]
    }
   ],
   "source": [
    "samples_x5 = x5.sample(2)\n",
    "samples_x5"
   ]
  },
  {
   "cell_type": "code",
   "execution_count": 29,
   "metadata": {},
   "outputs": [
    {
     "data": {
      "text/html": [
       "<div>\n",
       "<style scoped>\n",
       "    .dataframe tbody tr th:only-of-type {\n",
       "        vertical-align: middle;\n",
       "    }\n",
       "\n",
       "    .dataframe tbody tr th {\n",
       "        vertical-align: top;\n",
       "    }\n",
       "\n",
       "    .dataframe thead th {\n",
       "        text-align: right;\n",
       "    }\n",
       "</style>\n",
       "<table border=\"1\" class=\"dataframe\">\n",
       "  <thead>\n",
       "    <tr style=\"text-align: right;\">\n",
       "      <th></th>\n",
       "      <th>x1</th>\n",
       "      <th>x2</th>\n",
       "      <th>x3</th>\n",
       "      <th>x4</th>\n",
       "      <th>x6</th>\n",
       "      <th>x5</th>\n",
       "    </tr>\n",
       "  </thead>\n",
       "  <tbody>\n",
       "    <tr>\n",
       "      <th>0</th>\n",
       "      <td>0.333488</td>\n",
       "      <td>0.916704</td>\n",
       "      <td>0.662074</td>\n",
       "      <td>7.5</td>\n",
       "      <td>c3</td>\n",
       "      <td>B</td>\n",
       "    </tr>\n",
       "    <tr>\n",
       "      <th>1</th>\n",
       "      <td>0.461435</td>\n",
       "      <td>0.828921</td>\n",
       "      <td>0.972609</td>\n",
       "      <td>2.0</td>\n",
       "      <td>c3</td>\n",
       "      <td>B</td>\n",
       "    </tr>\n",
       "    <tr>\n",
       "      <th>2</th>\n",
       "      <td>0.979737</td>\n",
       "      <td>0.750465</td>\n",
       "      <td>0.911565</td>\n",
       "      <td>1.0</td>\n",
       "      <td>c3</td>\n",
       "      <td>B</td>\n",
       "    </tr>\n",
       "    <tr>\n",
       "      <th>3</th>\n",
       "      <td>0.029544</td>\n",
       "      <td>0.855302</td>\n",
       "      <td>0.505408</td>\n",
       "      <td>5.0</td>\n",
       "      <td>c2</td>\n",
       "      <td>A</td>\n",
       "    </tr>\n",
       "    <tr>\n",
       "      <th>4</th>\n",
       "      <td>0.335937</td>\n",
       "      <td>0.737333</td>\n",
       "      <td>0.339590</td>\n",
       "      <td>1.0</td>\n",
       "      <td>c2</td>\n",
       "      <td>B</td>\n",
       "    </tr>\n",
       "    <tr>\n",
       "      <th>5</th>\n",
       "      <td>0.911805</td>\n",
       "      <td>0.274892</td>\n",
       "      <td>0.879965</td>\n",
       "      <td>2.0</td>\n",
       "      <td>c3</td>\n",
       "      <td>B</td>\n",
       "    </tr>\n",
       "    <tr>\n",
       "      <th>6</th>\n",
       "      <td>0.995641</td>\n",
       "      <td>0.174091</td>\n",
       "      <td>0.168966</td>\n",
       "      <td>5.0</td>\n",
       "      <td>c1</td>\n",
       "      <td>A</td>\n",
       "    </tr>\n",
       "    <tr>\n",
       "      <th>7</th>\n",
       "      <td>0.957184</td>\n",
       "      <td>0.739900</td>\n",
       "      <td>0.930788</td>\n",
       "      <td>1.0</td>\n",
       "      <td>c1</td>\n",
       "      <td>A</td>\n",
       "    </tr>\n",
       "    <tr>\n",
       "      <th>8</th>\n",
       "      <td>0.044343</td>\n",
       "      <td>0.263328</td>\n",
       "      <td>0.425307</td>\n",
       "      <td>5.0</td>\n",
       "      <td>c2</td>\n",
       "      <td>B</td>\n",
       "    </tr>\n",
       "    <tr>\n",
       "      <th>9</th>\n",
       "      <td>0.177980</td>\n",
       "      <td>0.995390</td>\n",
       "      <td>0.490606</td>\n",
       "      <td>1.0</td>\n",
       "      <td>c2</td>\n",
       "      <td>B</td>\n",
       "    </tr>\n",
       "  </tbody>\n",
       "</table>\n",
       "</div>"
      ],
      "text/plain": [
       "         x1        x2        x3   x4  x6 x5\n",
       "0  0.333488  0.916704  0.662074  7.5  c3  B\n",
       "1  0.461435  0.828921  0.972609  2.0  c3  B\n",
       "2  0.979737  0.750465  0.911565  1.0  c3  B\n",
       "3  0.029544  0.855302  0.505408  5.0  c2  A\n",
       "4  0.335937  0.737333  0.339590  1.0  c2  B\n",
       "5  0.911805  0.274892  0.879965  2.0  c3  B\n",
       "6  0.995641  0.174091  0.168966  5.0  c1  A\n",
       "7  0.957184  0.739900  0.930788  1.0  c1  A\n",
       "8  0.044343  0.263328  0.425307  5.0  c2  B\n",
       "9  0.177980  0.995390  0.490606  1.0  c2  B"
      ]
     },
     "execution_count": 29,
     "metadata": {},
     "output_type": "execute_result"
    }
   ],
   "source": [
    "X = input_features.sample(n=10)\n",
    "X"
   ]
  },
  {
   "attachments": {},
   "cell_type": "markdown",
   "metadata": {},
   "source": [
    "## Constraints"
   ]
  },
  {
   "cell_type": "code",
   "execution_count": 12,
   "metadata": {},
   "outputs": [],
   "source": [
    "from bofire.domain.constraints import LinearEqualityConstraint, LinearInequalityConstraint\n",
    "\n",
    "# A mixture: x1 + x2 + x3 = 1\n",
    "constr1 = LinearEqualityConstraint(features=[\"x1\", \"x2\", \"x3\"], coefficients=[1,1,1], rhs=1)\n",
    "\n",
    "# x1 + 2 * x3 < 0.8\n",
    "constr2 = LinearInequalityConstraint(features=[\"x1\", \"x3\"], coefficients=[1, 2], rhs=0.8)"
   ]
  },
  {
   "cell_type": "code",
   "execution_count": 13,
   "metadata": {},
   "outputs": [],
   "source": [
    "from bofire.domain.constraints import NonlinearEqualityConstraint, NonlinearInequalityConstraint\n",
    "\n",
    "# The unit circle: x1**2 + x2**2 = 1\n",
    "constr3 = NonlinearEqualityConstraint(expression=\"x1**2 + x2**2 - 1\")\n",
    "\n",
    "# Require x1 < 0.5 if x5 == \"A\"\n",
    "constr4 = NonlinearInequalityConstraint(expression=\"(x1 - 0.5) * (x5 =='A')\")"
   ]
  },
  {
   "cell_type": "code",
   "execution_count": 15,
   "metadata": {},
   "outputs": [],
   "source": [
    "from bofire.domain.constraints import NChooseKConstraint\n",
    "\n",
    "# Only 2 or 3 out of 5 parameters can be greater than zero\n",
    "constr5 = NChooseKConstraint(features=[\"x1\", \"x2\", \"x3\", \"x4\", \"x5\"], min_count=2, max_count=3, none_also_valid=True)"
   ]
  },
  {
   "cell_type": "code",
   "execution_count": null,
   "metadata": {},
   "outputs": [],
   "source": [
    "from bofire.domain.constraints import Constraints\n",
    "\n",
    "constraints = Constraints(constraints=[constr1, constr2, constr3, constr4, constr5])"
   ]
  },
  {
   "cell_type": "code",
   "execution_count": null,
   "metadata": {},
   "outputs": [],
   "source": []
  },
  {
   "cell_type": "code",
   "execution_count": null,
   "metadata": {},
   "outputs": [],
   "source": []
  }
 ],
 "metadata": {
  "kernelspec": {
   "display_name": "venv",
   "language": "python",
   "name": "python3"
  },
  "language_info": {
   "codemirror_mode": {
    "name": "ipython",
    "version": 3
   },
   "file_extension": ".py",
   "mimetype": "text/x-python",
   "name": "python",
   "nbconvert_exporter": "python",
   "pygments_lexer": "ipython3",
   "version": "3.9.12"
  },
  "orig_nbformat": 4,
  "vscode": {
   "interpreter": {
    "hash": "cacc961e22054701f3f4fd2526c577bfc7833a4a9b13a70becce6aedbc7ba75d"
   }
  }
 },
 "nbformat": 4,
 "nbformat_minor": 2
}
