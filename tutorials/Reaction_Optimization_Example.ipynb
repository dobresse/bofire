{
 "cells": [
  {
   "cell_type": "markdown",
   "id": "3b13e196-3cf7-4496-8ed1-1a7589c14ca8",
   "metadata": {},
   "source": [
    "# Getting started by Example: Optimization of Reaction Conditions\n",
    "\n",
    "In this example we take on a reaction condition optimization problem:\n",
    "Suppose you have some simple reaction where two ingredients $A$ and $B$ react to $C$ as\n",
    "\n",
    "$$\n",
    "A + B  \\rightarrow C\n",
    "$$\n",
    "\n",
    "Our reactors can be temperature controlled, and we can use different solvents. Furthermore, we can dilute our reaction mixture by using a different solvent volume. \n",
    "parameters like the **temperature** or the **solvent volume** are **continuous paramters**, where we have to set our ranges\n",
    "$$\n",
    "0  \\, \\le T \\le \\,  60 \\\\\n",
    "20 \\, \\text{ml} \\le V_{solvent} \\le 90 \\,\\text{ml} \n",
    "$$\n",
    "\n",
    "Parameters like the use of **which solvent**, where there's a choice of either this or that, are **categorical parameters**\n",
    "$$\n",
    "\\text{Solvent} \\,  \\in  \\, \\{ \\text{MeOH, THF, Dioxane} \\}\n",
    "$$\n",
    "\n",
    "\n",
    "For now we only wish top optimize the Reaction yield, making this a **single objective optimization problem**.\n",
    "\n",
    "$$\n",
    "\\min _{T,V,S} \\text{ReactionYield}(T,V,S)\n",
    "$$\n",
    "\n",
    "Below we'll see how to perform such an optimization using bofire, Utilizing a **Single Objective Bayesian Optimization (SOBO)** Strategy "
   ]
  },
  {
   "cell_type": "code",
   "execution_count": 1,
   "id": "e129aecf-a983-4da7-af73-9e3614142cb6",
   "metadata": {},
   "outputs": [],
   "source": [
    "# python imports we'll need in this notebook\n",
    "from pprint import pprint as pp\n",
    "import pandas as pd\n",
    "import matplotlib.pyplot as plt\n",
    "import numpy as np"
   ]
  },
  {
   "cell_type": "markdown",
   "id": "912f3ad0-b2e1-43b9-8bf5-05b6ca923c31",
   "metadata": {},
   "source": [
    "## Setting up the optimization problem as a **Reaction Domain**"
   ]
  },
  {
   "cell_type": "code",
   "execution_count": null,
   "id": "cd545f79-724a-41de-9811-dbb76865ee5c",
   "metadata": {},
   "outputs": [],
   "source": [
    "from bofire.domain import Domain # this one will hold our optimization problem\n",
    "from bofire.domain.features import ContinuousInput, ContinuousOutput, CategoricalInput, CategoricalDescriptorInput, InputFeatures, OutputFeatures # we won't need all of those."
   ]
  },
  {
   "cell_type": "code",
   "execution_count": 3,
   "id": "2ce468a7-b6dd-478b-a1f7-d0c9a51ecdef",
   "metadata": {},
   "outputs": [],
   "source": [
    "# We wish the temperature of the reaction to be between 0 and 60 °C\n",
    "temperature_feature = ContinuousInput(key='Temperature', lower_bound = 0.0, upper_bound = 60.0)\n",
    "\n",
    "# Solvent Amount\n",
    "solvent_amount_feature = ContinuousInput(key='Solvent Volume', lower_bound = 20.0, upper_bound = 90.0)\n",
    "\n",
    "# we have a couple of solvents in stock, which we'd liek to use\n",
    "solvent_type_feature = CategoricalInput(key = 'Solvent Type', categories = ['MeOH','THF','Dioxane'])\n",
    "\n",
    "\n",
    "# gather all individual features\n",
    "input_features = InputFeatures(\n",
    "    features = [\n",
    "        temperature_feature,\n",
    "        solvent_type_feature, \n",
    "        solvent_amount_feature,\n",
    "    ]\n",
    ")"
   ]
  },
  {
   "cell_type": "code",
   "execution_count": 4,
   "id": "3ace0feb-9051-4074-b361-dc6424f57d80",
   "metadata": {},
   "outputs": [],
   "source": [
    "# outputs: we wish to maximize the Yield\n",
    "# import Maximize Objective to tell the optimizer you wish to optimize\n",
    "from bofire.domain.objectives import MaximizeObjective\n",
    "\n",
    "objective = MaximizeObjective(\n",
    "    w=1.0,\n",
    "    lower_bound=0, \n",
    "    upper_bound=100,\n",
    ")\n",
    "yield_feature = ContinuousOutput(key=\"Yield\", objective=objective)\n",
    "# create an output feature\n",
    "output_features = OutputFeatures(features=[yield_feature])"
   ]
  },
  {
   "cell_type": "code",
   "execution_count": 5,
   "id": "4380f5d7-bd61-41c5-a3a5-0c28a369b12a",
   "metadata": {},
   "outputs": [
    {
     "name": "stdout",
     "output_type": "stream",
     "text": [
      "input_features: features=[ContinuousInput(key='Temperature', type='ContinuousInput', lower_bound=0.0, upper_bound=60.0), CategoricalInput(key='Solvent Type', type='CategoricalInput', categories=['MeOH', 'THF', 'Dioxane'], allowed=[True, True, True]), ContinuousInput(key='Solvent Volume', type='ContinuousInput', lower_bound=20.0, upper_bound=90.0)]\n",
      "output_features: features=[ContinuousOutput(key='Yield', type='ContinuousOutput', objective=MaximizeObjective(type='MaximizeObjective', w=1.0, lower_bound=0.0, upper_bound=100.0))]\n"
     ]
    }
   ],
   "source": [
    "# we now have\n",
    "print('input_features:', input_features)\n",
    "print('output_features:', output_features)"
   ]
  },
  {
   "cell_type": "code",
   "execution_count": 6,
   "id": "b2752d5a-8eba-4378-9de0-b1610dd678fb",
   "metadata": {},
   "outputs": [],
   "source": [
    "# The domain is now the object that holds the entire optimization problem / problem definition.\n",
    "domain = Domain(\n",
    "    input_features = input_features,\n",
    "    output_features = output_features,\n",
    ")"
   ]
  },
  {
   "cell_type": "code",
   "execution_count": 7,
   "id": "8dd9ab91-d84e-4bc2-bbd4-176d2a5d73de",
   "metadata": {},
   "outputs": [
    {
     "data": {
      "text/html": [
       "<div>\n",
       "<style scoped>\n",
       "    .dataframe tbody tr th:only-of-type {\n",
       "        vertical-align: middle;\n",
       "    }\n",
       "\n",
       "    .dataframe tbody tr th {\n",
       "        vertical-align: top;\n",
       "    }\n",
       "\n",
       "    .dataframe thead th {\n",
       "        text-align: right;\n",
       "    }\n",
       "</style>\n",
       "<table border=\"1\" class=\"dataframe\">\n",
       "  <thead>\n",
       "    <tr style=\"text-align: right;\">\n",
       "      <th></th>\n",
       "      <th>Type</th>\n",
       "      <th>Description</th>\n",
       "    </tr>\n",
       "  </thead>\n",
       "  <tbody>\n",
       "    <tr>\n",
       "      <th>Solvent Volume</th>\n",
       "      <td>ContinuousInput</td>\n",
       "      <td>[20.0,90.0]</td>\n",
       "    </tr>\n",
       "    <tr>\n",
       "      <th>Temperature</th>\n",
       "      <td>ContinuousInput</td>\n",
       "      <td>[0.0,60.0]</td>\n",
       "    </tr>\n",
       "    <tr>\n",
       "      <th>Solvent Type</th>\n",
       "      <td>CategoricalInput</td>\n",
       "      <td>3 categories</td>\n",
       "    </tr>\n",
       "    <tr>\n",
       "      <th>Yield</th>\n",
       "      <td>ContinuousOutput</td>\n",
       "      <td>ContinuousOutputFeature</td>\n",
       "    </tr>\n",
       "  </tbody>\n",
       "</table>\n",
       "</div>"
      ],
      "text/plain": [
       "                            Type              Description\n",
       "Solvent Volume   ContinuousInput              [20.0,90.0]\n",
       "Temperature      ContinuousInput               [0.0,60.0]\n",
       "Solvent Type    CategoricalInput             3 categories\n",
       "Yield           ContinuousOutput  ContinuousOutputFeature"
      ]
     },
     "execution_count": 7,
     "metadata": {},
     "output_type": "execute_result"
    }
   ],
   "source": [
    "# you can now have a pretty printout of your domain via\n",
    "domain.get_feature_reps_df()"
   ]
  },
  {
   "cell_type": "code",
   "execution_count": 8,
   "id": "3ec6a44b-6a89-4700-bead-6a5cbe7a071c",
   "metadata": {},
   "outputs": [
    {
     "name": "stdout",
     "output_type": "stream",
     "text": [
      "Solvent Volume | [20.0,90.0]\n",
      "Temperature | [0.0,60.0]\n",
      "Solvent Type | 3 categories\n"
     ]
    }
   ],
   "source": [
    "# and you can access your domain features via \n",
    "for feature_key in  domain.input_features.get_keys(): # this will get all the feature names and loop over them\n",
    "    input_feature = domain.input_features.get_by_key(feature_key) # we can extract the individual feature object by asking for it by name\n",
    "    print(feature_key, '|',  input_feature)"
   ]
  },
  {
   "cell_type": "code",
   "execution_count": 9,
   "id": "b1338ead-3f90-4fa6-973c-41088c3a04b3",
   "metadata": {},
   "outputs": [
    {
     "name": "stdout",
     "output_type": "stream",
     "text": [
      "Yield  |  ContinuousOutput(key='Yield', type='ContinuousOutput', objective=MaximizeObjective(type='MaximizeObjective', w=1.0, lower_bound=0.0, upper_bound=100.0))\n"
     ]
    }
   ],
   "source": [
    "# as well as the output features as\n",
    "# and you can access your domain features via \n",
    "for feature_key in  domain.output_features.get_keys(): # this will get all the feature names and loop over them\n",
    "    output_feature = domain.output_features.get_by_key(feature_key) # we can extract the individual feature object by asking for it by name\n",
    "    print(feature_key, ' | ',  output_feature.__repr__())"
   ]
  },
  {
   "cell_type": "markdown",
   "id": "70e7bd9d-3d9c-44d2-83e6-3ef63415437a",
   "metadata": {},
   "source": [
    "### Import a toy Reaction to play around with\n",
    "We've prepared a reaction emulator, which you can use to emulate a real experiment, and we're going to import and test it here."
   ]
  },
  {
   "cell_type": "code",
   "execution_count": 10,
   "id": "3b0e3708-e8aa-480e-8414-c5a577322e06",
   "metadata": {},
   "outputs": [],
   "source": [
    "from util import evaluate_candidates, create_candidates"
   ]
  },
  {
   "cell_type": "code",
   "execution_count": 11,
   "id": "d06f13a7-f1d4-413d-9460-04b3fbe9ff6b",
   "metadata": {},
   "outputs": [],
   "source": [
    "# create some trial experiments (at unitform random)\n",
    "candidates = create_candidates(domain, nsamples=4)"
   ]
  },
  {
   "cell_type": "code",
   "execution_count": 12,
   "id": "6444f3bb-ccf5-4871-a960-03cdd153e246",
   "metadata": {},
   "outputs": [
    {
     "data": {
      "text/html": [
       "<div>\n",
       "<style scoped>\n",
       "    .dataframe tbody tr th:only-of-type {\n",
       "        vertical-align: middle;\n",
       "    }\n",
       "\n",
       "    .dataframe tbody tr th {\n",
       "        vertical-align: top;\n",
       "    }\n",
       "\n",
       "    .dataframe thead th {\n",
       "        text-align: right;\n",
       "    }\n",
       "</style>\n",
       "<table border=\"1\" class=\"dataframe\">\n",
       "  <thead>\n",
       "    <tr style=\"text-align: right;\">\n",
       "      <th></th>\n",
       "      <th>Temperature</th>\n",
       "      <th>Solvent Volume</th>\n",
       "      <th>Solvent Type</th>\n",
       "    </tr>\n",
       "  </thead>\n",
       "  <tbody>\n",
       "    <tr>\n",
       "      <th>0</th>\n",
       "      <td>28.706496</td>\n",
       "      <td>69.967687</td>\n",
       "      <td>THF</td>\n",
       "    </tr>\n",
       "    <tr>\n",
       "      <th>1</th>\n",
       "      <td>37.296564</td>\n",
       "      <td>83.023169</td>\n",
       "      <td>THF</td>\n",
       "    </tr>\n",
       "    <tr>\n",
       "      <th>2</th>\n",
       "      <td>26.477896</td>\n",
       "      <td>50.521323</td>\n",
       "      <td>Dioxane</td>\n",
       "    </tr>\n",
       "    <tr>\n",
       "      <th>3</th>\n",
       "      <td>33.725501</td>\n",
       "      <td>27.267211</td>\n",
       "      <td>THF</td>\n",
       "    </tr>\n",
       "  </tbody>\n",
       "</table>\n",
       "</div>"
      ],
      "text/plain": [
       "   Temperature  Solvent Volume Solvent Type\n",
       "0    28.706496       69.967687          THF\n",
       "1    37.296564       83.023169          THF\n",
       "2    26.477896       50.521323      Dioxane\n",
       "3    33.725501       27.267211          THF"
      ]
     },
     "execution_count": 12,
     "metadata": {},
     "output_type": "execute_result"
    }
   ],
   "source": [
    "candidates"
   ]
  },
  {
   "cell_type": "code",
   "execution_count": 13,
   "id": "d1d5c9c2-13ac-4839-b544-d85bccc5a448",
   "metadata": {},
   "outputs": [],
   "source": [
    "# we can evaluate the yield of those candidates \n",
    "experiments = evaluate_candidates(domain,candidates)"
   ]
  },
  {
   "cell_type": "code",
   "execution_count": 14,
   "id": "757ec10d-14f3-48c6-a96d-2eff2c474b1b",
   "metadata": {},
   "outputs": [
    {
     "data": {
      "text/html": [
       "<div>\n",
       "<style scoped>\n",
       "    .dataframe tbody tr th:only-of-type {\n",
       "        vertical-align: middle;\n",
       "    }\n",
       "\n",
       "    .dataframe tbody tr th {\n",
       "        vertical-align: top;\n",
       "    }\n",
       "\n",
       "    .dataframe thead th {\n",
       "        text-align: right;\n",
       "    }\n",
       "</style>\n",
       "<table border=\"1\" class=\"dataframe\">\n",
       "  <thead>\n",
       "    <tr style=\"text-align: right;\">\n",
       "      <th></th>\n",
       "      <th>Temperature</th>\n",
       "      <th>Solvent Volume</th>\n",
       "      <th>Yield</th>\n",
       "      <th>Solvent Type</th>\n",
       "      <th>valid_Yield</th>\n",
       "    </tr>\n",
       "  </thead>\n",
       "  <tbody>\n",
       "    <tr>\n",
       "      <th>0</th>\n",
       "      <td>28.706496</td>\n",
       "      <td>69.967687</td>\n",
       "      <td>20.030324</td>\n",
       "      <td>THF</td>\n",
       "      <td>1.0</td>\n",
       "    </tr>\n",
       "    <tr>\n",
       "      <th>1</th>\n",
       "      <td>37.296564</td>\n",
       "      <td>83.023169</td>\n",
       "      <td>28.162891</td>\n",
       "      <td>THF</td>\n",
       "      <td>1.0</td>\n",
       "    </tr>\n",
       "    <tr>\n",
       "      <th>2</th>\n",
       "      <td>26.477896</td>\n",
       "      <td>50.521323</td>\n",
       "      <td>14.146845</td>\n",
       "      <td>Dioxane</td>\n",
       "      <td>1.0</td>\n",
       "    </tr>\n",
       "    <tr>\n",
       "      <th>3</th>\n",
       "      <td>33.725501</td>\n",
       "      <td>27.267211</td>\n",
       "      <td>21.931978</td>\n",
       "      <td>THF</td>\n",
       "      <td>1.0</td>\n",
       "    </tr>\n",
       "  </tbody>\n",
       "</table>\n",
       "</div>"
      ],
      "text/plain": [
       "   Temperature  Solvent Volume      Yield Solvent Type  valid_Yield\n",
       "0    28.706496       69.967687  20.030324          THF          1.0\n",
       "1    37.296564       83.023169  28.162891          THF          1.0\n",
       "2    26.477896       50.521323  14.146845      Dioxane          1.0\n",
       "3    33.725501       27.267211  21.931978          THF          1.0"
      ]
     },
     "execution_count": 14,
     "metadata": {},
     "output_type": "execute_result"
    }
   ],
   "source": [
    "experiments"
   ]
  },
  {
   "cell_type": "markdown",
   "id": "6cd2fc1a-b2fa-42a2-8bac-05aa85444e7b",
   "metadata": {},
   "source": [
    "# Strategy Setup\n",
    "a BO Strategy requires a choice of an acquisition function in order to evaluate the quality of new trial candidates. \n",
    "\n",
    "In this example we'll use the popular **Expected Improvement (EI)** acqf, which can evaluate the expectation value for obtaining a better function value compared to the current best value by utilizing the regression models' prediction of botht the function value as well as the variance at that point. "
   ]
  },
  {
   "cell_type": "code",
   "execution_count": 15,
   "id": "c45a62f3-2423-4bfb-addf-2aba2c9f08dd",
   "metadata": {},
   "outputs": [
    {
     "name": "stdout",
     "output_type": "stream",
     "text": [
      "AcquisitionFunctionEnum.QEI\n"
     ]
    }
   ],
   "source": [
    "# a single objective BO strategy\n",
    "# \n",
    "from bofire.strategies.botorch.sobo import BoTorchSoboStrategy\n",
    "sobo_strategy = BoTorchSoboStrategy(\n",
    "    domain=domain,\n",
    "    acquisition_function='QEI',\n",
    ")"
   ]
  },
  {
   "cell_type": "markdown",
   "id": "f8bf760e-ad85-4695-83db-483015b7866b",
   "metadata": {},
   "source": [
    "Each implemented strategy has a `strategy.ask(n)` method implemented, where new experiment candidates can be fetched from.  "
   ]
  },
  {
   "cell_type": "code",
   "execution_count": null,
   "id": "ca0317a8-4bdb-42e5-b216-5cb2a4e15c92",
   "metadata": {},
   "outputs": [],
   "source": [
    "sobo_strategy.ask(2) "
   ]
  },
  {
   "cell_type": "markdown",
   "id": "3de8bb69-0671-48f6-bad5-f9309c6ed7f9",
   "metadata": {},
   "source": [
    "Since a BO strategy requries an underlying regression model for predictions, it requires a certain amount of initial experiments for it to be able to build such a model.\n",
    "\n",
    "In order to obtain initial experiments, one way is to (pseudo)randomly sample candidate points in the reaction domain. This can e.g. be done by the RandomStrategy"
   ]
  },
  {
   "cell_type": "code",
   "execution_count": 17,
   "id": "40eae194-3486-4bcd-a69f-c2f37d944325",
   "metadata": {},
   "outputs": [],
   "source": [
    "# a random strategy \n",
    "from bofire.strategies.random import RandomStrategy\n",
    "# we have to provide the strategy with our optimization problem so it knows where to sample from.\n",
    "random_strategy = RandomStrategy(domain=domain)"
   ]
  },
  {
   "cell_type": "code",
   "execution_count": 18,
   "id": "5d8bfd4f-390f-4ef0-81f4-1d17b9e67c7f",
   "metadata": {},
   "outputs": [],
   "source": [
    "# in case you're rerunning these cells, we have to clear our domain from any known experiments at this point. \n",
    "domain.experiments = None\n",
    "# let's ask for five random sets of conditions\n",
    "candidates = random_strategy.ask(5)"
   ]
  },
  {
   "cell_type": "markdown",
   "id": "5e26985d-950c-4219-b0cb-6352e94ae3b9",
   "metadata": {},
   "source": [
    "you can have a look at the candidates"
   ]
  },
  {
   "cell_type": "code",
   "execution_count": 19,
   "id": "89b0052c-194e-4c0d-8b6e-d874c8f1f8da",
   "metadata": {},
   "outputs": [
    {
     "data": {
      "text/html": [
       "<div>\n",
       "<style scoped>\n",
       "    .dataframe tbody tr th:only-of-type {\n",
       "        vertical-align: middle;\n",
       "    }\n",
       "\n",
       "    .dataframe tbody tr th {\n",
       "        vertical-align: top;\n",
       "    }\n",
       "\n",
       "    .dataframe thead th {\n",
       "        text-align: right;\n",
       "    }\n",
       "</style>\n",
       "<table border=\"1\" class=\"dataframe\">\n",
       "  <thead>\n",
       "    <tr style=\"text-align: right;\">\n",
       "      <th></th>\n",
       "      <th>Solvent Volume</th>\n",
       "      <th>Temperature</th>\n",
       "      <th>Solvent Type</th>\n",
       "    </tr>\n",
       "  </thead>\n",
       "  <tbody>\n",
       "    <tr>\n",
       "      <th>0</th>\n",
       "      <td>50.685826</td>\n",
       "      <td>29.814435</td>\n",
       "      <td>MeOH</td>\n",
       "    </tr>\n",
       "    <tr>\n",
       "      <th>1</th>\n",
       "      <td>41.062471</td>\n",
       "      <td>28.415972</td>\n",
       "      <td>MeOH</td>\n",
       "    </tr>\n",
       "    <tr>\n",
       "      <th>2</th>\n",
       "      <td>25.237188</td>\n",
       "      <td>3.641233</td>\n",
       "      <td>THF</td>\n",
       "    </tr>\n",
       "    <tr>\n",
       "      <th>3</th>\n",
       "      <td>50.052498</td>\n",
       "      <td>33.750821</td>\n",
       "      <td>Dioxane</td>\n",
       "    </tr>\n",
       "    <tr>\n",
       "      <th>4</th>\n",
       "      <td>36.818143</td>\n",
       "      <td>23.084894</td>\n",
       "      <td>THF</td>\n",
       "    </tr>\n",
       "  </tbody>\n",
       "</table>\n",
       "</div>"
      ],
      "text/plain": [
       "   Solvent Volume  Temperature Solvent Type\n",
       "0       50.685826    29.814435         MeOH\n",
       "1       41.062471    28.415972         MeOH\n",
       "2       25.237188     3.641233          THF\n",
       "3       50.052498    33.750821      Dioxane\n",
       "4       36.818143    23.084894          THF"
      ]
     },
     "execution_count": 19,
     "metadata": {},
     "output_type": "execute_result"
    }
   ],
   "source": [
    "candidates"
   ]
  },
  {
   "cell_type": "markdown",
   "id": "0d5d9432-7590-4899-83aa-cf358b642ff7",
   "metadata": {},
   "source": [
    "In order to use those experiments as data foundation of the bo strategy above, the output values of these candidates have to be provided. Herein we'll use a dummy function to evaluate some more or less realistic yields given the proposed input candidates as."
   ]
  },
  {
   "cell_type": "code",
   "execution_count": 20,
   "id": "1e246d1b-9ccc-4cb1-a397-9082661bd305",
   "metadata": {},
   "outputs": [],
   "source": [
    "experiments = evaluate_candidates(domain, candidates)"
   ]
  },
  {
   "cell_type": "code",
   "execution_count": 21,
   "id": "f444423c-4360-4446-9133-34e4d6d4e73d",
   "metadata": {},
   "outputs": [
    {
     "data": {
      "text/html": [
       "<div>\n",
       "<style scoped>\n",
       "    .dataframe tbody tr th:only-of-type {\n",
       "        vertical-align: middle;\n",
       "    }\n",
       "\n",
       "    .dataframe tbody tr th {\n",
       "        vertical-align: top;\n",
       "    }\n",
       "\n",
       "    .dataframe thead th {\n",
       "        text-align: right;\n",
       "    }\n",
       "</style>\n",
       "<table border=\"1\" class=\"dataframe\">\n",
       "  <thead>\n",
       "    <tr style=\"text-align: right;\">\n",
       "      <th></th>\n",
       "      <th>Temperature</th>\n",
       "      <th>Solvent Volume</th>\n",
       "      <th>Yield</th>\n",
       "      <th>Solvent Type</th>\n",
       "      <th>valid_Yield</th>\n",
       "    </tr>\n",
       "  </thead>\n",
       "  <tbody>\n",
       "    <tr>\n",
       "      <th>0</th>\n",
       "      <td>29.814435</td>\n",
       "      <td>50.685826</td>\n",
       "      <td>21.284486</td>\n",
       "      <td>MeOH</td>\n",
       "      <td>1.0</td>\n",
       "    </tr>\n",
       "    <tr>\n",
       "      <th>1</th>\n",
       "      <td>28.415972</td>\n",
       "      <td>41.062471</td>\n",
       "      <td>20.461390</td>\n",
       "      <td>MeOH</td>\n",
       "      <td>1.0</td>\n",
       "    </tr>\n",
       "    <tr>\n",
       "      <th>2</th>\n",
       "      <td>3.641233</td>\n",
       "      <td>25.237188</td>\n",
       "      <td>11.258489</td>\n",
       "      <td>THF</td>\n",
       "      <td>1.0</td>\n",
       "    </tr>\n",
       "    <tr>\n",
       "      <th>3</th>\n",
       "      <td>33.750821</td>\n",
       "      <td>50.052498</td>\n",
       "      <td>17.428765</td>\n",
       "      <td>Dioxane</td>\n",
       "      <td>1.0</td>\n",
       "    </tr>\n",
       "    <tr>\n",
       "      <th>4</th>\n",
       "      <td>23.084894</td>\n",
       "      <td>36.818143</td>\n",
       "      <td>16.061347</td>\n",
       "      <td>THF</td>\n",
       "      <td>1.0</td>\n",
       "    </tr>\n",
       "  </tbody>\n",
       "</table>\n",
       "</div>"
      ],
      "text/plain": [
       "   Temperature  Solvent Volume      Yield Solvent Type  valid_Yield\n",
       "0    29.814435       50.685826  21.284486         MeOH          1.0\n",
       "1    28.415972       41.062471  20.461390         MeOH          1.0\n",
       "2     3.641233       25.237188  11.258489          THF          1.0\n",
       "3    33.750821       50.052498  17.428765      Dioxane          1.0\n",
       "4    23.084894       36.818143  16.061347          THF          1.0"
      ]
     },
     "execution_count": 21,
     "metadata": {},
     "output_type": "execute_result"
    }
   ],
   "source": [
    "experiments"
   ]
  },
  {
   "cell_type": "markdown",
   "id": "cd7c074e-7369-4543-926f-be162c4a4f36",
   "metadata": {},
   "source": [
    "note, that the columns `Yield` and `valid_Yield` have been added. `Yield` contains the actual output, whereas `valid_Yield` labels the experiment as valid w.r.t. this respective measured output. "
   ]
  },
  {
   "cell_type": "markdown",
   "id": "0dce79c0-09a2-4720-9f0d-437c4f21bd97",
   "metadata": {},
   "source": [
    "This info can now be given to the bo strategy so it can use it to fit the underlying regression model it utilizes via the `strategy.tell()` method."
   ]
  },
  {
   "cell_type": "code",
   "execution_count": 22,
   "id": "8b88124b-4359-4ffe-a082-872f50e04ff3",
   "metadata": {},
   "outputs": [],
   "source": [
    "sobo_strategy.tell(experiments) # this will add the experiments also to the utilized domain as domain.experiments"
   ]
  },
  {
   "cell_type": "code",
   "execution_count": 23,
   "id": "aecad597-f5b9-419e-8611-2b2fa72eaaa1",
   "metadata": {},
   "outputs": [
    {
     "data": {
      "text/html": [
       "<div>\n",
       "<style scoped>\n",
       "    .dataframe tbody tr th:only-of-type {\n",
       "        vertical-align: middle;\n",
       "    }\n",
       "\n",
       "    .dataframe tbody tr th {\n",
       "        vertical-align: top;\n",
       "    }\n",
       "\n",
       "    .dataframe thead th {\n",
       "        text-align: right;\n",
       "    }\n",
       "</style>\n",
       "<table border=\"1\" class=\"dataframe\">\n",
       "  <thead>\n",
       "    <tr style=\"text-align: right;\">\n",
       "      <th></th>\n",
       "      <th>Temperature</th>\n",
       "      <th>Solvent Volume</th>\n",
       "      <th>Yield</th>\n",
       "      <th>Solvent Type</th>\n",
       "      <th>valid_Yield</th>\n",
       "    </tr>\n",
       "  </thead>\n",
       "  <tbody>\n",
       "    <tr>\n",
       "      <th>0</th>\n",
       "      <td>29.814435</td>\n",
       "      <td>50.685826</td>\n",
       "      <td>21.284486</td>\n",
       "      <td>MeOH</td>\n",
       "      <td>1.0</td>\n",
       "    </tr>\n",
       "    <tr>\n",
       "      <th>1</th>\n",
       "      <td>28.415972</td>\n",
       "      <td>41.062471</td>\n",
       "      <td>20.461390</td>\n",
       "      <td>MeOH</td>\n",
       "      <td>1.0</td>\n",
       "    </tr>\n",
       "    <tr>\n",
       "      <th>2</th>\n",
       "      <td>3.641233</td>\n",
       "      <td>25.237188</td>\n",
       "      <td>11.258489</td>\n",
       "      <td>THF</td>\n",
       "      <td>1.0</td>\n",
       "    </tr>\n",
       "    <tr>\n",
       "      <th>3</th>\n",
       "      <td>33.750821</td>\n",
       "      <td>50.052498</td>\n",
       "      <td>17.428765</td>\n",
       "      <td>Dioxane</td>\n",
       "      <td>1.0</td>\n",
       "    </tr>\n",
       "    <tr>\n",
       "      <th>4</th>\n",
       "      <td>23.084894</td>\n",
       "      <td>36.818143</td>\n",
       "      <td>16.061347</td>\n",
       "      <td>THF</td>\n",
       "      <td>1.0</td>\n",
       "    </tr>\n",
       "  </tbody>\n",
       "</table>\n",
       "</div>"
      ],
      "text/plain": [
       "   Temperature  Solvent Volume      Yield Solvent Type  valid_Yield\n",
       "0    29.814435       50.685826  21.284486         MeOH          1.0\n",
       "1    28.415972       41.062471  20.461390         MeOH          1.0\n",
       "2     3.641233       25.237188  11.258489          THF          1.0\n",
       "3    33.750821       50.052498  17.428765      Dioxane          1.0\n",
       "4    23.084894       36.818143  16.061347          THF          1.0"
      ]
     },
     "execution_count": 23,
     "metadata": {},
     "output_type": "execute_result"
    }
   ],
   "source": [
    "domain.experiments"
   ]
  },
  {
   "cell_type": "code",
   "execution_count": 24,
   "id": "49d2f86e-071c-45a4-9cf2-c9f3d2ab4862",
   "metadata": {},
   "outputs": [],
   "source": [
    "import time"
   ]
  },
  {
   "cell_type": "markdown",
   "id": "dd42339e-bda4-4704-ab56-c8110b0815bb",
   "metadata": {},
   "source": [
    "Using this data we can now get a proposal for a next point to evaluate via the `sobo_strategy.ask(1)` method."
   ]
  },
  {
   "cell_type": "code",
   "execution_count": 25,
   "id": "4d67eb95-c797-4787-95d4-7cfafc6c769f",
   "metadata": {},
   "outputs": [
    {
     "name": "stdout",
     "output_type": "stream",
     "text": [
      "SOBO step took 44.15 seconds\n"
     ]
    }
   ],
   "source": [
    "t1 = time.time()\n",
    "new_candidate = sobo_strategy.ask(1)\n",
    "print(f'SOBO step took {(time.time()-t1):.2f} seconds')"
   ]
  },
  {
   "cell_type": "markdown",
   "id": "2d331066-b658-4625-abed-c9989801d08f",
   "metadata": {},
   "source": [
    "This ask call now takes way longer, since first a GP model is fitted to the data, and the acquisition function **EI** is optimized to obtain the new proposed candidiates. Note that the predictied yield and standard deviation, as well as desirability function value (the underlying value the optimizer sees) are provided in the new_candidate dataframe."
   ]
  },
  {
   "cell_type": "code",
   "execution_count": 26,
   "id": "b4497026-cc6a-4d85-aec0-90a4b2f5a0dd",
   "metadata": {},
   "outputs": [
    {
     "data": {
      "text/html": [
       "<div>\n",
       "<style scoped>\n",
       "    .dataframe tbody tr th:only-of-type {\n",
       "        vertical-align: middle;\n",
       "    }\n",
       "\n",
       "    .dataframe tbody tr th {\n",
       "        vertical-align: top;\n",
       "    }\n",
       "\n",
       "    .dataframe thead th {\n",
       "        text-align: right;\n",
       "    }\n",
       "</style>\n",
       "<table border=\"1\" class=\"dataframe\">\n",
       "  <thead>\n",
       "    <tr style=\"text-align: right;\">\n",
       "      <th></th>\n",
       "      <th>Solvent Volume</th>\n",
       "      <th>Temperature</th>\n",
       "      <th>Solvent Type</th>\n",
       "      <th>Yield_pred</th>\n",
       "      <th>Yield_sd</th>\n",
       "      <th>Yield_des</th>\n",
       "    </tr>\n",
       "  </thead>\n",
       "  <tbody>\n",
       "    <tr>\n",
       "      <th>0</th>\n",
       "      <td>81.569293</td>\n",
       "      <td>31.354794</td>\n",
       "      <td>MeOH</td>\n",
       "      <td>21.327242</td>\n",
       "      <td>1.701453</td>\n",
       "      <td>0.213272</td>\n",
       "    </tr>\n",
       "  </tbody>\n",
       "</table>\n",
       "</div>"
      ],
      "text/plain": [
       "   Solvent Volume  Temperature Solvent Type  Yield_pred  Yield_sd  Yield_des\n",
       "0       81.569293    31.354794         MeOH   21.327242  1.701453   0.213272"
      ]
     },
     "execution_count": 26,
     "metadata": {},
     "output_type": "execute_result"
    }
   ],
   "source": [
    "new_candidate"
   ]
  },
  {
   "cell_type": "markdown",
   "id": "3538958c-859f-45eb-a1c8-d46dc872f355",
   "metadata": {},
   "source": [
    "## Optimization Loop\n",
    "With this `strategy.ask()` and `strategy.tell()` we can now do our optimization loop, where after each new proposal, the conditions obtained from `ask` are evaluated and added to the known datapoints via `tell`. This requires to refit the underling model in each step.\n"
   ]
  },
  {
   "cell_type": "code",
   "execution_count": null,
   "id": "302ad31a-320c-4bab-bf3f-fedb3c3341bb",
   "metadata": {},
   "outputs": [],
   "source": [
    "experimental_budget = 10\n",
    "i = 0\n",
    "done=False\n",
    "while not done:\n",
    "    i += 1\n",
    "    t1 = time.time()\n",
    "    # ask for a new experiment\n",
    "    new_candidate = sobo_strategy.ask(1)\n",
    "    new_experiment = evaluate_candidates(domain, new_candidate)\n",
    "    sobo_strategy.tell(new_experiment)\n",
    "    print(f'Iteration took {(time.time()-t1):.2f} seconds')\n",
    "    # inform the strategy about the new experiment\n",
    "    # experiments = pd.concat([experiments,new_experiment],ignore_index=True)\n",
    "    if i > experimental_budget:\n",
    "        done = True\n",
    "    \n",
    "\n",
    "    \n",
    "    \n",
    "    "
   ]
  },
  {
   "cell_type": "markdown",
   "id": "00bfc0c5-a403-42ea-89f4-3e49145d2665",
   "metadata": {},
   "source": [
    "### investigating results"
   ]
  },
  {
   "cell_type": "code",
   "execution_count": 32,
   "id": "a1092c38-dfe4-4e5e-9675-796f8a4fc8fb",
   "metadata": {},
   "outputs": [
    {
     "data": {
      "text/html": [
       "<div>\n",
       "<style scoped>\n",
       "    .dataframe tbody tr th:only-of-type {\n",
       "        vertical-align: middle;\n",
       "    }\n",
       "\n",
       "    .dataframe tbody tr th {\n",
       "        vertical-align: top;\n",
       "    }\n",
       "\n",
       "    .dataframe thead th {\n",
       "        text-align: right;\n",
       "    }\n",
       "</style>\n",
       "<table border=\"1\" class=\"dataframe\">\n",
       "  <thead>\n",
       "    <tr style=\"text-align: right;\">\n",
       "      <th></th>\n",
       "      <th>Temperature</th>\n",
       "      <th>Solvent Volume</th>\n",
       "      <th>Yield</th>\n",
       "      <th>Solvent Type</th>\n",
       "      <th>valid_Yield</th>\n",
       "    </tr>\n",
       "  </thead>\n",
       "  <tbody>\n",
       "    <tr>\n",
       "      <th>0</th>\n",
       "      <td>29.814435</td>\n",
       "      <td>50.685826</td>\n",
       "      <td>21.284486</td>\n",
       "      <td>MeOH</td>\n",
       "      <td>1.0</td>\n",
       "    </tr>\n",
       "    <tr>\n",
       "      <th>1</th>\n",
       "      <td>28.415972</td>\n",
       "      <td>41.062471</td>\n",
       "      <td>20.461390</td>\n",
       "      <td>MeOH</td>\n",
       "      <td>1.0</td>\n",
       "    </tr>\n",
       "    <tr>\n",
       "      <th>2</th>\n",
       "      <td>3.641233</td>\n",
       "      <td>25.237188</td>\n",
       "      <td>11.258489</td>\n",
       "      <td>THF</td>\n",
       "      <td>1.0</td>\n",
       "    </tr>\n",
       "    <tr>\n",
       "      <th>3</th>\n",
       "      <td>33.750821</td>\n",
       "      <td>50.052498</td>\n",
       "      <td>17.428765</td>\n",
       "      <td>Dioxane</td>\n",
       "      <td>1.0</td>\n",
       "    </tr>\n",
       "    <tr>\n",
       "      <th>4</th>\n",
       "      <td>23.084894</td>\n",
       "      <td>36.818143</td>\n",
       "      <td>16.061347</td>\n",
       "      <td>THF</td>\n",
       "      <td>1.0</td>\n",
       "    </tr>\n",
       "    <tr>\n",
       "      <th>5</th>\n",
       "      <td>31.328968</td>\n",
       "      <td>81.498931</td>\n",
       "      <td>26.232578</td>\n",
       "      <td>MeOH</td>\n",
       "      <td>1.0</td>\n",
       "    </tr>\n",
       "    <tr>\n",
       "      <th>6</th>\n",
       "      <td>27.393889</td>\n",
       "      <td>90.000000</td>\n",
       "      <td>25.661595</td>\n",
       "      <td>MeOH</td>\n",
       "      <td>1.0</td>\n",
       "    </tr>\n",
       "    <tr>\n",
       "      <th>7</th>\n",
       "      <td>41.792834</td>\n",
       "      <td>90.000000</td>\n",
       "      <td>38.118440</td>\n",
       "      <td>MeOH</td>\n",
       "      <td>1.0</td>\n",
       "    </tr>\n",
       "    <tr>\n",
       "      <th>8</th>\n",
       "      <td>60.000000</td>\n",
       "      <td>90.000000</td>\n",
       "      <td>68.604575</td>\n",
       "      <td>MeOH</td>\n",
       "      <td>1.0</td>\n",
       "    </tr>\n",
       "    <tr>\n",
       "      <th>9</th>\n",
       "      <td>60.000000</td>\n",
       "      <td>20.000000</td>\n",
       "      <td>57.686075</td>\n",
       "      <td>MeOH</td>\n",
       "      <td>1.0</td>\n",
       "    </tr>\n",
       "    <tr>\n",
       "      <th>10</th>\n",
       "      <td>9.346396</td>\n",
       "      <td>37.573335</td>\n",
       "      <td>13.619919</td>\n",
       "      <td>MeOH</td>\n",
       "      <td>1.0</td>\n",
       "    </tr>\n",
       "    <tr>\n",
       "      <th>11</th>\n",
       "      <td>0.098189</td>\n",
       "      <td>46.474185</td>\n",
       "      <td>11.671481</td>\n",
       "      <td>MeOH</td>\n",
       "      <td>1.0</td>\n",
       "    </tr>\n",
       "    <tr>\n",
       "      <th>12</th>\n",
       "      <td>60.000000</td>\n",
       "      <td>78.858977</td>\n",
       "      <td>61.996203</td>\n",
       "      <td>MeOH</td>\n",
       "      <td>1.0</td>\n",
       "    </tr>\n",
       "    <tr>\n",
       "      <th>13</th>\n",
       "      <td>10.298225</td>\n",
       "      <td>55.765178</td>\n",
       "      <td>14.007029</td>\n",
       "      <td>MeOH</td>\n",
       "      <td>1.0</td>\n",
       "    </tr>\n",
       "    <tr>\n",
       "      <th>14</th>\n",
       "      <td>13.820171</td>\n",
       "      <td>72.425316</td>\n",
       "      <td>16.311564</td>\n",
       "      <td>MeOH</td>\n",
       "      <td>1.0</td>\n",
       "    </tr>\n",
       "    <tr>\n",
       "      <th>15</th>\n",
       "      <td>26.802664</td>\n",
       "      <td>41.200698</td>\n",
       "      <td>19.649636</td>\n",
       "      <td>MeOH</td>\n",
       "      <td>1.0</td>\n",
       "    </tr>\n",
       "  </tbody>\n",
       "</table>\n",
       "</div>"
      ],
      "text/plain": [
       "    Temperature  Solvent Volume      Yield Solvent Type  valid_Yield\n",
       "0     29.814435       50.685826  21.284486         MeOH          1.0\n",
       "1     28.415972       41.062471  20.461390         MeOH          1.0\n",
       "2      3.641233       25.237188  11.258489          THF          1.0\n",
       "3     33.750821       50.052498  17.428765      Dioxane          1.0\n",
       "4     23.084894       36.818143  16.061347          THF          1.0\n",
       "5     31.328968       81.498931  26.232578         MeOH          1.0\n",
       "6     27.393889       90.000000  25.661595         MeOH          1.0\n",
       "7     41.792834       90.000000  38.118440         MeOH          1.0\n",
       "8     60.000000       90.000000  68.604575         MeOH          1.0\n",
       "9     60.000000       20.000000  57.686075         MeOH          1.0\n",
       "10     9.346396       37.573335  13.619919         MeOH          1.0\n",
       "11     0.098189       46.474185  11.671481         MeOH          1.0\n",
       "12    60.000000       78.858977  61.996203         MeOH          1.0\n",
       "13    10.298225       55.765178  14.007029         MeOH          1.0\n",
       "14    13.820171       72.425316  16.311564         MeOH          1.0\n",
       "15    26.802664       41.200698  19.649636         MeOH          1.0"
      ]
     },
     "execution_count": 32,
     "metadata": {},
     "output_type": "execute_result"
    }
   ],
   "source": [
    "# you have access to the experiments here\n",
    "domain.experiments # alternatively sobo_strategy.experiments "
   ]
  },
  {
   "cell_type": "code",
   "execution_count": 33,
   "id": "1e073b2c-6672-4471-8201-e23b764d57d7",
   "metadata": {},
   "outputs": [
    {
     "data": {
      "text/plain": [
       "<AxesSubplot: >"
      ]
     },
     "execution_count": 33,
     "metadata": {},
     "output_type": "execute_result"
    },
    {
     "data": {
      "image/png": "[encoded data removed]",
      "text/plain": [
       "<Figure size 640x480 with 1 Axes>"
      ]
     },
     "metadata": {},
     "output_type": "display_data"
    }
   ],
   "source": [
    "# quick plot of yield vs. Iteration\n",
    "domain.experiments['Yield'].plot()"
   ]
  },
  {
   "cell_type": "markdown",
   "id": "c045013e-e109-4b8a-afdd-684b194af6f8",
   "metadata": {},
   "source": [
    "### TODO: \n",
    "* further analysis of the experiments. \n",
    "    * plot of Iteration vs. Y and best Y\n",
    "    * evaluation of final model w.r.t. Optimal conditions\n",
    "    * plot of final models' mean and variance as a function of the input parameters, perhaps different plots for each solvent, or in 3d as slices\n",
    "    * "
   ]
  }
 ],
 "metadata": {
  "kernelspec": {
   "display_name": "Python 3 (ipykernel)",
   "language": "python",
   "name": "python3"
  },
  "language_info": {
   "codemirror_mode": {
    "name": "ipython",
    "version": 3
   },
   "file_extension": ".py",
   "mimetype": "text/x-python",
   "name": "python",
   "nbconvert_exporter": "python",
   "pygments_lexer": "ipython3",
   "version": "3.9.7"
  }
 },
 "nbformat": 4,
 "nbformat_minor": 5
}
