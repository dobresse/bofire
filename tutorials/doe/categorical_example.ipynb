{
 "cells": [
  {
   "cell_type": "markdown",
   "metadata": {},
   "source": [
    "# Example for the usage of categorial variables in DOE "
   ]
  },
  {
   "cell_type": "code",
   "execution_count": null,
   "metadata": {},
   "outputs": [],
   "source": [
    "import numpy as np\n",
    "import matplotlib.pyplot as plt\n",
    "from matplotlib.ticker import FormatStrFormatter\n",
    "import matplotlib\n",
    "\n",
    "from bofire.data_models.constraints.api import (\n",
    "    LinearEqualityConstraint,\n",
    "    LinearInequalityConstraint,\n",
    ")\n",
    "from bofire.data_models.domain.api import Domain\n",
    "from bofire.data_models.features.api import ContinuousInput, ContinuousOutput, CategoricalInput, DiscreteInput, ContinuousBinaryInput\n",
    "from bofire.strategies.doe.design import find_local_max_ipopt, find_find_local_max_ipopt_binary_naive"
   ]
  },
  {
   "cell_type": "code",
   "execution_count": null,
   "metadata": {},
   "outputs": [],
   "source": [
    "def visualize_example(x, y):\n",
    "    fig = plt.figure(figsize=((10,10)))\n",
    "    ax = fig.add_subplot()\n",
    "    ax.set_title(\"Linear model\")\n",
    "    ax.set_xlabel(\"$x_1$\")\n",
    "    ax.set_ylabel(\"$x_2$\")\n",
    "    plt.rcParams[\"figure.figsize\"] = (10,8)\n",
    "\n",
    "    #plot feasible polytope\n",
    "    ax.plot(\n",
    "        [10, 0, 0],\n",
    "        [0, 0, 15],\n",
    "        linewidth=2\n",
    "    )\n",
    "    ax.plot(\n",
    "        [-5, 10],\n",
    "        [10, -5],\n",
    "        linewidth=2\n",
    "    )\n",
    "    ax.plot(\n",
    "        [0, 4],\n",
    "        [15, -5],\n",
    "        linewidth=2\n",
    "    )\n",
    "    ax.plot(\n",
    "        [0, 5],\n",
    "        [-2, 3],\n",
    "        linewidth=2\n",
    "    )\n",
    "\n",
    "    #plot D-optimal solutions\n",
    "    ax.scatter(\n",
    "        x=x,\n",
    "        y=y,\n",
    "        marker=\"o\",\n",
    "        s=40,\n",
    "        color=\"orange\",\n",
    "        label=\"optimal_design solution, 12 points\"\n",
    "    )\n",
    "\n",
    "    plt.legend()"
   ]
  },
  {
   "cell_type": "markdown",
   "metadata": {},
   "source": [
    "This will fail, as categorial varibales can not be used in DOE. In addtition there is no option within DoE which allowes categorical variabels within the constraints, hence even even if the DoE would allow categorical variables within its domain, there would be no option to make use of them."
   ]
  },
  {
   "cell_type": "code",
   "execution_count": null,
   "metadata": {},
   "outputs": [],
   "source": [
    "domain = Domain(\n",
    "   inputs = [\n",
    "    ContinuousInput(key=\"x1\", bounds = (-1,1)),\n",
    "    ContinuousInput(key=\"x2\", bounds = (0.1, 1)),\n",
    "    ContinuousInput(key=\"x3\", bounds = (0, 0.6)),\n",
    "    CategoricalInput(key=\"k1\", categories=[\"A\", \"B\", \"C\"], allowed=[True, True, True])\n",
    "    ],\n",
    "   outputs = [ContinuousOutput(key=\"y\")],\n",
    "   constraints = [\n",
    "       LinearInequalityConstraint(features=[\"x1\",\"x2\",\"x3\"], coefficients=[1,1,1], rhs=1),\n",
    "       LinearInequalityConstraint(features=[\"x1\",\"x2\"], coefficients=[5,4], rhs=3.9),\n",
    "       LinearInequalityConstraint(features=[\"x1\",\"x2\"], coefficients=[-20,5], rhs=-3)\n",
    "   ]\n",
    ")\n",
    "\n",
    "d_optimal_design = find_local_max_ipopt(domain, \"linear\", n_experiments=12, ipopt_options={\"disp\":0}).to_numpy().T"
   ]
  },
  {
   "cell_type": "markdown",
   "metadata": {},
   "source": [
    "## Use binary variables to encode categorical variables\n",
    "This is WIP. There are no binary variables yet and there is no mapping between binary variables to categorical variables.\n",
    "In this example we have three constraints a: x1 + x2 <= 5, b: x1 + 0.2 x2 <= 3, c: x1 - x2 <= 2 and 0 <= x1 <= 5, 0 <= x2 <= 15.\n",
    "We want to have only two of these three constraints active."
   ]
  },
  {
   "cell_type": "code",
   "execution_count": null,
   "metadata": {},
   "outputs": [],
   "source": [
    "domain = Domain(\n",
    "   inputs = [\n",
    "    ContinuousInput(key=\"x1\", bounds = (0,5)),\n",
    "    ContinuousInput(key=\"x2\", bounds = (0, 15)),\n",
    "    ],\n",
    "   outputs = [ContinuousOutput(key=\"y\")],\n",
    "   constraints = [\n",
    "       LinearInequalityConstraint(features=[\"x1\",\"x2\"], coefficients=[1, 1], rhs=5),\n",
    "       LinearInequalityConstraint(features=[\"x1\",\"x2\"], coefficients=[1, 0.2], rhs=3),\n",
    "       LinearInequalityConstraint(features=[\"x1\",\"x2\"], coefficients=[1, -1], rhs=2),\n",
    "   ]\n",
    ")\n",
    "\n",
    "d_optimal_design = find_local_max_ipopt(domain, \"linear\", n_experiments=12, ipopt_options={\"disp\":0}).to_numpy().T"
   ]
  },
  {
   "cell_type": "code",
   "execution_count": null,
   "metadata": {},
   "outputs": [],
   "source": [
    "visualize_example(d_optimal_design[0], d_optimal_design[1])"
   ]
  },
  {
   "cell_type": "markdown",
   "metadata": {},
   "source": [
    "When having binary variables in the optimization problem, we need to relax them to solve the optimization problem efficiently. The relaxation of binary variables is acchieved by relaxing to the interval [0,1]. Hence, for showcasing the relaxed optimization problem we can use continous variables bound on the interval [0,1] to immitate the relaxed binary varaibles. Try out what happens, if you fix the bounds of \"a1\" and \"a2\" to 0 or 1"
   ]
  },
  {
   "cell_type": "code",
   "execution_count": null,
   "metadata": {},
   "outputs": [],
   "source": [
    "domain = Domain(\n",
    "   inputs = [\n",
    "    ContinuousInput(key=\"x1\", bounds = (0,5)),\n",
    "    ContinuousInput(key=\"x2\", bounds = (0, 15)),\n",
    "    ContinuousInput(key=\"a1\", bounds = (0,1)),\n",
    "    ContinuousInput(key=\"a2\", bounds = (0,1))\n",
    "    ],\n",
    "   outputs = [ContinuousOutput(key=\"y\")],\n",
    "   constraints = [\n",
    "       # Case 1: a and b are active\n",
    "       LinearInequalityConstraint(features=[\"x1\",\"x2\", \"a1\", \"a2\"], coefficients=[1, 1, 10, -10], rhs=15),\n",
    "       LinearInequalityConstraint(features=[\"x1\",\"x2\", \"a1\", \"a2\"], coefficients=[1, 0.2, 2, -2], rhs=5),\n",
    "       LinearInequalityConstraint(features=[\"x1\",\"x2\", \"a1\", \"a2\"], coefficients=[1, -1, -3, 3], rhs=5),\n",
    "       # Case 2: a and c are active\n",
    "       LinearInequalityConstraint(features=[\"x1\",\"x2\", \"a1\", \"a2\"], coefficients=[1, 1, -10, -10], rhs=5),\n",
    "       LinearInequalityConstraint(features=[\"x1\",\"x2\", \"a1\", \"a2\"], coefficients=[1, 0.2, 2, 2], rhs=7),\n",
    "       LinearInequalityConstraint(features=[\"x1\",\"x2\", \"a1\", \"a2\"], coefficients=[1, -1, -3, -3], rhs=2),\n",
    "       # Case 3: c and b are active\n",
    "       LinearInequalityConstraint(features=[\"x1\",\"x2\", \"a1\", \"a2\"], coefficients=[1, 1, 0, -10], rhs=5),\n",
    "       LinearInequalityConstraint(features=[\"x1\",\"x2\", \"a1\", \"a2\"], coefficients=[1, 0.2, 0, 2], rhs=5),\n",
    "       LinearInequalityConstraint(features=[\"x1\",\"x2\", \"a1\", \"a2\"], coefficients=[1, -1, 0, 3], rhs=5),\n",
    "       \n",
    "   ]\n",
    ")\n",
    "\n",
    "d_optimal_design = find_local_max_ipopt(domain, \"linear\", n_experiments=12, ipopt_options={\"disp\":0})\n",
    "print(d_optimal_design)\n",
    "d_optimal_design = d_optimal_design.to_numpy().T"
   ]
  },
  {
   "cell_type": "code",
   "execution_count": null,
   "metadata": {},
   "outputs": [],
   "source": [
    "visualize_example(d_optimal_design[2], d_optimal_design[3])"
   ]
  },
  {
   "cell_type": "markdown",
   "metadata": {},
   "source": [
    "Instead of using ContinuousInput we can use BinaryInput, which behaves like the ContinuousInput but can be easily fixed to either 0 or 1 and only allows for bounds to be (0, 1)"
   ]
  },
  {
   "cell_type": "code",
   "execution_count": null,
   "metadata": {},
   "outputs": [],
   "source": [
    "domain = Domain(\n",
    "   inputs = [\n",
    "    ContinuousInput(key=\"x1\", bounds = (0,5)),\n",
    "    ContinuousInput(key=\"x2\", bounds = (0, 15)),\n",
    "    ContinuousBinaryInput(key=\"a1\", bounds = (0,1)),\n",
    "    ContinuousBinaryInput(key=\"a2\", bounds = (0,1))\n",
    "    ],\n",
    "   outputs = [ContinuousOutput(key=\"y\")],\n",
    "   constraints = [\n",
    "       # Case 1: a and b are active\n",
    "       LinearInequalityConstraint(features=[\"x1\",\"x2\", \"a1\", \"a2\"], coefficients=[1, 1, 10, -10], rhs=15),\n",
    "       LinearInequalityConstraint(features=[\"x1\",\"x2\", \"a1\", \"a2\"], coefficients=[1, 0.2, 2, -2], rhs=5),\n",
    "       LinearInequalityConstraint(features=[\"x1\",\"x2\", \"a1\", \"a2\"], coefficients=[1, -1, -3, 3], rhs=5),\n",
    "       # Case 2: a and c are active\n",
    "       LinearInequalityConstraint(features=[\"x1\",\"x2\", \"a1\", \"a2\"], coefficients=[1, 1, -10, -10], rhs=5),\n",
    "       LinearInequalityConstraint(features=[\"x1\",\"x2\", \"a1\", \"a2\"], coefficients=[1, 0.2, 2, 2], rhs=7),\n",
    "       LinearInequalityConstraint(features=[\"x1\",\"x2\", \"a1\", \"a2\"], coefficients=[1, -1, -3, -3], rhs=2),\n",
    "       # Case 3: c and b are active\n",
    "       LinearInequalityConstraint(features=[\"x1\",\"x2\", \"a1\", \"a2\"], coefficients=[1, 1, 0, -10], rhs=5),\n",
    "       LinearInequalityConstraint(features=[\"x1\",\"x2\", \"a1\", \"a2\"], coefficients=[1, 0.2, 0, 2], rhs=5),\n",
    "       LinearInequalityConstraint(features=[\"x1\",\"x2\", \"a1\", \"a2\"], coefficients=[1, -1, 0, 3], rhs=5),\n",
    "       \n",
    "   ]\n",
    ")\n",
    "\n",
    "d_optimal_design = find_local_max_ipopt(domain, \"linear\", n_experiments=12, ipopt_options={\"disp\":0})\n",
    "print(d_optimal_design)\n",
    "d_optimal_design = d_optimal_design.to_numpy().T"
   ]
  },
  {
   "cell_type": "code",
   "execution_count": null,
   "metadata": {},
   "outputs": [],
   "source": [
    "visualize_example(d_optimal_design[2], d_optimal_design[3])"
   ]
  },
  {
   "cell_type": "markdown",
   "metadata": {},
   "source": [
    "## Exhaustive Search\n",
    "A naive approach to find which setting for the binary variables leads to a minimum is to do an exhaustive search of the problem space.  \n"
   ]
  },
  {
   "cell_type": "code",
   "execution_count": null,
   "metadata": {},
   "outputs": [],
   "source": [
    "domain = Domain(\n",
    "        inputs=[\n",
    "            ContinuousInput(key=\"x1\", bounds=(0, 5)),\n",
    "            ContinuousInput(key=\"x2\", bounds=(0, 15)),\n",
    "            ContinuousBinaryInput(key=\"a1\"),\n",
    "            ContinuousBinaryInput(key=\"a2\")\n",
    "        ],\n",
    "        outputs=[ContinuousOutput(key=\"y\")],\n",
    "        constraints=[\n",
    "            # Case 1: a and b are active\n",
    "            LinearInequalityConstraint(features=[\"x1\", \"x2\", \"a1\", \"a2\"], coefficients=[1, 1, 10, -10], rhs=15),\n",
    "            LinearInequalityConstraint(features=[\"x1\", \"x2\", \"a1\", \"a2\"], coefficients=[1, 0.2, 2, -2], rhs=5),\n",
    "            LinearInequalityConstraint(features=[\"x1\", \"x2\", \"a1\", \"a2\"], coefficients=[1, -1, -3, 3], rhs=5),\n",
    "            # Case 2: a and c are active\n",
    "            LinearInequalityConstraint(features=[\"x1\", \"x2\", \"a1\", \"a2\"], coefficients=[1, 1, -10, -10], rhs=5),\n",
    "            LinearInequalityConstraint(features=[\"x1\", \"x2\", \"a1\", \"a2\"], coefficients=[1, 0.2, 2, 2], rhs=7),\n",
    "            LinearInequalityConstraint(features=[\"x1\", \"x2\", \"a1\", \"a2\"], coefficients=[1, -1, -3, -3], rhs=2),\n",
    "            # Case 3: c and b are active\n",
    "            LinearInequalityConstraint(features=[\"x1\", \"x2\", \"a1\", \"a2\"], coefficients=[1, 1, 0, -10], rhs=5),\n",
    "            LinearInequalityConstraint(features=[\"x1\", \"x2\", \"a1\", \"a2\"], coefficients=[1, 0.2, 0, 2], rhs=5),\n",
    "            LinearInequalityConstraint(features=[\"x1\", \"x2\", \"a1\", \"a2\"], coefficients=[1, -1, 0, 3], rhs=5),\n",
    "\n",
    "        ]\n",
    "    )\n",
    "\n",
    "d_optimal_design = find_find_local_max_ipopt_binary_naive(domain, \"linear\", n_experiments=12,\n",
    "                                                        ipopt_options={\"disp\": 0}, prohibited_binary_combinations=[(1, 1)])\n",
    "print(d_optimal_design)\n",
    "d_optimal_design = d_optimal_design.to_numpy().T\n"
   ]
  },
  {
   "cell_type": "code",
   "execution_count": null,
   "metadata": {},
   "outputs": [],
   "source": [
    "visualize_example(d_optimal_design[2], d_optimal_design[3])"
   ]
  },
  {
   "cell_type": "code",
   "execution_count": null,
   "metadata": {},
   "outputs": [],
   "source": []
  }
 ],
 "metadata": {
  "kernelspec": {
   "display_name": "Python 3 (ipykernel)",
   "language": "python",
   "name": "python3"
  },
  "language_info": {
   "codemirror_mode": {
    "name": "ipython",
    "version": 3
   },
   "file_extension": ".py",
   "mimetype": "text/x-python",
   "name": "python",
   "nbconvert_exporter": "python",
   "pygments_lexer": "ipython3",
   "version": "3.10.11"
  }
 },
 "nbformat": 4,
 "nbformat_minor": 2
}
