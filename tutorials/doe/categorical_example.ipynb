{
 "cells": [
  {
   "attachments": {},
   "cell_type": "markdown",
   "metadata": {},
   "source": [
    "# Example for the usage of categorial variables in DOE "
   ]
  },
  {
   "cell_type": "code",
   "execution_count": null,
   "metadata": {},
   "outputs": [],
   "source": [
    "import numpy as np\n",
    "import matplotlib.pyplot as plt\n",
    "from matplotlib.ticker import FormatStrFormatter\n",
    "\n",
    "from bofire.data_models.constraints.api import (\n",
    "    NonlinearEqualityConstraint,\n",
    "    NonlinearInequalityConstraint,\n",
    "    LinearEqualityConstraint,\n",
    "    LinearInequalityConstraint,\n",
    ")\n",
    "from bofire.data_models.domain.api import Domain\n",
    "from bofire.data_models.features.api import ContinuousInput, ContinuousOutput, CategoricalInput\n",
    "from bofire.strategies.doe.design import find_local_max_ipopt"
   ]
  },
  {
   "attachments": {},
   "cell_type": "markdown",
   "metadata": {},
   "source": [
    "This will fail, as categorial varibales can not be used in DOE"
   ]
  },
  {
   "cell_type": "code",
   "execution_count": null,
   "metadata": {},
   "outputs": [],
   "source": [
    "domain = Domain(\n",
    "   inputs = [\n",
    "    ContinuousInput(key=\"x1\", bounds = (0,1)),\n",
    "    ContinuousInput(key=\"x2\", bounds = (0.1, 1)),\n",
    "    ContinuousInput(key=\"x3\", bounds = (0, 0.6)),\n",
    "    CategoricalInput(key=\"k1\", categories=[\"A\", \"B\", \"C\"], allowed=[True, True, True])\n",
    "    ],\n",
    "   outputs = [ContinuousOutput(key=\"y\")],\n",
    "   constraints = [\n",
    "       LinearEqualityConstraint(features=[\"x1\",\"x2\",\"x3\"], coefficients=[1,1,1], rhs=1),\n",
    "       LinearInequalityConstraint(features=[\"x1\",\"x2\"], coefficients=[5,4], rhs=3.9),\n",
    "       LinearInequalityConstraint(features=[\"x1\",\"x2\"], coefficients=[-20,5], rhs=-3)\n",
    "   ]\n",
    ")\n",
    "\n",
    "d_optimal_design = find_local_max_ipopt(domain, \"linear\", n_experiments=12, ipopt_options={\"disp\":0}).to_numpy().T"
   ]
  },
  {
   "cell_type": "code",
   "execution_count": null,
   "metadata": {},
   "outputs": [],
   "source": [
    "fig = plt.figure(figsize=((10,10)))\n",
    "ax = fig.add_subplot(111, projection='3d')\n",
    "ax.view_init(45, 45)\n",
    "ax.set_title(\"Linear model\")\n",
    "ax.set_xlabel(\"$x_1$\")\n",
    "ax.set_ylabel(\"$x_2$\")\n",
    "ax.set_zlabel(\"$x_3$\")\n",
    "plt.rcParams[\"figure.figsize\"] = (10,8)\n",
    "\n",
    "#plot feasible polytope\n",
    "ax.plot(\n",
    "    xs=[7/10, 3/10, 1/5, 3/10, 7/10],\n",
    "    ys=[1/10, 3/5, 1/5, 1/10, 1/10],\n",
    "    zs=[1/5, 1/10, 3/5, 3/5, 1/5],\n",
    "    linewidth=2\n",
    ")\n",
    "\n",
    "#plot D-optimal solutions\n",
    "ax.scatter(\n",
    "    xs=d_optimal_design[0],\n",
    "    ys=d_optimal_design[1],\n",
    "    zs=d_optimal_design[2],\n",
    "    marker=\"o\",\n",
    "    s=40,\n",
    "    color=\"orange\",\n",
    "    label=\"optimal_design solution, 12 points\"\n",
    ")\n",
    "\n",
    "plt.legend()"
   ]
  }
 ],
 "metadata": {
  "kernelspec": {
   "display_name": "bofire",
   "language": "python",
   "name": "python3"
  },
  "language_info": {
   "codemirror_mode": {
    "name": "ipython",
    "version": 3
   },
   "file_extension": ".py",
   "mimetype": "text/x-python",
   "name": "python",
   "nbconvert_exporter": "python",
   "pygments_lexer": "ipython3",
   "version": "3.9.16"
  }
 },
 "nbformat": 4,
 "nbformat_minor": 2
}
