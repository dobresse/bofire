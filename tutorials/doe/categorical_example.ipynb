{
 "cells": [
  {
   "attachments": {},
   "cell_type": "markdown",
   "metadata": {},
   "source": [
    "# Example for the usage of categorial variables in DOE "
   ]
  },
  {
   "cell_type": "code",
   "execution_count": 1,
   "metadata": {},
   "outputs": [],
   "source": [
    "import numpy as np\n",
    "import matplotlib.pyplot as plt\n",
    "from matplotlib.ticker import FormatStrFormatter\n",
    "\n",
    "from bofire.data_models.constraints.api import (\n",
    "    NonlinearEqualityConstraint,\n",
    "    NonlinearInequalityConstraint,\n",
    "    LinearEqualityConstraint,\n",
    "    LinearInequalityConstraint,\n",
    ")\n",
    "from bofire.data_models.domain.api import Domain\n",
    "from bofire.data_models.features.api import ContinuousInput, ContinuousOutput, CategoricalInput\n",
    "from bofire.strategies.doe.design import find_local_max_ipopt"
   ]
  },
  {
   "attachments": {},
   "cell_type": "markdown",
   "metadata": {},
   "source": [
    "This will fail, as categorial varibales can not be used in DOE"
   ]
  },
  {
   "cell_type": "code",
   "execution_count": 2,
   "metadata": {},
   "outputs": [
    {
     "ename": "ValueError",
     "evalue": "could not convert string to float: 'A'",
     "output_type": "error",
     "traceback": [
      "\u001b[1;31m---------------------------------------------------------------------------\u001b[0m",
      "\u001b[1;31mValueError\u001b[0m                                Traceback (most recent call last)",
      "Cell \u001b[1;32mIn[2], line 16\u001b[0m\n\u001b[0;32m      1\u001b[0m domain \u001b[39m=\u001b[39m Domain(\n\u001b[0;32m      2\u001b[0m    inputs \u001b[39m=\u001b[39m [\n\u001b[0;32m      3\u001b[0m     ContinuousInput(key\u001b[39m=\u001b[39m\u001b[39m\"\u001b[39m\u001b[39mx1\u001b[39m\u001b[39m\"\u001b[39m, bounds \u001b[39m=\u001b[39m (\u001b[39m0\u001b[39m,\u001b[39m1\u001b[39m)),\n\u001b[1;32m   (...)\u001b[0m\n\u001b[0;32m     13\u001b[0m    ]\n\u001b[0;32m     14\u001b[0m )\n\u001b[1;32m---> 16\u001b[0m d_optimal_design \u001b[39m=\u001b[39m find_local_max_ipopt(domain, \u001b[39m\"\u001b[39;49m\u001b[39mlinear\u001b[39;49m\u001b[39m\"\u001b[39;49m, n_experiments\u001b[39m=\u001b[39;49m\u001b[39m12\u001b[39;49m, ipopt_options\u001b[39m=\u001b[39;49m{\u001b[39m\"\u001b[39;49m\u001b[39mdisp\u001b[39;49m\u001b[39m\"\u001b[39;49m:\u001b[39m0\u001b[39;49m})\u001b[39m.\u001b[39mto_numpy()\u001b[39m.\u001b[39mT\n",
      "File \u001b[1;32mc:\\Users\\GuenesUI\\AppData\\Local\\miniconda3\\envs\\bofire\\lib\\site-packages\\bofire\\strategies\\doe\\design.py:158\u001b[0m, in \u001b[0;36mfind_local_max_ipopt\u001b[1;34m(domain, model_type, n_experiments, delta, ipopt_options, sampling, fixed_experiments, objective)\u001b[0m\n\u001b[0;32m    147\u001b[0m     _ipopt_options[\u001b[39m\"\u001b[39m\u001b[39mdisp\u001b[39m\u001b[39m\"\u001b[39m] \u001b[39m=\u001b[39m \u001b[39m0\u001b[39m\n\u001b[0;32m    149\u001b[0m \u001b[39m#\u001b[39;00m\n\u001b[0;32m    150\u001b[0m \u001b[39m# Do the optimization\u001b[39;00m\n\u001b[0;32m    151\u001b[0m \u001b[39m#\u001b[39;00m\n\u001b[0;32m    153\u001b[0m result \u001b[39m=\u001b[39m minimize_ipopt(\n\u001b[0;32m    154\u001b[0m     d_optimality\u001b[39m.\u001b[39mevaluate,\n\u001b[0;32m    155\u001b[0m     x0\u001b[39m=\u001b[39mx0,\n\u001b[0;32m    156\u001b[0m     bounds\u001b[39m=\u001b[39mbounds,\n\u001b[0;32m    157\u001b[0m     \u001b[39m# \"SLSQP\" has no deeper meaning here and just ensures correct constraint standardization\u001b[39;00m\n\u001b[1;32m--> 158\u001b[0m     constraints\u001b[39m=\u001b[39mstandardize_constraints(constraints, x0, \u001b[39m\"\u001b[39;49m\u001b[39mSLSQP\u001b[39;49m\u001b[39m\"\u001b[39;49m),\n\u001b[0;32m    159\u001b[0m     options\u001b[39m=\u001b[39m_ipopt_options,\n\u001b[0;32m    160\u001b[0m     jac\u001b[39m=\u001b[39md_optimality\u001b[39m.\u001b[39mevaluate_jacobian,\n\u001b[0;32m    161\u001b[0m )\n\u001b[0;32m    163\u001b[0m design \u001b[39m=\u001b[39m pd\u001b[39m.\u001b[39mDataFrame(\n\u001b[0;32m    164\u001b[0m     result[\u001b[39m\"\u001b[39m\u001b[39mx\u001b[39m\u001b[39m\"\u001b[39m]\u001b[39m.\u001b[39mreshape(n_experiments, \u001b[39mlen\u001b[39m(domain\u001b[39m.\u001b[39minputs)),\n\u001b[0;32m    165\u001b[0m     columns\u001b[39m=\u001b[39mdomain\u001b[39m.\u001b[39minputs\u001b[39m.\u001b[39mget_keys(),\n\u001b[0;32m    166\u001b[0m     index\u001b[39m=\u001b[39m[\u001b[39mf\u001b[39m\u001b[39m\"\u001b[39m\u001b[39mexp\u001b[39m\u001b[39m{\u001b[39;00mi\u001b[39m}\u001b[39;00m\u001b[39m\"\u001b[39m \u001b[39mfor\u001b[39;00m i \u001b[39min\u001b[39;00m \u001b[39mrange\u001b[39m(n_experiments)],\n\u001b[0;32m    167\u001b[0m )\n\u001b[0;32m    169\u001b[0m \u001b[39m# exit message\u001b[39;00m\n",
      "File \u001b[1;32mc:\\Users\\GuenesUI\\AppData\\Local\\miniconda3\\envs\\bofire\\lib\\site-packages\\scipy\\optimize\\_minimize.py:992\u001b[0m, in \u001b[0;36mstandardize_constraints\u001b[1;34m(constraints, x0, meth)\u001b[0m\n\u001b[0;32m    990\u001b[0m \u001b[39mfor\u001b[39;00m i, con \u001b[39min\u001b[39;00m \u001b[39menumerate\u001b[39m(\u001b[39mlist\u001b[39m(constraints)):\n\u001b[0;32m    991\u001b[0m     \u001b[39mif\u001b[39;00m \u001b[39misinstance\u001b[39m(con, new_constraint_types):\n\u001b[1;32m--> 992\u001b[0m         old_constraints \u001b[39m=\u001b[39m new_constraint_to_old(con, x0)\n\u001b[0;32m    993\u001b[0m         constraints[i] \u001b[39m=\u001b[39m old_constraints[\u001b[39m0\u001b[39m]\n\u001b[0;32m    994\u001b[0m         constraints\u001b[39m.\u001b[39mextend(old_constraints[\u001b[39m1\u001b[39m:])  \u001b[39m# appends 1 if present\u001b[39;00m\n",
      "File \u001b[1;32mc:\\Users\\GuenesUI\\AppData\\Local\\miniconda3\\envs\\bofire\\lib\\site-packages\\scipy\\optimize\\_constraints.py:470\u001b[0m, in \u001b[0;36mnew_constraint_to_old\u001b[1;34m(con, x0)\u001b[0m\n\u001b[0;32m    466\u001b[0m     jac \u001b[39m=\u001b[39m \u001b[39mlambda\u001b[39;00m x: A\n\u001b[0;32m    468\u001b[0m \u001b[39m# FIXME: when bugs in VectorFunction/LinearVectorFunction are worked out,\u001b[39;00m\n\u001b[0;32m    469\u001b[0m \u001b[39m# use pcon.fun.fun and pcon.fun.jac. Until then, get fun/jac above.\u001b[39;00m\n\u001b[1;32m--> 470\u001b[0m pcon \u001b[39m=\u001b[39m PreparedConstraint(con, x0)\n\u001b[0;32m    471\u001b[0m lb, ub \u001b[39m=\u001b[39m pcon\u001b[39m.\u001b[39mbounds\n\u001b[0;32m    473\u001b[0m i_eq \u001b[39m=\u001b[39m lb \u001b[39m==\u001b[39m ub\n",
      "File \u001b[1;32mc:\\Users\\GuenesUI\\AppData\\Local\\miniconda3\\envs\\bofire\\lib\\site-packages\\scipy\\optimize\\_constraints.py:335\u001b[0m, in \u001b[0;36mPreparedConstraint.__init__\u001b[1;34m(self, constraint, x0, sparse_jacobian, finite_diff_bounds)\u001b[0m\n\u001b[0;32m    329\u001b[0m     fun \u001b[39m=\u001b[39m VectorFunction(constraint\u001b[39m.\u001b[39mfun, x0,\n\u001b[0;32m    330\u001b[0m                          constraint\u001b[39m.\u001b[39mjac, constraint\u001b[39m.\u001b[39mhess,\n\u001b[0;32m    331\u001b[0m                          constraint\u001b[39m.\u001b[39mfinite_diff_rel_step,\n\u001b[0;32m    332\u001b[0m                          constraint\u001b[39m.\u001b[39mfinite_diff_jac_sparsity,\n\u001b[0;32m    333\u001b[0m                          finite_diff_bounds, sparse_jacobian)\n\u001b[0;32m    334\u001b[0m \u001b[39melif\u001b[39;00m \u001b[39misinstance\u001b[39m(constraint, LinearConstraint):\n\u001b[1;32m--> 335\u001b[0m     fun \u001b[39m=\u001b[39m LinearVectorFunction(constraint\u001b[39m.\u001b[39;49mA, x0, sparse_jacobian)\n\u001b[0;32m    336\u001b[0m \u001b[39melif\u001b[39;00m \u001b[39misinstance\u001b[39m(constraint, Bounds):\n\u001b[0;32m    337\u001b[0m     fun \u001b[39m=\u001b[39m IdentityVectorFunction(x0, sparse_jacobian)\n",
      "File \u001b[1;32mc:\\Users\\GuenesUI\\AppData\\Local\\miniconda3\\envs\\bofire\\lib\\site-packages\\scipy\\optimize\\_differentiable_functions.py:572\u001b[0m, in \u001b[0;36mLinearVectorFunction.__init__\u001b[1;34m(self, A, x0, sparse_jacobian)\u001b[0m\n\u001b[0;32m    568\u001b[0m     \u001b[39mself\u001b[39m\u001b[39m.\u001b[39msparse_jacobian \u001b[39m=\u001b[39m \u001b[39mFalse\u001b[39;00m\n\u001b[0;32m    570\u001b[0m \u001b[39mself\u001b[39m\u001b[39m.\u001b[39mm, \u001b[39mself\u001b[39m\u001b[39m.\u001b[39mn \u001b[39m=\u001b[39m \u001b[39mself\u001b[39m\u001b[39m.\u001b[39mJ\u001b[39m.\u001b[39mshape\n\u001b[1;32m--> 572\u001b[0m \u001b[39mself\u001b[39m\u001b[39m.\u001b[39mx \u001b[39m=\u001b[39m np\u001b[39m.\u001b[39;49matleast_1d(x0)\u001b[39m.\u001b[39;49mastype(\u001b[39mfloat\u001b[39;49m)\n\u001b[0;32m    573\u001b[0m \u001b[39mself\u001b[39m\u001b[39m.\u001b[39mf \u001b[39m=\u001b[39m \u001b[39mself\u001b[39m\u001b[39m.\u001b[39mJ\u001b[39m.\u001b[39mdot(\u001b[39mself\u001b[39m\u001b[39m.\u001b[39mx)\n\u001b[0;32m    574\u001b[0m \u001b[39mself\u001b[39m\u001b[39m.\u001b[39mf_updated \u001b[39m=\u001b[39m \u001b[39mTrue\u001b[39;00m\n",
      "\u001b[1;31mValueError\u001b[0m: could not convert string to float: 'A'"
     ]
    }
   ],
   "source": [
    "domain = Domain(\n",
    "   inputs = [\n",
    "    ContinuousInput(key=\"x1\", bounds = (0,1)),\n",
    "    ContinuousInput(key=\"x2\", bounds = (0.1, 1)),\n",
    "    ContinuousInput(key=\"x3\", bounds = (0, 0.6)),\n",
    "    CategoricalInput(key=\"k1\", categories=[\"A\", \"B\", \"C\"], allowed=[True, True, True])\n",
    "    ],\n",
    "   outputs = [ContinuousOutput(key=\"y\")],\n",
    "   constraints = [\n",
    "       LinearEqualityConstraint(features=[\"x1\",\"x2\",\"x3\"], coefficients=[1,1,1], rhs=1),\n",
    "       LinearInequalityConstraint(features=[\"x1\",\"x2\"], coefficients=[5,4], rhs=3.9),\n",
    "       LinearInequalityConstraint(features=[\"x1\",\"x2\"], coefficients=[-20,5], rhs=-3)\n",
    "   ]\n",
    ")\n",
    "\n",
    "d_optimal_design = find_local_max_ipopt(domain, \"linear\", n_experiments=12, ipopt_options={\"disp\":0}).to_numpy().T"
   ]
  },
  {
   "cell_type": "code",
   "execution_count": null,
   "metadata": {},
   "outputs": [],
   "source": [
    "fig = plt.figure(figsize=((10,10)))\n",
    "ax = fig.add_subplot(111, projection='3d')\n",
    "ax.view_init(45, 45)\n",
    "ax.set_title(\"Linear model\")\n",
    "ax.set_xlabel(\"$x_1$\")\n",
    "ax.set_ylabel(\"$x_2$\")\n",
    "ax.set_zlabel(\"$x_3$\")\n",
    "plt.rcParams[\"figure.figsize\"] = (10,8)\n",
    "\n",
    "#plot feasible polytope\n",
    "ax.plot(\n",
    "    xs=[7/10, 3/10, 1/5, 3/10, 7/10],\n",
    "    ys=[1/10, 3/5, 1/5, 1/10, 1/10],\n",
    "    zs=[1/5, 1/10, 3/5, 3/5, 1/5],\n",
    "    linewidth=2\n",
    ")\n",
    "\n",
    "#plot D-optimal solutions\n",
    "ax.scatter(\n",
    "    xs=d_optimal_design[0],\n",
    "    ys=d_optimal_design[1],\n",
    "    zs=d_optimal_design[2],\n",
    "    marker=\"o\",\n",
    "    s=40,\n",
    "    color=\"orange\",\n",
    "    label=\"optimal_design solution, 12 points\"\n",
    ")\n",
    "\n",
    "plt.legend()"
   ]
  }
 ],
 "metadata": {
  "kernelspec": {
   "display_name": "bofire",
   "language": "python",
   "name": "python3"
  },
  "language_info": {
   "codemirror_mode": {
    "name": "ipython",
    "version": 3
   },
   "file_extension": ".py",
   "mimetype": "text/x-python",
   "name": "python",
   "nbconvert_exporter": "python",
   "pygments_lexer": "ipython3",
   "version": "3.9.16"
  },
  "orig_nbformat": 4
 },
 "nbformat": 4,
 "nbformat_minor": 2
}
