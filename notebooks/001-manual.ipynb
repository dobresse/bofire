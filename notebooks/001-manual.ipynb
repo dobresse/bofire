{
 "cells": [
  {
   "cell_type": "markdown",
   "metadata": {},
   "source": [
    "# Manual Tutorial\n",
    "\n",
    "This tutorial shows how to setup an optimization problem and solve it in an iterative fashion using everest's ask and tell interface. For this purpose the Himmelblau benchmark function is used. For the automatic optimization have a look at `../benchmarks/001-Himmelblau.ipynb`. Enjoy the ride!\n",
    "\n",
    "## Imports"
   ]
  },
  {
   "cell_type": "code",
   "execution_count": 3,
   "metadata": {},
   "outputs": [],
   "source": [
    "import os\n",
    "import pathlib\n",
    "import sys\n",
    "\n",
    "import numpy as np\n",
    "import pandas as pd\n",
    "\n",
    "import matplotlib.pyplot as plt\n",
    "\n",
    "\n",
    "#pypath = os.path.join(str(pathlib.Path.cwd().parent.parent),\"app\",\"lib\")\n",
    "\n",
    "#sys.path.append(pypath)\n",
    "\n",
    "from everest.domain import Domain\n",
    "from everest.domain.features import ContinuousInputFeature, ContinuousOutputFeature\n",
    "from everest.domain.desirability_functions import MinIdentityDesirabilityFunction\n",
    "from everest.strategies.strategy import RandomStrategy\n",
    "from everest.strategies.botorch.sobo import BoTorchSoboStrategy\n",
    "\n"
   ]
  },
  {
   "cell_type": "markdown",
   "metadata": {},
   "source": [
    "## Setup the optimization problem\n",
    "\n",
    "First the optimization problem ie. its domain has to be setup."
   ]
  },
  {
   "cell_type": "code",
   "execution_count": 24,
   "metadata": {},
   "outputs": [
    {
     "data": {
      "text/plain": [
       "Domain(input_features=[ContinuousInputFeature(key='x_1', lower_bound=-4.0, upper_bound=4.0), ContinuousInputFeature(key='x_2', lower_bound=-4.0, upper_bound=4.0)], output_features=[ContinuousOutputFeature(key='y', desirability_function=MinIdentityDesirabilityFunction(w=1.0))], constraints=[])"
      ]
     },
     "execution_count": 24,
     "metadata": {},
     "output_type": "execute_result"
    }
   ],
   "source": [
    "domain = Domain()\n",
    "\n",
    "domain.add_feature(ContinuousInputFeature(key=\"x_1\",lower_bound=-4., upper_bound=4.))\n",
    "domain.add_feature(ContinuousInputFeature(key=\"x_2\",lower_bound=-4., upper_bound=4.))\n",
    "\n",
    "# as we want to minimize the Himmelblau function we have to use the MinIdentityDesirabilityFunction\n",
    "desirability_function = MinIdentityDesirabilityFunction(w=1.)\n",
    "domain.add_feature(ContinuousOutputFeature(key=\"y\",desirability_function=desirability_function))\n",
    "\n",
    "# show the domain\n",
    "domain\n"
   ]
  },
  {
   "cell_type": "markdown",
   "metadata": {},
   "source": [
    "## Generate Training data\n",
    "\n",
    "We will use Everest's random strategy to sample uniform from the defined domain. In addition we implement the Himmelblau function."
   ]
  },
  {
   "cell_type": "code",
   "execution_count": 25,
   "metadata": {},
   "outputs": [],
   "source": [
    "def run_candidate_experiments(candidates:pd.DataFrame, **kwargs):\n",
    "    candidates.eval(\"y=((x_1**2 + x_2 - 11)**2+(x_1 + x_2**2 -7)**2)\",inplace=True)\n",
    "    candidates[\"valid_y\"] =1\n",
    "    return candidates"
   ]
  },
  {
   "cell_type": "code",
   "execution_count": 40,
   "metadata": {},
   "outputs": [
    {
     "data": {
      "text/html": [
       "<div>\n",
       "<style scoped>\n",
       "    .dataframe tbody tr th:only-of-type {\n",
       "        vertical-align: middle;\n",
       "    }\n",
       "\n",
       "    .dataframe tbody tr th {\n",
       "        vertical-align: top;\n",
       "    }\n",
       "\n",
       "    .dataframe thead th {\n",
       "        text-align: right;\n",
       "    }\n",
       "</style>\n",
       "<table border=\"1\" class=\"dataframe\">\n",
       "  <thead>\n",
       "    <tr style=\"text-align: right;\">\n",
       "      <th></th>\n",
       "      <th>x_1</th>\n",
       "      <th>x_2</th>\n",
       "      <th>y</th>\n",
       "      <th>valid_y</th>\n",
       "    </tr>\n",
       "  </thead>\n",
       "  <tbody>\n",
       "    <tr>\n",
       "      <th>0</th>\n",
       "      <td>2.891108</td>\n",
       "      <td>2.000749</td>\n",
       "      <td>0.421768</td>\n",
       "      <td>1</td>\n",
       "    </tr>\n",
       "    <tr>\n",
       "      <th>1</th>\n",
       "      <td>3.181406</td>\n",
       "      <td>1.999215</td>\n",
       "      <td>1.287439</td>\n",
       "      <td>1</td>\n",
       "    </tr>\n",
       "    <tr>\n",
       "      <th>2</th>\n",
       "      <td>2.388869</td>\n",
       "      <td>-2.631800</td>\n",
       "      <td>68.167638</td>\n",
       "      <td>1</td>\n",
       "    </tr>\n",
       "    <tr>\n",
       "      <th>3</th>\n",
       "      <td>-0.659233</td>\n",
       "      <td>2.382550</td>\n",
       "      <td>70.890295</td>\n",
       "      <td>1</td>\n",
       "    </tr>\n",
       "    <tr>\n",
       "      <th>4</th>\n",
       "      <td>1.490468</td>\n",
       "      <td>-0.066461</td>\n",
       "      <td>108.539717</td>\n",
       "      <td>1</td>\n",
       "    </tr>\n",
       "    <tr>\n",
       "      <th>5</th>\n",
       "      <td>3.033699</td>\n",
       "      <td>-3.464592</td>\n",
       "      <td>92.275798</td>\n",
       "      <td>1</td>\n",
       "    </tr>\n",
       "    <tr>\n",
       "      <th>6</th>\n",
       "      <td>-0.092261</td>\n",
       "      <td>-1.854830</td>\n",
       "      <td>178.364015</td>\n",
       "      <td>1</td>\n",
       "    </tr>\n",
       "    <tr>\n",
       "      <th>7</th>\n",
       "      <td>-3.335610</td>\n",
       "      <td>-0.621683</td>\n",
       "      <td>99.230407</td>\n",
       "      <td>1</td>\n",
       "    </tr>\n",
       "    <tr>\n",
       "      <th>8</th>\n",
       "      <td>-1.957456</td>\n",
       "      <td>-3.157584</td>\n",
       "      <td>107.651149</td>\n",
       "      <td>1</td>\n",
       "    </tr>\n",
       "    <tr>\n",
       "      <th>9</th>\n",
       "      <td>-2.654095</td>\n",
       "      <td>-3.281897</td>\n",
       "      <td>53.631110</td>\n",
       "      <td>1</td>\n",
       "    </tr>\n",
       "  </tbody>\n",
       "</table>\n",
       "</div>"
      ],
      "text/plain": [
       "        x_1       x_2           y  valid_y\n",
       "0  2.891108  2.000749    0.421768        1\n",
       "1  3.181406  1.999215    1.287439        1\n",
       "2  2.388869 -2.631800   68.167638        1\n",
       "3 -0.659233  2.382550   70.890295        1\n",
       "4  1.490468 -0.066461  108.539717        1\n",
       "5  3.033699 -3.464592   92.275798        1\n",
       "6 -0.092261 -1.854830  178.364015        1\n",
       "7 -3.335610 -0.621683   99.230407        1\n",
       "8 -1.957456 -3.157584  107.651149        1\n",
       "9 -2.654095 -3.281897   53.631110        1"
      ]
     },
     "execution_count": 40,
     "metadata": {},
     "output_type": "execute_result"
    }
   ],
   "source": [
    "rs = RandomStrategy.from_domain(domain,use_sobol=False)\n",
    "candidates, _ = rs.ask(candidate_count = 10)\n",
    "experiments = run_candidate_experiments(candidates)[domain.experiment_column_names].copy()\n",
    "experiments"
   ]
  },
  {
   "cell_type": "markdown",
   "metadata": {},
   "source": [
    "### Setup Single Objectiver BO and generate candidates\n",
    "Tell the experiments the optimizer and ask for candidates."
   ]
  },
  {
   "cell_type": "code",
   "execution_count": 41,
   "metadata": {},
   "outputs": [
    {
     "data": {
      "text/html": [
       "<div>\n",
       "<style scoped>\n",
       "    .dataframe tbody tr th:only-of-type {\n",
       "        vertical-align: middle;\n",
       "    }\n",
       "\n",
       "    .dataframe tbody tr th {\n",
       "        vertical-align: top;\n",
       "    }\n",
       "\n",
       "    .dataframe thead th {\n",
       "        text-align: right;\n",
       "    }\n",
       "</style>\n",
       "<table border=\"1\" class=\"dataframe\">\n",
       "  <thead>\n",
       "    <tr style=\"text-align: right;\">\n",
       "      <th></th>\n",
       "      <th>x_1</th>\n",
       "      <th>x_2</th>\n",
       "      <th>y_pred</th>\n",
       "      <th>y_sd</th>\n",
       "      <th>y_des</th>\n",
       "    </tr>\n",
       "  </thead>\n",
       "  <tbody>\n",
       "    <tr>\n",
       "      <th>0</th>\n",
       "      <td>2.907812</td>\n",
       "      <td>3.322958</td>\n",
       "      <td>15.404523</td>\n",
       "      <td>41.070571</td>\n",
       "      <td>-15.404523</td>\n",
       "    </tr>\n",
       "    <tr>\n",
       "      <th>1</th>\n",
       "      <td>-4.000000</td>\n",
       "      <td>-4.000000</td>\n",
       "      <td>32.597511</td>\n",
       "      <td>44.268601</td>\n",
       "      <td>-32.597511</td>\n",
       "    </tr>\n",
       "  </tbody>\n",
       "</table>\n",
       "</div>"
      ],
      "text/plain": [
       "        x_1       x_2     y_pred       y_sd      y_des\n",
       "0  2.907812  3.322958  15.404523  41.070571 -15.404523\n",
       "1 -4.000000 -4.000000  32.597511  44.268601 -32.597511"
      ]
     },
     "execution_count": 41,
     "metadata": {},
     "output_type": "execute_result"
    }
   ],
   "source": [
    "sobo = BoTorchSoboStrategy.from_domain(domain, acquisition_function = \"QNEI\")\n",
    "sobo.tell(experiments)\n",
    "candidates, _ = sobo.ask(candidate_count=2)\n",
    "candidates"
   ]
  },
  {
   "cell_type": "markdown",
   "metadata": {},
   "source": [
    "In the next step you can evaluate the candidates and tell them the optimizer again and ask for the next set of candidates."
   ]
  },
  {
   "cell_type": "code",
   "execution_count": 42,
   "metadata": {},
   "outputs": [
    {
     "data": {
      "text/html": [
       "<div>\n",
       "<style scoped>\n",
       "    .dataframe tbody tr th:only-of-type {\n",
       "        vertical-align: middle;\n",
       "    }\n",
       "\n",
       "    .dataframe tbody tr th {\n",
       "        vertical-align: top;\n",
       "    }\n",
       "\n",
       "    .dataframe thead th {\n",
       "        text-align: right;\n",
       "    }\n",
       "</style>\n",
       "<table border=\"1\" class=\"dataframe\">\n",
       "  <thead>\n",
       "    <tr style=\"text-align: right;\">\n",
       "      <th></th>\n",
       "      <th>x_1</th>\n",
       "      <th>x_2</th>\n",
       "      <th>y_pred</th>\n",
       "      <th>y_sd</th>\n",
       "      <th>y_des</th>\n",
       "    </tr>\n",
       "  </thead>\n",
       "  <tbody>\n",
       "    <tr>\n",
       "      <th>0</th>\n",
       "      <td>3.802180</td>\n",
       "      <td>0.942373</td>\n",
       "      <td>20.972668</td>\n",
       "      <td>34.356627</td>\n",
       "      <td>-20.972668</td>\n",
       "    </tr>\n",
       "    <tr>\n",
       "      <th>1</th>\n",
       "      <td>0.600571</td>\n",
       "      <td>4.000000</td>\n",
       "      <td>68.400896</td>\n",
       "      <td>46.630056</td>\n",
       "      <td>-68.400896</td>\n",
       "    </tr>\n",
       "  </tbody>\n",
       "</table>\n",
       "</div>"
      ],
      "text/plain": [
       "        x_1       x_2     y_pred       y_sd      y_des\n",
       "0  3.802180  0.942373  20.972668  34.356627 -20.972668\n",
       "1  0.600571  4.000000  68.400896  46.630056 -68.400896"
      ]
     },
     "execution_count": 42,
     "metadata": {},
     "output_type": "execute_result"
    }
   ],
   "source": [
    "experiments = run_candidate_experiments(candidates)[domain.experiment_column_names].copy()\n",
    "sobo.tell(experiments, replace=False)\n",
    "candidates, _ = sobo.ask(candidate_count=2)\n",
    "candidates"
   ]
  },
  {
   "cell_type": "markdown",
   "metadata": {},
   "source": [
    "Of course you can do this also in a loop. For this purpose, you the `Study` class."
   ]
  },
  {
   "cell_type": "markdown",
   "metadata": {},
   "source": []
  }
 ],
 "metadata": {
  "interpreter": {
   "hash": "50077122d83430e029bf2362124cf3928cfea0c9d2b42539f789dcb8b3dbe07c"
  },
  "kernelspec": {
   "display_name": "Python 3.8.12 ('everest_env')",
   "language": "python",
   "name": "python3"
  },
  "language_info": {
   "codemirror_mode": {
    "name": "ipython",
    "version": 3
   },
   "file_extension": ".py",
   "mimetype": "text/x-python",
   "name": "python",
   "nbconvert_exporter": "python",
   "pygments_lexer": "ipython3",
   "version": "3.8.12"
  },
  "orig_nbformat": 4
 },
 "nbformat": 4,
 "nbformat_minor": 2
}
