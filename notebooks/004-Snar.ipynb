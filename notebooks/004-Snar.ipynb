{
 "cells": [
  {
   "cell_type": "markdown",
   "metadata": {},
   "source": [
    "# Snar Benchmark\n",
    "## Imports"
   ]
  },
  {
   "cell_type": "code",
   "execution_count": 1,
   "metadata": {},
   "outputs": [
    {
     "name": "stdout",
     "output_type": "stream",
     "text": [
      "__init__.py run\n"
     ]
    }
   ],
   "source": [
    "import json\n",
    "import os\n",
    "import pathlib\n",
    "import sys\n",
    "import warnings\n",
    "warnings.filterwarnings('ignore')\n",
    "\n",
    "import numpy as np\n",
    "import pandas as pd\n",
    "\n",
    "import matplotlib.pyplot as plt\n",
    "\n",
    "\n",
    "#pypath = os.path.join(str(pathlib.Path.cwd().parent.parent),\"app\",\"lib\")\n",
    "\n",
    "#sys.path.append(pypath)\n",
    "\n",
    "from everest.study import PoolStudy\n",
    "from everest.benchmarks.multiobjective import SnarBenchmark\n",
    "from everest.strategies.strategy import RandomStrategy\n",
    "from everest.strategies.botorch.sobo import BoTorchSoboStrategy\n",
    "from everest.strategies.botorch.qehvi import BoTorchQnehviStrategy, BoTorchQehviStrategy\n",
    "from everest.domain.features import InputFeature\n",
    "\n",
    "from everest.benchmarks.visualization import plot_optimization_history, plot_pooloptimization_history\n",
    "from everest.api import datascience\n"
   ]
  },
  {
   "cell_type": "code",
   "execution_count": 2,
   "metadata": {},
   "outputs": [
    {
     "data": {
      "text/html": [
       "<div>\n",
       "<style scoped>\n",
       "    .dataframe tbody tr th:only-of-type {\n",
       "        vertical-align: middle;\n",
       "    }\n",
       "\n",
       "    .dataframe tbody tr th {\n",
       "        vertical-align: top;\n",
       "    }\n",
       "\n",
       "    .dataframe thead th {\n",
       "        text-align: right;\n",
       "    }\n",
       "</style>\n",
       "<table border=\"1\" class=\"dataframe\">\n",
       "  <thead>\n",
       "    <tr style=\"text-align: right;\">\n",
       "      <th></th>\n",
       "      <th>Type</th>\n",
       "      <th>Description</th>\n",
       "    </tr>\n",
       "  </thead>\n",
       "  <tbody>\n",
       "    <tr>\n",
       "      <th>conc_dfnb</th>\n",
       "      <td>ContinuousInputFeature</td>\n",
       "      <td>[0.1,0.5]</td>\n",
       "    </tr>\n",
       "    <tr>\n",
       "      <th>equiv_pldn</th>\n",
       "      <td>ContinuousInputFeature</td>\n",
       "      <td>[1.0,5.0]</td>\n",
       "    </tr>\n",
       "    <tr>\n",
       "      <th>tau</th>\n",
       "      <td>ContinuousInputFeature</td>\n",
       "      <td>[0.5,2.0]</td>\n",
       "    </tr>\n",
       "    <tr>\n",
       "      <th>temperature</th>\n",
       "      <td>ContinuousInputFeature</td>\n",
       "      <td>[30.0,120.0]</td>\n",
       "    </tr>\n",
       "    <tr>\n",
       "      <th>e_factor</th>\n",
       "      <td>ContinuousOutputFeature</td>\n",
       "      <td>MinIdentityDesirabilityFunction</td>\n",
       "    </tr>\n",
       "    <tr>\n",
       "      <th>sty</th>\n",
       "      <td>ContinuousOutputFeature</td>\n",
       "      <td>MaxIdentityDesirabilityFunction</td>\n",
       "    </tr>\n",
       "  </tbody>\n",
       "</table>\n",
       "</div>"
      ],
      "text/plain": [
       "                                Type                      Description\n",
       "conc_dfnb     ContinuousInputFeature                        [0.1,0.5]\n",
       "equiv_pldn    ContinuousInputFeature                        [1.0,5.0]\n",
       "tau           ContinuousInputFeature                        [0.5,2.0]\n",
       "temperature   ContinuousInputFeature                     [30.0,120.0]\n",
       "e_factor     ContinuousOutputFeature  MinIdentityDesirabilityFunction\n",
       "sty          ContinuousOutputFeature  MaxIdentityDesirabilityFunction"
      ]
     },
     "execution_count": 2,
     "metadata": {},
     "output_type": "execute_result"
    }
   ],
   "source": [
    "snar = SnarBenchmark()\n",
    "snar.domain.get_feature_reps_df()"
   ]
  },
  {
   "cell_type": "markdown",
   "metadata": {},
   "source": [
    "## Run strategies"
   ]
  },
  {
   "cell_type": "code",
   "execution_count": 12,
   "metadata": {},
   "outputs": [],
   "source": [
    "num_optimizations = 1\n",
    "num_iterations = 60\n",
    "batch_size = 1"
   ]
  },
  {
   "cell_type": "markdown",
   "metadata": {},
   "source": [
    "### Random Strategy"
   ]
  },
  {
   "cell_type": "code",
   "execution_count": 10,
   "metadata": {},
   "outputs": [
    {
     "name": "stderr",
     "output_type": "stream",
     "text": [
      "100%|██████████| 60/60 [00:02<00:00, 27.62it/s, fbest=230]\n",
      "100%|██████████| 60/60 [00:02<00:00, 27.33it/s, fbest=2.22e+3]\n",
      "100%|██████████| 60/60 [00:01<00:00, 33.65it/s, fbest=4.26e+3]\n",
      "100%|██████████| 60/60 [00:02<00:00, 25.21it/s, fbest=1.44e+3]\n",
      "100%|██████████| 60/60 [00:01<00:00, 32.40it/s, fbest=3.37e+3]\n"
     ]
    }
   ],
   "source": [
    "random_studies = []\n",
    "for i in range(num_optimizations):\n",
    "    study = SnarBenchmark()\n",
    "    study.optimize(RandomStrategy(use_sobol=False), batch_size=batch_size, num_iterations=num_iterations)\n",
    "    random_studies.append(study)"
   ]
  },
  {
   "cell_type": "code",
   "execution_count": 11,
   "metadata": {},
   "outputs": [
    {
     "data": {
      "image/png": "[encoded data removed]",
      "text/plain": [
       "<Figure size 432x288 with 1 Axes>"
      ]
     },
     "metadata": {
      "needs_background": "light"
     },
     "output_type": "display_data"
    }
   ],
   "source": [
    "#ax = plot_optimization_history(bo_studies,error_bar=True, log_scale=True, label = \"qEI\")\n",
    "ax = plot_optimization_history(random_studies,error_bar=True, log_scale=True, label = \"random\", best_possible_f=random_studies[0].best_possible_hypervolume,)\n",
    "ax.legend()\n",
    "plt.show()"
   ]
  },
  {
   "cell_type": "markdown",
   "metadata": {},
   "source": [
    "### QNEHVI"
   ]
  },
  {
   "cell_type": "code",
   "execution_count": 13,
   "metadata": {},
   "outputs": [
    {
     "name": "stderr",
     "output_type": "stream",
     "text": [
      "100%|██████████| 60/60 [21:25<00:00, 21.43s/it, fbest=9.6e+3] \n"
     ]
    }
   ],
   "source": [
    "bo_studies = []\n",
    "\n",
    "for i in range(num_optimizations):\n",
    "    study = SnarBenchmark()\n",
    "    #study.optimize(BoTorchQnehviStrategy(ref_point=study.ref_point,categorical_encoding=\"ONE_HOT\",categorical_method=\"EXHAUSTIVE\"),num_iterations=50)\n",
    "    study.optimize(BoTorchQehviStrategy(ref_point=study.ref_point,categorical_encoding=\"ONE_HOT\",categorical_method=\"EXHAUSTIVE\"),num_iterations=num_iterations)\n",
    "    bo_studies.append(study)"
   ]
  },
  {
   "cell_type": "code",
   "execution_count": 14,
   "metadata": {},
   "outputs": [
    {
     "name": "stdout",
     "output_type": "stream",
     "text": [
      "9603.11690522561\n"
     ]
    },
    {
     "data": {
      "image/png": "[encoded data removed]",
      "text/plain": [
       "<Figure size 432x288 with 1 Axes>"
      ]
     },
     "metadata": {
      "needs_background": "light"
     },
     "output_type": "display_data"
    }
   ],
   "source": [
    "from everest.utils.multiobjective import compute_hypervolume, get_pareto_front\n",
    "\n",
    "study = bo_studies[0]\n",
    "\n",
    "\n",
    "optimal_experiments = get_pareto_front(study.domain,study.experiments)\n",
    "print(compute_hypervolume(study.domain, optimal_experiments, study.ref_point))\n",
    "\n",
    "\n",
    "fig, ax = plt.subplots()\n",
    "ax.scatter(study.experiments.sty,study.experiments.e_factor)\n",
    "ax.scatter(optimal_experiments.sty,optimal_experiments.e_factor)\n",
    "plt.show()"
   ]
  }
 ],
 "metadata": {
  "interpreter": {
   "hash": "47bf1f489ff366e67c08ee87adce59d93200e12bd30fdff04b447f0b8baa1421"
  },
  "kernelspec": {
   "display_name": "Python 3.7.3 ('botorch_devel')",
   "language": "python",
   "name": "python3"
  },
  "language_info": {
   "codemirror_mode": {
    "name": "ipython",
    "version": 3
   },
   "file_extension": ".py",
   "mimetype": "text/x-python",
   "name": "python",
   "nbconvert_exporter": "python",
   "pygments_lexer": "ipython3",
   "version": "3.7.3"
  },
  "orig_nbformat": 4
 },
 "nbformat": 4,
 "nbformat_minor": 2
}
